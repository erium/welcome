{
 "cells": [
  {
   "cell_type": "code",
   "connections": [],
   "execution_count": 2,
   "metadata": {
    "id": "b0a1d31e-58d8-40f2-9816-9f59301e084d"
   },
   "outputs": [],
   "source": [
    "import sys\r\n",
    "\r\n",
    "sys.path.append('../../{{ cookiecutter.module_name }}')\r\n",
    "import data_io"
   ]
  }
 ],
 "metadata": {},
 "nbformat": 4,
 "nbformat_minor": 0
}
