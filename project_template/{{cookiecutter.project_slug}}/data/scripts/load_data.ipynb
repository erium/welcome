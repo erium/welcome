{
 "cells": [
  {
   "cell_type": "code",
   "connections": [],
   "execution_count": 0,
   "metadata": {
    "id": "2e54b0bf-158b-4ba7-855e-7a57ce803072"
   },
   "outputs": [],
   "source": [
    "import sys\r\n",
    "\r\n",
    "sys.path.append('../../{{ cookiecutter.module_name }}')\r\n",
    "import data_io"
   ]
  }
 ],
 "metadata": {},
 "nbformat": 4,
 "nbformat_minor": 0
}
