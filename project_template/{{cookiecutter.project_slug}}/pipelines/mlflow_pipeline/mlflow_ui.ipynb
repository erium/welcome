{
 "cells": [
  {
   "cell_type": "markdown",
   "connections": [],
   "execution_count": 0,
   "metadata": {
    "id": "76f9d4ca-565e-4eac-a54e-056b04c8d975"
   },
   "outputs": [],
   "source": [
    "The code below opens up the mlflow ui"
   ]
  },
  {
   "cell_type": "code",
   "connections": [],
   "execution_count": 0,
   "metadata": {
    "id": "db432a91-0722-4630-9b6b-32fb06c8fbbd"
   },
   "outputs": [],
   "source": [
    "!get_apps_url.sh"
   ]
  },
  {
   "cell_type": "code",
   "connections": [],
   "execution_count": 0,
   "metadata": {
    "id": "59899a6b-fd82-47c6-9683-4b2a63eda91a"
   },
   "outputs": [],
   "source": [
    "# Opens on port 8501\r\n",
    "!mlflow ui --port 8501 --host 0.0.0.0"
   ]
  }
 ],
 "metadata": {},
 "nbformat": 4,
 "nbformat_minor": 0
}
