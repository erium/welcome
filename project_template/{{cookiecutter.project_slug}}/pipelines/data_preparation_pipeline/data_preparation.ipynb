{
 "cells": [
  {
   "cell_type": "markdown",
   "connections": [],
   "execution_count": 0,
   "metadata": {
    "id": "5eead693-2015-4171-8684-cbb363c1dc9c"
   },
   "outputs": [],
   "source": [
    "Run this file to execute the data preparation pipeline"
   ]
  },
  {
   "cell_type": "code",
   "connections": [],
   "execution_count": 0,
   "metadata": {
    "id": "060ae15a-f526-4fae-990e-912ecd69a89d"
   },
   "outputs": [],
   "source": [
    "!python data_preparation.py"
   ]
  }
 ],
 "metadata": {},
 "nbformat": 4,
 "nbformat_minor": 0
}
