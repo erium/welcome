{
 "cells": [
  {
   "cell_type": "markdown",
   "connections": [],
   "execution_count": 0,
   "metadata": {
    "id": "5eead693-2015-4171-8684-cbb363c1dc9c"
   },
   "outputs": [],
   "source": [
    "Run this file to execute the data preparation pipeline"
   ]
  },
  {
   "cell_type": "code",
   "connections": [],
   "execution_count": 0,
   "metadata": {
    "id": "0046bc49-27ca-452a-861e-92222905d28a"
   },
   "outputs": [],
   "source": [
    "# The wine quality csv file\r\n",
    "csv_path = \"http://archive.ics.uci.edu/ml/machine-learning-databases/wine-quality/winequality-red.csv\"\r\n",
    "raw_data_path = './../../data/0_raw/example_raw_data.csv'"
   ]
  },
  {
   "cell_type": "code",
   "connections": [],
   "execution_count": 0,
   "metadata": {
    "id": "060ae15a-f526-4fae-990e-912ecd69a89d"
   },
   "outputs": [],
   "source": [
    "!python data_preparation.py {csv_path} {raw_data_path}"
   ]
  }
 ],
 "metadata": {},
 "nbformat": 4,
 "nbformat_minor": 0
}
