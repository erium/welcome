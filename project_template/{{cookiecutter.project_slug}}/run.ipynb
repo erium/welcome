{
 "cells": [
  {
   "cell_type": "code",
   "connections": [],
   "execution_count": 0,
   "metadata": {
    "id": "1b9d797b-fca0-4fa0-a747-5860374ad08a"
   },
   "outputs": [],
   "source": []
  }
 ],
 "metadata": {},
 "nbformat": 4,
 "nbformat_minor": 0
}
