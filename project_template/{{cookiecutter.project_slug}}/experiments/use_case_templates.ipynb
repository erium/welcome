{
 "cells": [
  {
   "cell_type": "markdown",
   "connections": [],
   "execution_count": 0,
   "metadata": {
    "id": "722d66f0-b5ae-4e98-9e31-262c054fcb8b"
   },
   "outputs": [],
   "source": [
    "This notebook allows you to easily copy Halerium data science use case templates\r\n",
    "\r\n",
    "You may view the explanations and use case guide for these templates in the use_case_templates folder in the welcome directory"
   ]
  },
  {
   "cell_type": "code",
   "connections": [],
   "execution_count": 0,
   "metadata": {
    "id": "956537e5-e1fd-4928-9290-67e1f560694d"
   },
   "outputs": [],
   "source": [
    "from cookiecutter.main import cookiecutter\n",
    "from datetime import date\n",
    "\n",
    "path = './'\n",
    "\n",
    "use_case = 'outlier_detection' # ['design_of_experiments', 'outlier_detection', 'prediction]\n",
    "\n",
    "repo = 'https://github.com/erium/welcome'\n",
    "directory = 'use_case_templates/' + use_case\n",
    "cookiecutter(repo, directory=directory, output_dir=path, extra_context={'timestamp': str(date.today())})"
   ]
  },
  {
   "cell_type": "markdown",
   "connections": [],
   "execution_count": 0,
   "metadata": {
    "id": "bde00e65-5c9e-4792-95f2-02feaf8a1021"
   },
   "outputs": [],
   "source": [
    "Available use case templates"
   ]
  },
  {
   "cell_type": "code",
   "connections": [],
   "execution_count": 0,
   "metadata": {
    "id": "762ab160-f5da-48d8-a1ca-94eca816404f"
   },
   "outputs": [],
   "source": [
    "# Change dir to top level\r\n",
    "%cd ../../..\r\n",
    "\r\n",
    "# List the directories\r\n",
    "!git ls-tree --name-only HEAD -- use_case_templates/."
   ]
  },
  {
   "cell_type": "code",
   "connections": [],
   "execution_count": 0,
   "metadata": {
    "id": "34ab3aea-0f7e-45b5-b979-eba38ee209ac"
   },
   "outputs": [],
   "source": []
  }
 ],
 "metadata": {},
 "nbformat": 4,
 "nbformat_minor": 0
}
