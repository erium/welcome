{
 "cells": [
  {
   "cell_type": "code",
   "connections": [],
   "execution_count": 2,
   "metadata": {
    "id": "b56833e1-df2a-49cb-be14-04defca05b65"
   },
   "outputs": [],
   "source": [
    "import sys\r\n",
    "\r\n",
    "sys.path.append('../../')\r\n",
    "import {{ cookiecutter.module_name }}"
   ]
  },
  {
   "cell_type": "code",
   "connections": [],
   "execution_count": 0,
   "metadata": {
    "id": "c5e1d819-e8e1-4d3e-9128-2f4da01ef334"
   },
   "outputs": [],
   "source": []
  }
 ],
 "metadata": {},
 "nbformat": 4,
 "nbformat_minor": 0
}
