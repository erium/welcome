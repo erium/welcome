{
 "cells": [
  {
   "cell_type": "code",
   "connections": [],
   "execution_count": 0,
   "metadata": {
    "id": "0c8a9b47-1b89-4fbe-9b0a-e2f0ea5a4edb"
   },
   "outputs": [],
   "source": [
    "import os\r\n",
    "import json\r\n",
    "import datetime\r\n",
    "from cookiecutter.main import cookiecutter"
   ]
  },
  {
   "cell_type": "code",
   "connections": [],
   "execution_count": 0,
   "metadata": {
    "id": "74f23205-5dda-402b-95d3-0860c573c377"
   },
   "outputs": [],
   "source": [
    "with open(\"use_case_templates/templates.json\", \"r\") as f:\r\n",
    "    use_case_templates = json.load(f)"
   ]
  },
  {
   "cell_type": "code",
   "connections": [],
   "execution_count": 0,
   "metadata": {
    "id": "0f6e4dc4-a985-40c2-b130-bf182b9912bd"
   },
   "outputs": [],
   "source": [
    "def apply_template(category,\r\n",
    "                   name,\r\n",
    "                   username,\r\n",
    "                   initials,\r\n",
    "                   output_dir,\r\n",
    "                   timestamp=None):\r\n",
    "\r\n",
    "    if timestamp is None:\r\n",
    "        timestamp = str(datetime.datetime.now())[:10]\r\n",
    "\r\n",
    "    cat_data = None\r\n",
    "    for itercat in use_case_templates[\"categories\"]:\r\n",
    "        if itercat[\"name\"] == category:\r\n",
    "            cat_data = itercat\r\n",
    "            break\r\n",
    "    if cat_data is None:\r\n",
    "        raise ValueError(f\"Category {category} not found.\")\r\n",
    "\r\n",
    "    temp_data = None\r\n",
    "    for itertemp in cat_data[\"templates\"]:\r\n",
    "        if itertemp[\"name\"] == name:\r\n",
    "            temp_data = itertemp\r\n",
    "    if temp_data is None:\r\n",
    "        raise ValueError(f\"Template {name} not found in category {category}.\")\r\n",
    "    \r\n",
    "    command = temp_data[\"command\"]\r\n",
    "\r\n",
    "    command = command.replace(\"{{user.name}}\", username)\r\n",
    "    command = command.replace(\"{{user.initials}}\", initials)\r\n",
    "    command = command.replace(\"{{timestamp}}\", timestamp)\r\n",
    "    command = command.replace(\"{{output-dir}}\", output_dir)\r\n",
    "\r\n",
    "    os.system('cookiecutter \".\" '+command)"
   ]
  },
  {
   "cell_type": "code",
   "connections": [],
   "execution_count": 0,
   "metadata": {
    "id": "5f8b9f7d-ee8d-40b1-8d28-9b6609428ab0"
   },
   "outputs": [],
   "source": [
    "print(\"available templates:\")\r\n",
    "for category in use_case_templates[\"categories\"]:\r\n",
    "    print(\"category:\", category[\"name\"])\r\n",
    "    for template in category[\"templates\"]:\r\n",
    "        print(\"    template:\", template[\"name\"])"
   ]
  },
  {
   "cell_type": "code",
   "connections": [],
   "execution_count": 0,
   "metadata": {
    "id": "4d5470da-6b98-496b-9b70-8ba1eb981109"
   },
   "outputs": [],
   "source": [
    "apply_template(\"Prediction\", \"Regression\", \"Maksim Greiner\", \"mg\", \".\")"
   ]
  },
  {
   "cell_type": "markdown",
   "connections": [],
   "execution_count": 0,
   "metadata": {
    "id": "f2cfc58c-a138-4110-a15b-625629830fc2"
   },
   "outputs": [],
   "source": [
    "Python cookiecutter"
   ]
  },
  {
   "cell_type": "code",
   "connections": [],
   "execution_count": 0,
   "metadata": {
    "id": "50253c69-a718-4838-8fb5-5b7eef95f255"
   },
   "outputs": [],
   "source": [
    "# cookiecutter_folder = '.'"
   ]
  },
  {
   "cell_type": "code",
   "connections": [],
   "execution_count": 0,
   "metadata": {
    "id": "f2e413f1-5f3d-4f02-9780-7a74be83ba2e"
   },
   "outputs": [],
   "source": [
    "# Specify the name of your project folder (copied into the experiments folder)\r\n",
    "# project_folder = 'my-new-project' # Enter the name of your project folder\r\n",
    "\r\n",
    "# experiments_dir = glob.glob(\"/home/jovyan/**/\" + project_folder + \"/experiments/\", recursive=True)\r\n",
    "# if len(experiments_dir) > 1:\r\n",
    "#     print(\"Multiple project folders with the same name. You may select which project folder is correct\")\r\n",
    "#     print(experiments_dir)\r\n",
    "#     index = int(input(\"Please input the index of the correct folder\"))\r\n",
    "#     experiments_dir = experiments_dir[index]\r\n",
    "# else:\r\n",
    "#     experiments_dir = experiments_dir[0]\r\n",
    "# print(experiments_dir)\r\n",
    "\r\n",
    "# cookiecutter(cookiecutter_folder, \r\n",
    "#             extra_context={'timestamp': str(date.today()), 'author_name': 'zihan', 'author_initials': 'zw', 'use_case_name': 'regression'},\r\n",
    "#             output_dir=experiments_dir)"
   ]
  },
  {
   "cell_type": "code",
   "connections": [],
   "execution_count": 0,
   "metadata": {
    "id": "1bc0a0f3-9454-4ee0-b23b-81dd07a28239"
   },
   "outputs": [],
   "source": [
    "# OR specify a folder directly to copy the template\r\n",
    "# directory = '.'\r\n",
    "\r\n",
    "# cookiecutter(cookiecutter_folder, no_input = True,\r\n",
    "#             extra_context={'timestamp': str(date.today()), 'author_name': 'zihan', 'author_initials': 'zw', 'use_case_name': 'regression'},\r\n",
    "#             output_dir=directory)"
   ]
  }
 ],
 "metadata": {},
 "nbformat": 4,
 "nbformat_minor": 0
}
