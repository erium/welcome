{
 "cells": [
  {
   "cell_type": "code",
   "connections": [],
   "execution_count": 0,
   "metadata": {
    "id": "97156f16-bc72-49ef-a47c-56e7dc007cfa"
   },
   "outputs": [],
   "source": [
    "import sys\n",
    "sys.path.append(\"../module\")\n",
    "import product_module"
   ]
  },
  {
   "attachments": {},
   "cell_type": "code",
   "connections": [],
   "execution_count": 0,
   "metadata": {
    "id": "6369041f-f1c8-4be7-acdf-451c3d8d1afe"
   },
   "outputs": [],
   "source": []
  }
 ],
 "metadata": {},
 "nbformat": 4,
 "nbformat_minor": 0
}
