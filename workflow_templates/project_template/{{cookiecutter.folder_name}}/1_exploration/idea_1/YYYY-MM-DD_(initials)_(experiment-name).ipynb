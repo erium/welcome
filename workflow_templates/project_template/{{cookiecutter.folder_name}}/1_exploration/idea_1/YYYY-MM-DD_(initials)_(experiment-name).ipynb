{
 "cells": [
  {
   "cell_type": "code",
   "connections": [],
   "execution_count": 0,
   "metadata": {
    "id": "013fdf99-e9fe-466f-940a-a44547d0ce90"
   },
   "outputs": [],
   "source": [
    "# <halerium id=\"550fe32f-50f6-4501-854b-9562167b0f2e\">\n",
    "# Link to experiment card\n",
    "# </halerium id=\"550fe32f-50f6-4501-854b-9562167b0f2e\">"
   ]
  }
 ],
 "metadata": {},
 "nbformat": 4,
 "nbformat_minor": 0
}
