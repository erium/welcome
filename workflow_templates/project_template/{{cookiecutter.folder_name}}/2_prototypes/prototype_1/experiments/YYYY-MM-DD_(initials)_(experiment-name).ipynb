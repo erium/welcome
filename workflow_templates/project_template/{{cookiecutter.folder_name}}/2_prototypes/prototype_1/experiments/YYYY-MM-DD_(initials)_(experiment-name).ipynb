{
 "cells": [
  {
   "attachments": {},
   "cell_type": "code",
   "connections": [],
   "execution_count": 0,
   "metadata": {
    "id": "6369041f-f1c8-4be7-acdf-451c3d8d1afe"
   },
   "outputs": [],
   "source": [
    "# <halerium id=\"f9f4fae9-66f7-4006-8934-ae026588aeed\">\n",
    "# Link to prototype board\n",
    "# </halerium id=\"f9f4fae9-66f7-4006-8934-ae026588aeed\">"
   ]
  },
  {
   "cell_type": "code",
   "connections": [],
   "execution_count": 0,
   "metadata": {
    "id": "97156f16-bc72-49ef-a47c-56e7dc007cfa"
   },
   "outputs": [],
   "source": [
    "# import the current state of the prototype's module\n",
    "import sys\n",
    "sys.path.append(\"../module\")\n",
    "import product_module"
   ]
  }
 ],
 "metadata": {},
 "nbformat": 4,
 "nbformat_minor": 0
}
