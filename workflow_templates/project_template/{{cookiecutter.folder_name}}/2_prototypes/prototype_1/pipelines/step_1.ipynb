{
 "cells": [
  {
   "cell_type": "code",
   "connections": [],
   "execution_count": 0,
   "metadata": {
    "id": "a4419d90-7d20-4e5d-abb0-ba1d92156875"
   },
   "outputs": [],
   "source": [
    "import sys\n",
    "sys.path.append(\"../module\")\n",
    "import product_module"
   ]
  },
  {
   "attachments": {},
   "cell_type": "code",
   "connections": [],
   "execution_count": 0,
   "metadata": {
    "id": "c8781b8e-7a21-4835-88ae-88817ff69dd1"
   },
   "outputs": [],
   "source": []
  }
 ],
 "metadata": {},
 "nbformat": 4,
 "nbformat_minor": 0
}
