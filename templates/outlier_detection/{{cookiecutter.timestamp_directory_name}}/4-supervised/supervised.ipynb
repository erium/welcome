{
 "cells": [
  {
   "cell_type": "markdown",
   "connections": [],
   "execution_count": 0,
   "metadata": {
    "id": "19edc84f-f55e-471a-a184-1d6f7bdc14da"
   },
   "outputs": [],
   "source": [
    "# Supervised outlier detection"
   ]
  },
  {
   "cell_type": "markdown",
   "connections": [],
   "execution_count": 0,
   "metadata": {
    "id": "78a9a205-1f35-4443-b938-d562d656ff99"
   },
   "outputs": [],
   "source": [
    "## How to use the notebook\r\n",
    "\r\n",
    "The following cells:\r\n",
    "- specify objective, variables, and data types,\r\n",
    "- set up the outlier detection models,\r\n",
    "- read dataset,\r\n",
    "- present results from the models.\r\n",
    "\r\n",
    "To just see how it works for a toy example, simply run the whole notebook as is.\r\n",
    "\r\n",
    "For your own project, adjust the details about objectives, variables, dataset etc. and then execute all cells in order.\r\n",
    "The board \"supervised.board\" will help you with detailed instructions."
   ]
  },
  {
   "cell_type": "markdown",
   "connections": [],
   "execution_count": 0,
   "metadata": {
    "id": "c6871ed6-0584-4c27-b60c-7634ef923017"
   },
   "outputs": [],
   "source": [
    "# Imports and General Setup\r\n",
    "Requires imbalanced-learn"
   ]
  },
  {
   "cell_type": "code",
   "connections": [],
   "execution_count": 1,
   "metadata": {
    "id": "969a9c3f-687b-481c-86fc-d167b3a4c0d1"
   },
   "outputs": [],
   "source": [
    "import os\r\n",
    "import shutil\r\n",
    "from distutils.dir_util import copy_tree\r\n",
    "\r\n",
    "import time\r\n",
    "from datetime import datetime\r\n",
    "\r\n",
    "import seaborn as sns\r\n",
    "import matplotlib.pyplot as plt\r\n",
    "from matplotlib.colors import ListedColormap\r\n",
    "\r\n",
    "import numpy as np\r\n",
    "import pandas as pd\r\n",
    "\r\n",
    "from sklearn.model_selection import train_test_split\r\n",
    "from sklearn.preprocessing import StandardScaler\r\n",
    "\r\n",
    "from imblearn.over_sampling import RandomOverSampler\r\n",
    "from imblearn.over_sampling import SMOTE \r\n",
    "\r\n",
    "from sklearn.neural_network import MLPClassifier\r\n",
    "from sklearn.neighbors import KNeighborsClassifier\r\n",
    "from sklearn.svm import SVC\r\n",
    "from sklearn.gaussian_process import GaussianProcessClassifier\r\n",
    "from sklearn.gaussian_process.kernels import RBF\r\n",
    "from sklearn.tree import DecisionTreeClassifier\r\n",
    "from sklearn.ensemble import RandomForestClassifier, AdaBoostClassifier\r\n",
    "from sklearn.naive_bayes import GaussianNB\r\n",
    "from sklearn.discriminant_analysis import QuadraticDiscriminantAnalysis\r\n",
    "\r\n",
    "from sklearn.metrics import classification_report, plot_roc_curve, roc_auc_score, confusion_matrix, precision_recall_fscore_support\r\n",
    "\r\n",
    "from warnings import simplefilter\r\n",
    "from sklearn.exceptions import ConvergenceWarning\r\n",
    "simplefilter(\"ignore\", category=FutureWarning)\r\n",
    "\r\n",
    "from joblib import dump, load"
   ]
  },
  {
   "cell_type": "markdown",
   "connections": [],
   "execution_count": 0,
   "metadata": {
    "id": "9d01340d-d2eb-4d5a-9527-72a233967e5a"
   },
   "outputs": [],
   "source": [
    "# Project"
   ]
  },
  {
   "cell_type": "code",
   "connections": [
    {
     "endLine": 1,
     "id": "c14a4950-eda6-4a0c-aec9-ef4cc684a6ef",
     "path": "/Personal/zihan/Outlier Detection/supervised.ipynb",
     "startLine": 1
    }
   ],
   "execution_count": 2,
   "metadata": {
    "id": "0dc20a60-cd4c-44ba-9f98-74743d02e4a2"
   },
   "outputs": [],
   "source": [
    "experiment_name = {{cookiecutter.project_name}}  # please provide a name for the outlier detection experiment"
   ]
  },
  {
   "cell_type": "markdown",
   "connections": [],
   "execution_count": 0,
   "metadata": {
    "id": "39648fbb-b72a-458b-9a6f-71690d72c102"
   },
   "outputs": [],
   "source": [
    "# Dataset"
   ]
  },
  {
   "cell_type": "code",
   "connections": [
    {
     "endLine": 3,
     "id": "8d72d13e-8b84-4b98-a2f7-b030a4303531",
     "path": "/Personal/zihan/OutlierCookie/{{cookiecutter.timestamp_directory_name}}/4-supervised/supervised.ipynb",
     "startLine": 1
    }
   ],
   "execution_count": 3,
   "metadata": {
    "id": "aeab425b-579f-4d9f-892c-95e9d7406c72"
   },
   "outputs": [],
   "source": [
    "time_series = True # Specify if the data is time series\n",
    "path = '{{cookiecutter.data_path}}' # Specify the path of the data\n",
    "test_size = 0.25\n",
    "\n",
    "if path == 'default example':\n",
    "    path = 'https://raw.githubusercontent.com/erium/halerium-example-data/main/outlier_detection/cpu4.csv'\n",
    "\n",
    "if time_series:\n",
    "    df = pd.read_csv(path, parse_dates=['date'], index_col = 'date')\n",
    "else:\n",
    "    df = pd.read_csv(path)\n",
    "\n",
    "num_col = len(df.columns)\n",
    "\n",
    "path = './../out'\n",
    "isExist = os.path.exists(path)\n",
    "if isExist:\n",
    "  for root, dirs, files in os.walk(path):\n",
    "      for f in files:\n",
    "          os.unlink(os.path.join(root, f))\n",
    "      for d in dirs:\n",
    "          shutil.rmtree(os.path.join(root, d))\n",
    "else:\n",
    "  os.makedirs(path)"
   ]
  },
  {
   "cell_type": "markdown",
   "connections": [],
   "execution_count": 0,
   "metadata": {
    "id": "c770e915-c920-4aa4-8532-f652f1c31645"
   },
   "outputs": [],
   "source": [
    "## Visualising the dataset"
   ]
  },
  {
   "cell_type": "code",
   "connections": [],
   "execution_count": 4,
   "metadata": {
    "id": "e39ecd04-bc3d-4dcb-a6c4-8f40629b7518"
   },
   "outputs": [
    {
     "name": "stdout",
     "output_type": "stream",
     "text": [
      "Number of outliers:  209\n"
     ]
    },
    {
     "data": {
      "text/html": [
       "<div>\n",
       "<style scoped>\n",
       "    .dataframe tbody tr th:only-of-type {\n",
       "        vertical-align: middle;\n",
       "    }\n",
       "\n",
       "    .dataframe tbody tr th {\n",
       "        vertical-align: top;\n",
       "    }\n",
       "\n",
       "    .dataframe thead th {\n",
       "        text-align: right;\n",
       "    }\n",
       "</style>\n",
       "<table border=\"1\" class=\"dataframe\">\n",
       "  <thead>\n",
       "    <tr style=\"text-align: right;\">\n",
       "      <th></th>\n",
       "      <th>value</th>\n",
       "      <th>outlier</th>\n",
       "    </tr>\n",
       "    <tr>\n",
       "      <th>date</th>\n",
       "      <th></th>\n",
       "      <th></th>\n",
       "    </tr>\n",
       "  </thead>\n",
       "  <tbody>\n",
       "    <tr>\n",
       "      <th>1469376000</th>\n",
       "      <td>0.847300</td>\n",
       "      <td>0</td>\n",
       "    </tr>\n",
       "    <tr>\n",
       "      <th>1469376300</th>\n",
       "      <td>-0.036137</td>\n",
       "      <td>0</td>\n",
       "    </tr>\n",
       "    <tr>\n",
       "      <th>1469376600</th>\n",
       "      <td>0.074292</td>\n",
       "      <td>0</td>\n",
       "    </tr>\n",
       "    <tr>\n",
       "      <th>1469376900</th>\n",
       "      <td>0.074292</td>\n",
       "      <td>0</td>\n",
       "    </tr>\n",
       "    <tr>\n",
       "      <th>1469377200</th>\n",
       "      <td>-0.036137</td>\n",
       "      <td>0</td>\n",
       "    </tr>\n",
       "    <tr>\n",
       "      <th>...</th>\n",
       "      <td>...</td>\n",
       "      <td>...</td>\n",
       "    </tr>\n",
       "    <tr>\n",
       "      <th>1474644900</th>\n",
       "      <td>0.074292</td>\n",
       "      <td>0</td>\n",
       "    </tr>\n",
       "    <tr>\n",
       "      <th>1474645200</th>\n",
       "      <td>0.295152</td>\n",
       "      <td>0</td>\n",
       "    </tr>\n",
       "    <tr>\n",
       "      <th>1474645500</th>\n",
       "      <td>0.074292</td>\n",
       "      <td>0</td>\n",
       "    </tr>\n",
       "    <tr>\n",
       "      <th>1474645800</th>\n",
       "      <td>-0.146567</td>\n",
       "      <td>0</td>\n",
       "    </tr>\n",
       "    <tr>\n",
       "      <th>1474646100</th>\n",
       "      <td>-0.036137</td>\n",
       "      <td>0</td>\n",
       "    </tr>\n",
       "  </tbody>\n",
       "</table>\n",
       "<p>17568 rows × 2 columns</p>\n",
       "</div>"
      ],
      "text/plain": [
       "               value  outlier\n",
       "date                         \n",
       "1469376000  0.847300        0\n",
       "1469376300 -0.036137        0\n",
       "1469376600  0.074292        0\n",
       "1469376900  0.074292        0\n",
       "1469377200 -0.036137        0\n",
       "...              ...      ...\n",
       "1474644900  0.074292        0\n",
       "1474645200  0.295152        0\n",
       "1474645500  0.074292        0\n",
       "1474645800 -0.146567        0\n",
       "1474646100 -0.036137        0\n",
       "\n",
       "[17568 rows x 2 columns]"
      ]
     },
     "execution_count": 4,
     "metadata": {},
     "output_type": "execute_result"
    }
   ],
   "source": [
    "print('Number of outliers: ', len(df[df['outlier'] == 1]))\r\n",
    "df"
   ]
  },
  {
   "cell_type": "code",
   "connections": [],
   "execution_count": 5,
   "metadata": {
    "id": "19ed81de-6579-49bb-a255-3d0754499a68"
   },
   "outputs": [
    {
     "data": {
      "text/plain": [
       "<seaborn.axisgrid.PairGrid at 0x7feb3e7b8a20>"
      ]
     },
     "execution_count": 5,
     "metadata": {},
     "output_type": "execute_result"
    },
    {
     "data": {
      "image/png": "[encoded data removed]",
      "text/plain": [
       "<Figure size 220.25x180 with 2 Axes>"
      ]
     },
     "metadata": {
      "needs_background": "dark"
     },
     "output_type": "display_data",
     "transient": {}
    }
   ],
   "source": [
    "pairplot_hue = 'outlier'\r\n",
    "palette ={0: \"C0\", 1: \"C3\"}\r\n",
    "sns.pairplot(df, hue = pairplot_hue, palette=palette)"
   ]
  },
  {
   "cell_type": "code",
   "connections": [],
   "execution_count": 6,
   "metadata": {
    "id": "ecf0d99e-420b-4a17-b560-ae3b5183b8f1"
   },
   "outputs": [
    {
     "name": "stdout",
     "output_type": "stream",
     "text": [
      "['value']\n"
     ]
    }
   ],
   "source": [
    "X = df.drop(columns='outlier')\r\n",
    "y = df['outlier']\r\n",
    "\r\n",
    "labels = list(X.columns)\r\n",
    "num_labels = len(labels)\r\n",
    "print(labels)"
   ]
  },
  {
   "cell_type": "markdown",
   "connections": [],
   "execution_count": 0,
   "metadata": {
    "id": "9f8c5b49-eb10-44b1-979a-e51c524f4a70"
   },
   "outputs": [],
   "source": [
    "Split train and test data"
   ]
  },
  {
   "cell_type": "code",
   "connections": [],
   "execution_count": 7,
   "metadata": {
    "id": "b6061a37-d4f9-4d6f-8c4a-711cca97dc05"
   },
   "outputs": [],
   "source": [
    "X_train, X_test, y_train, y_test = train_test_split(X, y, test_size = test_size)"
   ]
  },
  {
   "cell_type": "markdown",
   "connections": [],
   "execution_count": 0,
   "metadata": {
    "id": "978d9613-b09e-4654-89c7-3f2c41b3510f"
   },
   "outputs": [],
   "source": [
    "# Dealing with imbalanced data"
   ]
  },
  {
   "cell_type": "code",
   "connections": [],
   "execution_count": 8,
   "metadata": {
    "id": "1ddf22f9-4e8e-4019-a142-fb58c9c037e5"
   },
   "outputs": [
    {
     "name": "stdout",
     "output_type": "stream",
     "text": [
      "Non-outlier    13013\n",
      "Outlier          163\n",
      "dtype: int64\n"
     ]
    }
   ],
   "source": [
    "data_skew = pd.Series({'Non-outlier': len(y_train.loc[y_train == 0]), 'Outlier': len(y_train.loc[y_train == 1])})\r\n",
    "print(data_skew)"
   ]
  },
  {
   "cell_type": "code",
   "connections": [
    {
     "endLine": 1,
     "id": "477155f5-def6-47ca-9b83-2691c9f75628",
     "path": "/Personal/zihan/Outlier Detection/supervised.ipynb",
     "startLine": 1
    }
   ],
   "execution_count": 9,
   "metadata": {
    "id": "ac87d3c8-1eed-43d0-a283-4c59a696e268"
   },
   "outputs": [],
   "source": [
    " balance_data = 'smote' # 'smote', 'oversampling', or 'none'"
   ]
  },
  {
   "cell_type": "code",
   "connections": [],
   "execution_count": 10,
   "metadata": {
    "id": "b7074694-12a8-44e8-974d-f9c7e98c744a"
   },
   "outputs": [
    {
     "name": "stdout",
     "output_type": "stream",
     "text": [
      "Non-outlier    13013\n",
      "Outlier        13013\n",
      "dtype: int64\n"
     ]
    }
   ],
   "source": [
    "if balance_data == 'oversampling':\r\n",
    "    ros = RandomOverSampler()\r\n",
    "    X_train, y_train = ros.fit_resample(X_train, y_train)\r\n",
    "elif balance_data == 'smote':\r\n",
    "    sm = SMOTE()\r\n",
    "    X_train, y_train = sm.fit_resample(X_train, y_train)\r\n",
    "data_skew = pd.Series({'Non-outlier': len(y_train.loc[y_train == 0]), 'Outlier': len(y_train.loc[y_train == 1])})\r\n",
    "print(data_skew)"
   ]
  },
  {
   "cell_type": "markdown",
   "connections": [],
   "execution_count": 0,
   "metadata": {
    "id": "81420844-2f1e-4987-a683-2af8f1a8e021"
   },
   "outputs": [],
   "source": [
    "# Normalising the data"
   ]
  },
  {
   "cell_type": "code",
   "connections": [],
   "execution_count": 11,
   "metadata": {
    "id": "fbc8de14-3a72-4573-a2bd-9cd3ecc848d8"
   },
   "outputs": [
    {
     "data": {
      "text/plain": [
       "['./../out/scaler.joblib']"
      ]
     },
     "execution_count": 11,
     "metadata": {},
     "output_type": "execute_result"
    }
   ],
   "source": [
    "scaler = StandardScaler()\r\n",
    "\r\n",
    "scaler.fit(X_train)\r\n",
    "X_train = pd.DataFrame(scaler.transform(X_train), columns = X_train.columns)\r\n",
    "X_test = pd.DataFrame(scaler.transform(X_test), columns = X_test.columns)\r\n",
    "\r\n",
    "dump(scaler, path + '/scaler.joblib')"
   ]
  },
  {
   "cell_type": "markdown",
   "connections": [],
   "execution_count": 0,
   "metadata": {
    "id": "f0a835f3-18ed-4ddb-9878-49f1b4dfcfa3"
   },
   "outputs": [],
   "source": [
    "# Classification Models"
   ]
  },
  {
   "cell_type": "code",
   "connections": [
    {
     "endLine": 2,
     "id": "f5bb989a-52e5-407e-be09-53c3e4c5cf08",
     "path": "/Personal/zihan/Outlier Detection/supervised.ipynb",
     "startLine": 1
    }
   ],
   "execution_count": 12,
   "metadata": {
    "id": "6b6779aa-c9d6-4f0b-bfeb-5cd59b041068"
   },
   "outputs": [],
   "source": [
    "run_models = [\"Nearest Neighbors\", \"Linear SVM\", \"RBF SVM\", \"Decision Tree\", \"Random Forest\", \"Neural Net\", \"AdaBoost\", \"Naive Bayes\", \"QDA\"]\n",
    "run_models_data = {}\n",
    "num_models = len(run_models)\n",
    "\n",
    "models = [\n",
    "    \"Nearest Neighbors\",\n",
    "    \"Linear SVM\",\n",
    "    \"RBF SVM\",\n",
    "    \"Gaussian Process\", # May be quite slow\n",
    "    \"Decision Tree\",\n",
    "    \"Random Forest\",\n",
    "    \"Neural Net\",\n",
    "    \"AdaBoost\",\n",
    "    \"Naive Bayes\",\n",
    "    \"QDA\",\n",
    "]\n"
   ]
  },
  {
   "cell_type": "markdown",
   "connections": [],
   "execution_count": 0,
   "metadata": {
    "id": "094c7a0a-71b8-4b1b-84ff-c078edb162b4"
   },
   "outputs": [],
   "source": [
    "## K Nearest Neighbors"
   ]
  },
  {
   "cell_type": "code",
   "connections": [],
   "execution_count": 13,
   "metadata": {
    "id": "00d858dc-0ac3-406e-96b7-5ef5404767d5"
   },
   "outputs": [
    {
     "name": "stdout",
     "output_type": "stream",
     "text": [
      "Running K Nearest Neighbors\n"
     ]
    },
    {
     "data": {
      "image/png": "[encoded data removed]",
      "text/plain": [
       "<Figure size 432x288 with 1 Axes>"
      ]
     },
     "metadata": {
      "needs_background": "dark"
     },
     "output_type": "display_data",
     "transient": {}
    },
    {
     "name": "stdout",
     "output_type": "stream",
     "text": [
      "True Negatives (Non-outliers)                           4343\n",
      "False Positives (Non-outliers predicted as outliers)       3\n",
      "False Negatives (Outliers predicted as non-outliers       19\n",
      "True Positives (Outliers)                                 27\n",
      "dtype: int64\n",
      "              precision    recall  f1-score   support\n",
      "\n",
      " Non-outlier       1.00      1.00      1.00      4346\n",
      "     Outlier       0.90      0.59      0.71        46\n",
      "\n",
      "    accuracy                           0.99      4392\n",
      "   macro avg       0.95      0.79      0.85      4392\n",
      "weighted avg       0.99      0.99      0.99      4392\n",
      "\n"
     ]
    }
   ],
   "source": [
    "n_neighbors = 5\r\n",
    "\r\n",
    "def run_knn():\r\n",
    "    print(\"Running K Nearest Neighbors\")\r\n",
    "    model = KNeighborsClassifier(n_neighbors=n_neighbors)\r\n",
    "    model.fit(X_train, y_train)\r\n",
    "    y_pred = model.predict(X_test)\r\n",
    "    accuracy = model.score(X_test, y_test)\r\n",
    "    roc_auc = roc_auc_score(y_test, model.predict_proba(X_test)[:, 1])\r\n",
    "    precision, recall, fscore, support = precision_recall_fscore_support(y_test, y_pred, average='macro')\r\n",
    "    report = classification_report(y_test, y_pred, target_names=['Non-outlier', 'Outlier'])\r\n",
    "    plot_roc_curve(model, X_test, y_test)\r\n",
    "    plt.show()\r\n",
    "\r\n",
    "    tn, fp, fn, tp = confusion_matrix(y_test, y_pred).ravel()\r\n",
    "    print(pd.Series([tn, fp, fn, tp], index = ['True Negatives (Non-outliers)', 'False Positives (Non-outliers predicted as outliers)', 'False Negatives (Outliers predicted as non-outliers', 'True Positives (Outliers)']))\r\n",
    "    print(report)\r\n",
    "    return [model, [n_neighbors], [accuracy, roc_auc, precision, recall, fscore], report] # model, parameters, metrics, report\r\n",
    "\r\n",
    "if \"Nearest Neighbors\" in run_models:\r\n",
    "    run_models_data['knn'] = run_knn()"
   ]
  },
  {
   "cell_type": "markdown",
   "connections": [],
   "execution_count": 0,
   "metadata": {
    "id": "637442d6-6a4e-4960-9d08-c9d944def168"
   },
   "outputs": [],
   "source": [
    "## Linear SVM"
   ]
  },
  {
   "cell_type": "code",
   "connections": [],
   "execution_count": 14,
   "metadata": {
    "id": "e85df5a3-2466-403e-b526-be2918a363ca"
   },
   "outputs": [
    {
     "name": "stdout",
     "output_type": "stream",
     "text": [
      "Running Linear SVM\n"
     ]
    },
    {
     "data": {
      "image/png": "[encoded data removed]",
      "text/plain": [
       "<Figure size 432x288 with 1 Axes>"
      ]
     },
     "metadata": {
      "needs_background": "dark"
     },
     "output_type": "display_data",
     "transient": {}
    },
    {
     "name": "stdout",
     "output_type": "stream",
     "text": [
      "True Negatives (Non-outliers)                           2773\n",
      "False Positives (Non-outliers predicted as outliers)    1573\n",
      "False Negatives (Outliers predicted as non-outliers       11\n",
      "True Positives (Outliers)                                 35\n",
      "dtype: int64\n",
      "              precision    recall  f1-score   support\n",
      "\n",
      " Non-outlier       1.00      0.64      0.78      4346\n",
      "     Outlier       0.02      0.76      0.04        46\n",
      "\n",
      "    accuracy                           0.64      4392\n",
      "   macro avg       0.51      0.70      0.41      4392\n",
      "weighted avg       0.99      0.64      0.77      4392\n",
      "\n"
     ]
    }
   ],
   "source": [
    "c = 0.025\r\n",
    "\r\n",
    "def run_linear_svm():\r\n",
    "    print(\"Running Linear SVM\")\r\n",
    "    model = SVC(kernel=\"linear\", C=c)\r\n",
    "    model.fit(X_train, y_train)\r\n",
    "    y_pred = model.predict(X_test)\r\n",
    "    accuracy = model.score(X_test, y_test)\r\n",
    "    roc_auc = roc_auc_score(y_test, model.predict(X_test))\r\n",
    "    precision, recall, fscore, support = precision_recall_fscore_support(y_test, y_pred, average='macro')\r\n",
    "    report = classification_report(y_test, y_pred, target_names=['Non-outlier', 'Outlier'])\r\n",
    "    plot_roc_curve(model, X_test, y_test)\r\n",
    "    plt.show()\r\n",
    "\r\n",
    "    tn, fp, fn, tp = confusion_matrix(y_test, y_pred).ravel()\r\n",
    "    print(pd.Series([tn, fp, fn, tp], index = ['True Negatives (Non-outliers)', 'False Positives (Non-outliers predicted as outliers)', 'False Negatives (Outliers predicted as non-outliers', 'True Positives (Outliers)']))\r\n",
    "    print(report)\r\n",
    "    return [model, [c], [accuracy, roc_auc, precision, recall, fscore], report] # model, parameters, metrics, report\r\n",
    "\r\n",
    "if \"Linear SVM\" in run_models:\r\n",
    "    run_models_data['linear_svm'] = run_linear_svm()"
   ]
  },
  {
   "cell_type": "markdown",
   "connections": [],
   "execution_count": 0,
   "metadata": {
    "id": "ebd5f535-6b1c-402c-8ecb-10f61297514f"
   },
   "outputs": [],
   "source": [
    "## RBF SVM"
   ]
  },
  {
   "cell_type": "code",
   "connections": [],
   "execution_count": 15,
   "metadata": {
    "id": "39c6b1ad-bb5b-4ef4-869e-1f0bb0aa2985"
   },
   "outputs": [
    {
     "name": "stdout",
     "output_type": "stream",
     "text": [
      "Running RBF SVM\n"
     ]
    },
    {
     "data": {
      "image/png": "[encoded data removed]",
      "text/plain": [
       "<Figure size 432x288 with 1 Axes>"
      ]
     },
     "metadata": {
      "needs_background": "dark"
     },
     "output_type": "display_data",
     "transient": {}
    },
    {
     "name": "stdout",
     "output_type": "stream",
     "text": [
      "True Negatives (Non-outliers)                           4155\n",
      "False Positives (Non-outliers predicted as outliers)     191\n",
      "False Negatives (Outliers predicted as non-outliers       18\n",
      "True Positives (Outliers)                                 28\n",
      "dtype: int64\n",
      "              precision    recall  f1-score   support\n",
      "\n",
      " Non-outlier       1.00      0.96      0.98      4346\n",
      "     Outlier       0.13      0.61      0.21        46\n",
      "\n",
      "    accuracy                           0.95      4392\n",
      "   macro avg       0.56      0.78      0.59      4392\n",
      "weighted avg       0.99      0.95      0.97      4392\n",
      "\n"
     ]
    }
   ],
   "source": [
    "gamma=2\r\n",
    "c = 1\r\n",
    "\r\n",
    "def run_rbf_svm():\r\n",
    "    print(\"Running RBF SVM\")\r\n",
    "    model = SVC(gamma=gamma, C=c)\r\n",
    "    model.fit(X_train, y_train)\r\n",
    "    y_pred = model.predict(X_test)\r\n",
    "    accuracy = model.score(X_test, y_test)\r\n",
    "    roc_auc = roc_auc_score(y_test, model.predict(X_test))\r\n",
    "    precision, recall, fscore, support = precision_recall_fscore_support(y_test, y_pred, average='macro')\r\n",
    "    report = classification_report(y_test, y_pred, target_names=['Non-outlier', 'Outlier'])\r\n",
    "    plot_roc_curve(model, X_test, y_test)\r\n",
    "    plt.show()\r\n",
    "\r\n",
    "    tn, fp, fn, tp = confusion_matrix(y_test, y_pred).ravel()\r\n",
    "    print(pd.Series([tn, fp, fn, tp], index = ['True Negatives (Non-outliers)', 'False Positives (Non-outliers predicted as outliers)', 'False Negatives (Outliers predicted as non-outliers', 'True Positives (Outliers)']))\r\n",
    "    print(report)\r\n",
    "    return [model, [gamma, c], [accuracy, roc_auc, precision, recall, fscore], report] # model, parameters, metrics, report\r\n",
    "\r\n",
    "if \"RBF SVM\" in run_models:\r\n",
    "    run_models_data['rbf_svm'] = run_rbf_svm()"
   ]
  },
  {
   "cell_type": "markdown",
   "connections": [],
   "execution_count": 0,
   "metadata": {
    "id": "821ee817-21d9-484f-86c8-dd009d1de6d9"
   },
   "outputs": [],
   "source": [
    "## Gaussian Process"
   ]
  },
  {
   "cell_type": "code",
   "connections": [],
   "execution_count": 16,
   "metadata": {
    "id": "86dedb45-2d7f-411b-a1f6-de6ba97941a8"
   },
   "outputs": [],
   "source": [
    "factor = 1\r\n",
    "kernel_factor = 1\r\n",
    "\r\n",
    "def run_gaussian():\r\n",
    "    print(\"Running Gaussian Process\")\r\n",
    "    model = GaussianProcessClassifier(factor * RBF(kernel_factor))\r\n",
    "    model.fit(X_train, y_train)\r\n",
    "    y_pred = model.predict(X_test)\r\n",
    "    accuracy = model.score(X_test, y_test)\r\n",
    "    roc_auc = roc_auc_score(y_test, model.predict(X_test))\r\n",
    "    precision, recall, fscore, support = precision_recall_fscore_support(y_test, y_pred, average='macro')\r\n",
    "    report = classification_report(y_test, y_pred, target_names=['Non-outlier', 'Outlier'])\r\n",
    "    plot_roc_curve(model, X_test, y_test)\r\n",
    "    plt.show()\r\n",
    "\r\n",
    "    tn, fp, fn, tp = confusion_matrix(y_test, y_pred).ravel()\r\n",
    "    print(pd.Series([tn, fp, fn, tp], index = ['True Negatives (Non-outliers)', 'False Positives (Non-outliers predicted as outliers)', 'False Negatives (Outliers predicted as non-outliers', 'True Positives (Outliers)']))\r\n",
    "    print(report)\r\n",
    "    return [model, [factor, kernel_factor], [accuracy, roc_auc, precision, recall, fscore], report] # model, parameters, metrics, report\r\n",
    "\r\n",
    "if \"Gaussian Process\" in run_models:\r\n",
    "    run_models_data['gaussian'] = run_gaussian()"
   ]
  },
  {
   "cell_type": "markdown",
   "connections": [],
   "execution_count": 0,
   "metadata": {
    "id": "ec7b8b13-b7bc-45bb-bfe7-1de9fbf56e78"
   },
   "outputs": [],
   "source": [
    "## Decision Tree"
   ]
  },
  {
   "cell_type": "code",
   "connections": [],
   "execution_count": 17,
   "metadata": {
    "id": "65fc6994-0471-4a1a-8dbe-3627deb152c1"
   },
   "outputs": [
    {
     "name": "stdout",
     "output_type": "stream",
     "text": [
      "Running Decision Tree\n"
     ]
    },
    {
     "data": {
      "image/png": "[encoded data removed]",
      "text/plain": [
       "<Figure size 432x288 with 1 Axes>"
      ]
     },
     "metadata": {
      "needs_background": "dark"
     },
     "output_type": "display_data",
     "transient": {}
    },
    {
     "name": "stdout",
     "output_type": "stream",
     "text": [
      "True Negatives (Non-outliers)                           4023\n",
      "False Positives (Non-outliers predicted as outliers)     323\n",
      "False Negatives (Outliers predicted as non-outliers       16\n",
      "True Positives (Outliers)                                 30\n",
      "dtype: int64\n",
      "              precision    recall  f1-score   support\n",
      "\n",
      " Non-outlier       1.00      0.93      0.96      4346\n",
      "     Outlier       0.08      0.65      0.15        46\n",
      "\n",
      "    accuracy                           0.92      4392\n",
      "   macro avg       0.54      0.79      0.55      4392\n",
      "weighted avg       0.99      0.92      0.95      4392\n",
      "\n"
     ]
    }
   ],
   "source": [
    "max_depth = 5\r\n",
    "\r\n",
    "def run_tree():\r\n",
    "    print(\"Running Decision Tree\")\r\n",
    "    model = DecisionTreeClassifier(max_depth=max_depth)\r\n",
    "    model.fit(X_train, y_train)\r\n",
    "    y_pred = model.predict(X_test)\r\n",
    "    accuracy = model.score(X_test, y_test)\r\n",
    "    roc_auc = roc_auc_score(y_test, model.predict(X_test))\r\n",
    "    precision, recall, fscore, support = precision_recall_fscore_support(y_test, y_pred, average='macro')\r\n",
    "    report = classification_report(y_test, y_pred, target_names=['Non-outlier', 'Outlier'])\r\n",
    "    plot_roc_curve(model, X_test, y_test)\r\n",
    "    plt.show()\r\n",
    "\r\n",
    "    tn, fp, fn, tp = confusion_matrix(y_test, y_pred).ravel()\r\n",
    "    print(pd.Series([tn, fp, fn, tp], index = ['True Negatives (Non-outliers)', 'False Positives (Non-outliers predicted as outliers)', 'False Negatives (Outliers predicted as non-outliers', 'True Positives (Outliers)']))\r\n",
    "    print(report)\r\n",
    "    return [model, [max_depth], [accuracy, roc_auc, precision, recall, fscore], report] # model, parameters, metrics, report\r\n",
    "\r\n",
    "if \"Decision Tree\" in run_models:\r\n",
    "    run_models_data['tree'] = run_tree()"
   ]
  },
  {
   "cell_type": "markdown",
   "connections": [],
   "execution_count": 0,
   "metadata": {
    "id": "1f906e9c-57b0-467d-b6de-9305acedc49e"
   },
   "outputs": [],
   "source": [
    "## Random Forests"
   ]
  },
  {
   "cell_type": "code",
   "connections": [],
   "execution_count": 18,
   "metadata": {
    "id": "444c6ecb-8d8a-48e0-aadf-a17e72275b38"
   },
   "outputs": [
    {
     "name": "stdout",
     "output_type": "stream",
     "text": [
      "Running Random Forests\n"
     ]
    },
    {
     "data": {
      "image/png": "[encoded data removed]",
      "text/plain": [
       "<Figure size 432x288 with 1 Axes>"
      ]
     },
     "metadata": {
      "needs_background": "dark"
     },
     "output_type": "display_data",
     "transient": {}
    },
    {
     "name": "stdout",
     "output_type": "stream",
     "text": [
      "True Negatives (Non-outliers)                           4023\n",
      "False Positives (Non-outliers predicted as outliers)     323\n",
      "False Negatives (Outliers predicted as non-outliers       16\n",
      "True Positives (Outliers)                                 30\n",
      "dtype: int64\n",
      "              precision    recall  f1-score   support\n",
      "\n",
      " Non-outlier       1.00      0.93      0.96      4346\n",
      "     Outlier       0.08      0.65      0.15        46\n",
      "\n",
      "    accuracy                           0.92      4392\n",
      "   macro avg       0.54      0.79      0.55      4392\n",
      "weighted avg       0.99      0.92      0.95      4392\n",
      "\n"
     ]
    }
   ],
   "source": [
    "max_depth = 5\r\n",
    "n_estimators = 10\r\n",
    "max_features = 1\r\n",
    "\r\n",
    "def run_forest():\r\n",
    "    print(\"Running Random Forests\")\r\n",
    "    model = RandomForestClassifier(max_depth=max_depth, n_estimators=n_estimators, max_features=max_features)\r\n",
    "    model.fit(X_train, y_train)\r\n",
    "    y_pred = model.predict(X_test)\r\n",
    "    accuracy = model.score(X_test, y_test)\r\n",
    "    roc_auc = roc_auc_score(y_test, model.predict(X_test))\r\n",
    "    precision, recall, fscore, support = precision_recall_fscore_support(y_test, y_pred, average='macro')\r\n",
    "    report = classification_report(y_test, y_pred, target_names=['Non-outlier', 'Outlier'])\r\n",
    "    plot_roc_curve(model, X_test, y_test)\r\n",
    "    plt.show()\r\n",
    "\r\n",
    "    tn, fp, fn, tp = confusion_matrix(y_test, y_pred).ravel()\r\n",
    "    print(pd.Series([tn, fp, fn, tp], index = ['True Negatives (Non-outliers)', 'False Positives (Non-outliers predicted as outliers)', 'False Negatives (Outliers predicted as non-outliers', 'True Positives (Outliers)']))\r\n",
    "    print(report)\r\n",
    "    return [model, [max_depth, n_estimators, max_features], [accuracy, roc_auc, precision, recall, fscore], report] # model, parameters, metrics, report\r\n",
    "\r\n",
    "if \"Random Forest\" in run_models:\r\n",
    "    run_models_data['forest'] = run_forest()"
   ]
  },
  {
   "cell_type": "markdown",
   "connections": [],
   "execution_count": 0,
   "metadata": {
    "id": "de34deb4-509a-46c9-820d-35cc88c0ff97"
   },
   "outputs": [],
   "source": [
    "## Neural Net"
   ]
  },
  {
   "cell_type": "code",
   "connections": [],
   "execution_count": 19,
   "metadata": {
    "id": "37be9afc-437e-453a-b687-b707faa97359"
   },
   "outputs": [
    {
     "name": "stdout",
     "output_type": "stream",
     "text": [
      "Running Neural Net\n"
     ]
    },
    {
     "data": {
      "image/png": "[encoded data removed]",
      "text/plain": [
       "<Figure size 432x288 with 1 Axes>"
      ]
     },
     "metadata": {
      "needs_background": "dark"
     },
     "output_type": "display_data",
     "transient": {}
    },
    {
     "name": "stdout",
     "output_type": "stream",
     "text": [
      "True Negatives (Non-outliers)                           3592\n",
      "False Positives (Non-outliers predicted as outliers)     754\n",
      "False Negatives (Outliers predicted as non-outliers       16\n",
      "True Positives (Outliers)                                 30\n",
      "dtype: int64\n",
      "              precision    recall  f1-score   support\n",
      "\n",
      " Non-outlier       1.00      0.83      0.90      4346\n",
      "     Outlier       0.04      0.65      0.07        46\n",
      "\n",
      "    accuracy                           0.82      4392\n",
      "   macro avg       0.52      0.74      0.49      4392\n",
      "weighted avg       0.99      0.82      0.89      4392\n",
      "\n"
     ]
    }
   ],
   "source": [
    "alpha = 1\r\n",
    "max_iter = 1000\r\n",
    "\r\n",
    "def run_mlp():\r\n",
    "    print(\"Running Neural Net\")\r\n",
    "    model = MLPClassifier(alpha=alpha, max_iter=max_iter)\r\n",
    "    model.fit(X_train, y_train)\r\n",
    "    y_pred = model.predict(X_test)\r\n",
    "    accuracy = model.score(X_test, y_test)\r\n",
    "    roc_auc = roc_auc_score(y_test, model.predict(X_test))\r\n",
    "    precision, recall, fscore, support = precision_recall_fscore_support(y_test, y_pred, average='macro')\r\n",
    "    report = classification_report(y_test, y_pred, target_names=['Non-outlier', 'Outlier'])\r\n",
    "    plot_roc_curve(model, X_test, y_test)\r\n",
    "    plt.show()\r\n",
    "\r\n",
    "    tn, fp, fn, tp = confusion_matrix(y_test, y_pred).ravel()\r\n",
    "    print(pd.Series([tn, fp, fn, tp], index = ['True Negatives (Non-outliers)', 'False Positives (Non-outliers predicted as outliers)', 'False Negatives (Outliers predicted as non-outliers', 'True Positives (Outliers)']))\r\n",
    "    print(report)\r\n",
    "    return [model, [alpha, max_iter], [accuracy, roc_auc, precision, recall, fscore], report] # model, parameters, metrics, report\r\n",
    "\r\n",
    "if \"Neural Net\" in run_models:\r\n",
    "    run_models_data['mlp'] = run_mlp()"
   ]
  },
  {
   "cell_type": "markdown",
   "connections": [],
   "execution_count": 0,
   "metadata": {
    "id": "e761fc57-e430-4ccd-87eb-44632d3a3b87"
   },
   "outputs": [],
   "source": [
    "## AdaBoost"
   ]
  },
  {
   "cell_type": "code",
   "connections": [],
   "execution_count": 20,
   "metadata": {
    "id": "6bb0b037-a63f-4822-a65c-b0f7cfd66175"
   },
   "outputs": [
    {
     "name": "stdout",
     "output_type": "stream",
     "text": [
      "Running AdaBoost\n"
     ]
    },
    {
     "data": {
      "image/png": "[encoded data removed]",
      "text/plain": [
       "<Figure size 432x288 with 1 Axes>"
      ]
     },
     "metadata": {
      "needs_background": "dark"
     },
     "output_type": "display_data",
     "transient": {}
    },
    {
     "name": "stdout",
     "output_type": "stream",
     "text": [
      "True Negatives (Non-outliers)                           4068\n",
      "False Positives (Non-outliers predicted as outliers)     278\n",
      "False Negatives (Outliers predicted as non-outliers       16\n",
      "True Positives (Outliers)                                 30\n",
      "dtype: int64\n",
      "              precision    recall  f1-score   support\n",
      "\n",
      " Non-outlier       1.00      0.94      0.97      4346\n",
      "     Outlier       0.10      0.65      0.17        46\n",
      "\n",
      "    accuracy                           0.93      4392\n",
      "   macro avg       0.55      0.79      0.57      4392\n",
      "weighted avg       0.99      0.93      0.96      4392\n",
      "\n"
     ]
    }
   ],
   "source": [
    "def run_adaboost():\r\n",
    "    print(\"Running AdaBoost\")\r\n",
    "    model = AdaBoostClassifier()\r\n",
    "    model.fit(X_train, y_train)\r\n",
    "    y_pred = model.predict(X_test)\r\n",
    "    accuracy = model.score(X_test, y_test)\r\n",
    "    roc_auc = roc_auc_score(y_test, model.predict(X_test))\r\n",
    "    precision, recall, fscore, support = precision_recall_fscore_support(y_test, y_pred, average='macro')\r\n",
    "    report = classification_report(y_test, y_pred, target_names=['Non-outlier', 'Outlier'])\r\n",
    "    plot_roc_curve(model, X_test, y_test)\r\n",
    "    plt.show()\r\n",
    "\r\n",
    "    tn, fp, fn, tp = confusion_matrix(y_test, y_pred).ravel()\r\n",
    "    print(pd.Series([tn, fp, fn, tp], index = ['True Negatives (Non-outliers)', 'False Positives (Non-outliers predicted as outliers)', 'False Negatives (Outliers predicted as non-outliers', 'True Positives (Outliers)']))\r\n",
    "    print(report)\r\n",
    "    return [model, [], [accuracy, roc_auc, precision, recall, fscore], report] # model, parameters, metrics, report\r\n",
    "\r\n",
    "if \"AdaBoost\" in run_models:\r\n",
    "    run_models_data['adaboost'] = run_adaboost()"
   ]
  },
  {
   "cell_type": "markdown",
   "connections": [],
   "execution_count": 0,
   "metadata": {
    "id": "66781fae-4c00-4489-aefe-06532755b786"
   },
   "outputs": [],
   "source": [
    "## Naive Bayes"
   ]
  },
  {
   "cell_type": "code",
   "connections": [],
   "execution_count": 21,
   "metadata": {
    "id": "035f3b5c-06b7-49c8-84c5-afd8b070fe82"
   },
   "outputs": [
    {
     "name": "stdout",
     "output_type": "stream",
     "text": [
      "Running Naive Bayes\n"
     ]
    },
    {
     "data": {
      "image/png": "[encoded data removed]",
      "text/plain": [
       "<Figure size 432x288 with 1 Axes>"
      ]
     },
     "metadata": {
      "needs_background": "dark"
     },
     "output_type": "display_data",
     "transient": {}
    },
    {
     "name": "stdout",
     "output_type": "stream",
     "text": [
      "True Negatives (Non-outliers)                           3160\n",
      "False Positives (Non-outliers predicted as outliers)    1186\n",
      "False Negatives (Outliers predicted as non-outliers       12\n",
      "True Positives (Outliers)                                 34\n",
      "dtype: int64\n",
      "              precision    recall  f1-score   support\n",
      "\n",
      " Non-outlier       1.00      0.73      0.84      4346\n",
      "     Outlier       0.03      0.74      0.05        46\n",
      "\n",
      "    accuracy                           0.73      4392\n",
      "   macro avg       0.51      0.73      0.45      4392\n",
      "weighted avg       0.99      0.73      0.83      4392\n",
      "\n"
     ]
    }
   ],
   "source": [
    "def run_nb():\r\n",
    "    print(\"Running Naive Bayes\")\r\n",
    "    model = GaussianNB()\r\n",
    "    model.fit(X_train, y_train)\r\n",
    "    y_pred = model.predict(X_test)\r\n",
    "    accuracy = model.score(X_test, y_test)\r\n",
    "    roc_auc = roc_auc_score(y_test, model.predict(X_test))\r\n",
    "    precision, recall, fscore, support = precision_recall_fscore_support(y_test, y_pred, average='macro')\r\n",
    "    report = classification_report(y_test, y_pred, target_names=['Non-outlier', 'Outlier'])\r\n",
    "    plot_roc_curve(model, X_test, y_test)\r\n",
    "    plt.show()\r\n",
    "\r\n",
    "    tn, fp, fn, tp = confusion_matrix(y_test, y_pred).ravel()\r\n",
    "    print(pd.Series([tn, fp, fn, tp], index = ['True Negatives (Non-outliers)', 'False Positives (Non-outliers predicted as outliers)', 'False Negatives (Outliers predicted as non-outliers', 'True Positives (Outliers)']))\r\n",
    "    print(report)\r\n",
    "    return [model, [], [accuracy, roc_auc, precision, recall, fscore], report] # model, parameters, metrics, report\r\n",
    "\r\n",
    "if \"Naive Bayes\" in run_models:\r\n",
    "    run_models_data['nb'] = run_nb()"
   ]
  },
  {
   "cell_type": "markdown",
   "connections": [],
   "execution_count": 0,
   "metadata": {
    "id": "591dbced-a022-444e-8d7c-fa46a89a5bd6"
   },
   "outputs": [],
   "source": [
    "## Quadratic Discriminant Analyisis"
   ]
  },
  {
   "cell_type": "code",
   "connections": [],
   "execution_count": 22,
   "metadata": {
    "id": "190547e5-c519-47cd-868d-34c49697f582"
   },
   "outputs": [
    {
     "name": "stdout",
     "output_type": "stream",
     "text": [
      "Running Quadratic Discriminant Analysis\n"
     ]
    },
    {
     "data": {
      "image/png": "[encoded data removed]",
      "text/plain": [
       "<Figure size 432x288 with 1 Axes>"
      ]
     },
     "metadata": {
      "needs_background": "dark"
     },
     "output_type": "display_data",
     "transient": {}
    },
    {
     "name": "stdout",
     "output_type": "stream",
     "text": [
      "True Negatives (Non-outliers)                           3160\n",
      "False Positives (Non-outliers predicted as outliers)    1186\n",
      "False Negatives (Outliers predicted as non-outliers       12\n",
      "True Positives (Outliers)                                 34\n",
      "dtype: int64\n",
      "              precision    recall  f1-score   support\n",
      "\n",
      " Non-outlier       1.00      0.73      0.84      4346\n",
      "     Outlier       0.03      0.74      0.05        46\n",
      "\n",
      "    accuracy                           0.73      4392\n",
      "   macro avg       0.51      0.73      0.45      4392\n",
      "weighted avg       0.99      0.73      0.83      4392\n",
      "\n"
     ]
    }
   ],
   "source": [
    "def run_qda():\r\n",
    "    print(\"Running Quadratic Discriminant Analysis\")\r\n",
    "    model = QuadraticDiscriminantAnalysis()\r\n",
    "    model.fit(X_train, y_train)\r\n",
    "    y_pred = model.predict(X_test)\r\n",
    "    accuracy = model.score(X_test, y_test)\r\n",
    "    roc_auc = roc_auc_score(y_test, model.predict(X_test))\r\n",
    "    precision, recall, fscore, support = precision_recall_fscore_support(y_test, y_pred, average='macro')\r\n",
    "    report = classification_report(y_test, y_pred, target_names=['Non-outlier', 'Outlier'])\r\n",
    "    plot_roc_curve(model, X_test, y_test)\r\n",
    "    plt.show()\r\n",
    "\r\n",
    "    tn, fp, fn, tp = confusion_matrix(y_test, y_pred).ravel()\r\n",
    "    print(pd.Series([tn, fp, fn, tp], index = ['True Negatives (Non-outliers)', 'False Positives (Non-outliers predicted as outliers)', 'False Negatives (Outliers predicted as non-outliers', 'True Positives (Outliers)']))\r\n",
    "    print(report)\r\n",
    "    return [model, [], [accuracy, roc_auc, precision, recall, fscore], report] # model, parameters, metrics, report\r\n",
    "\r\n",
    "if \"QDA\" in run_models:\r\n",
    "    run_models_data['qda'] = run_qda()"
   ]
  },
  {
   "cell_type": "markdown",
   "connections": [],
   "execution_count": 0,
   "metadata": {
    "id": "d0c4a294-b7c7-4f68-8d7a-35c9f26d9ef7"
   },
   "outputs": [],
   "source": [
    "# Classification Results"
   ]
  },
  {
   "cell_type": "code",
   "connections": [
    {
     "endLine": 3,
     "id": "d1ca44d8-0a8e-4793-8434-66a2960fadcd",
     "path": "/Personal/zihan/Outlier Detection/supervised.ipynb",
     "startLine": 3
    }
   ],
   "execution_count": 23,
   "metadata": {
    "id": "ad38f676-d265-40e7-85bc-446ec5a27043"
   },
   "outputs": [
    {
     "data": {
      "text/html": [
       "<div>\n",
       "<style scoped>\n",
       "    .dataframe tbody tr th:only-of-type {\n",
       "        vertical-align: middle;\n",
       "    }\n",
       "\n",
       "    .dataframe tbody tr th {\n",
       "        vertical-align: top;\n",
       "    }\n",
       "\n",
       "    .dataframe thead th {\n",
       "        text-align: right;\n",
       "    }\n",
       "</style>\n",
       "<table border=\"1\" class=\"dataframe\">\n",
       "  <thead>\n",
       "    <tr style=\"text-align: right;\">\n",
       "      <th></th>\n",
       "      <th>knn</th>\n",
       "      <th>linear_svm</th>\n",
       "      <th>rbf_svm</th>\n",
       "      <th>tree</th>\n",
       "      <th>forest</th>\n",
       "      <th>mlp</th>\n",
       "      <th>adaboost</th>\n",
       "      <th>nb</th>\n",
       "      <th>qda</th>\n",
       "    </tr>\n",
       "  </thead>\n",
       "  <tbody>\n",
       "    <tr>\n",
       "      <th>accuracy</th>\n",
       "      <td>0.994991</td>\n",
       "      <td>0.639344</td>\n",
       "      <td>0.952413</td>\n",
       "      <td>0.922814</td>\n",
       "      <td>0.922814</td>\n",
       "      <td>0.824681</td>\n",
       "      <td>0.933060</td>\n",
       "      <td>0.727231</td>\n",
       "      <td>0.727231</td>\n",
       "    </tr>\n",
       "    <tr>\n",
       "      <th>roc_auc</th>\n",
       "      <td>0.803280</td>\n",
       "      <td>0.699464</td>\n",
       "      <td>0.782374</td>\n",
       "      <td>0.788926</td>\n",
       "      <td>0.788926</td>\n",
       "      <td>0.739341</td>\n",
       "      <td>0.794104</td>\n",
       "      <td>0.733118</td>\n",
       "      <td>0.733118</td>\n",
       "    </tr>\n",
       "    <tr>\n",
       "      <th>precision</th>\n",
       "      <td>0.947822</td>\n",
       "      <td>0.508908</td>\n",
       "      <td>0.561770</td>\n",
       "      <td>0.540512</td>\n",
       "      <td>0.540512</td>\n",
       "      <td>0.516915</td>\n",
       "      <td>0.546742</td>\n",
       "      <td>0.512043</td>\n",
       "      <td>0.512043</td>\n",
       "    </tr>\n",
       "    <tr>\n",
       "      <th>recall</th>\n",
       "      <td>0.793133</td>\n",
       "      <td>0.699464</td>\n",
       "      <td>0.782374</td>\n",
       "      <td>0.788926</td>\n",
       "      <td>0.788926</td>\n",
       "      <td>0.739341</td>\n",
       "      <td>0.794104</td>\n",
       "      <td>0.733118</td>\n",
       "      <td>0.733118</td>\n",
       "    </tr>\n",
       "    <tr>\n",
       "      <th>fscore</th>\n",
       "      <td>0.854000</td>\n",
       "      <td>0.410081</td>\n",
       "      <td>0.593394</td>\n",
       "      <td>0.554973</td>\n",
       "      <td>0.554973</td>\n",
       "      <td>0.487741</td>\n",
       "      <td>0.567308</td>\n",
       "      <td>0.447181</td>\n",
       "      <td>0.447181</td>\n",
       "    </tr>\n",
       "  </tbody>\n",
       "</table>\n",
       "</div>"
      ],
      "text/plain": [
       "                knn  linear_svm   rbf_svm      tree    forest       mlp  \\\n",
       "accuracy   0.994991    0.639344  0.952413  0.922814  0.922814  0.824681   \n",
       "roc_auc    0.803280    0.699464  0.782374  0.788926  0.788926  0.739341   \n",
       "precision  0.947822    0.508908  0.561770  0.540512  0.540512  0.516915   \n",
       "recall     0.793133    0.699464  0.782374  0.788926  0.788926  0.739341   \n",
       "fscore     0.854000    0.410081  0.593394  0.554973  0.554973  0.487741   \n",
       "\n",
       "           adaboost        nb       qda  \n",
       "accuracy   0.933060  0.727231  0.727231  \n",
       "roc_auc    0.794104  0.733118  0.733118  \n",
       "precision  0.546742  0.512043  0.512043  \n",
       "recall     0.794104  0.733118  0.733118  \n",
       "fscore     0.567308  0.447181  0.447181  "
      ]
     },
     "execution_count": 23,
     "metadata": {},
     "output_type": "execute_result"
    }
   ],
   "source": [
    "run_models_scores = {k:v[2] for (k, v) in run_models_data.items()}\r\n",
    "run_models_scores_df = pd.DataFrame(run_models_scores, index = ['accuracy', 'roc_auc', 'precision', 'recall', 'fscore'])\r\n",
    "run_models_scores_df"
   ]
  },
  {
   "cell_type": "code",
   "connections": [
    {
     "endLine": 2,
     "id": "d1ca44d8-0a8e-4793-8434-66a2960fadcd",
     "path": "/Personal/zihan/Outlier Detection/supervised.ipynb",
     "startLine": 2
    }
   ],
   "execution_count": 24,
   "metadata": {
    "id": "a53d33e9-a5ec-4ee6-ac08-282a4849ce66"
   },
   "outputs": [
    {
     "data": {
      "image/png": "[encoded data removed]",
      "text/plain": [
       "<Figure size 864x720 with 1 Axes>"
      ]
     },
     "metadata": {
      "needs_background": "dark"
     },
     "output_type": "display_data",
     "transient": {}
    }
   ],
   "source": [
    "run_models_scores_df.plot(kind='bar', figsize=(12, 10))\r\n",
    "plt.show()"
   ]
  },
  {
   "cell_type": "markdown",
   "connections": [],
   "execution_count": 0,
   "metadata": {
    "id": "d176e234-ce65-45dd-912f-c5f429a00a87"
   },
   "outputs": [],
   "source": [
    "## Outlier Prediction"
   ]
  },
  {
   "cell_type": "code",
   "connections": [],
   "execution_count": 40,
   "metadata": {
    "id": "bbbfea56-f12f-4a95-b666-97edbfe6f939"
   },
   "outputs": [
    {
     "data": {
      "text/html": [
       "<div>\n",
       "<style scoped>\n",
       "    .dataframe tbody tr th:only-of-type {\n",
       "        vertical-align: middle;\n",
       "    }\n",
       "\n",
       "    .dataframe tbody tr th {\n",
       "        vertical-align: top;\n",
       "    }\n",
       "\n",
       "    .dataframe thead th {\n",
       "        text-align: right;\n",
       "    }\n",
       "</style>\n",
       "<table border=\"1\" class=\"dataframe\">\n",
       "  <thead>\n",
       "    <tr style=\"text-align: right;\">\n",
       "      <th></th>\n",
       "      <th>value</th>\n",
       "      <th>outlier</th>\n",
       "    </tr>\n",
       "  </thead>\n",
       "  <tbody>\n",
       "    <tr>\n",
       "      <th>0</th>\n",
       "      <td>0.417942</td>\n",
       "      <td>0</td>\n",
       "    </tr>\n",
       "    <tr>\n",
       "      <th>1</th>\n",
       "      <td>0.334008</td>\n",
       "      <td>0</td>\n",
       "    </tr>\n",
       "    <tr>\n",
       "      <th>2</th>\n",
       "      <td>0.082205</td>\n",
       "      <td>0</td>\n",
       "    </tr>\n",
       "    <tr>\n",
       "      <th>3</th>\n",
       "      <td>1.005482</td>\n",
       "      <td>0</td>\n",
       "    </tr>\n",
       "    <tr>\n",
       "      <th>4</th>\n",
       "      <td>-0.757137</td>\n",
       "      <td>0</td>\n",
       "    </tr>\n",
       "    <tr>\n",
       "      <th>...</th>\n",
       "      <td>...</td>\n",
       "      <td>...</td>\n",
       "    </tr>\n",
       "    <tr>\n",
       "      <th>4387</th>\n",
       "      <td>0.753680</td>\n",
       "      <td>0</td>\n",
       "    </tr>\n",
       "    <tr>\n",
       "      <th>4388</th>\n",
       "      <td>0.753680</td>\n",
       "      <td>0</td>\n",
       "    </tr>\n",
       "    <tr>\n",
       "      <th>4389</th>\n",
       "      <td>0.753680</td>\n",
       "      <td>0</td>\n",
       "    </tr>\n",
       "    <tr>\n",
       "      <th>4390</th>\n",
       "      <td>-0.001729</td>\n",
       "      <td>0</td>\n",
       "    </tr>\n",
       "    <tr>\n",
       "      <th>4391</th>\n",
       "      <td>-0.085663</td>\n",
       "      <td>0</td>\n",
       "    </tr>\n",
       "  </tbody>\n",
       "</table>\n",
       "<p>4392 rows × 2 columns</p>\n",
       "</div>"
      ],
      "text/plain": [
       "         value  outlier\n",
       "0     0.417942        0\n",
       "1     0.334008        0\n",
       "2     0.082205        0\n",
       "3     1.005482        0\n",
       "4    -0.757137        0\n",
       "...        ...      ...\n",
       "4387  0.753680        0\n",
       "4388  0.753680        0\n",
       "4389  0.753680        0\n",
       "4390 -0.001729        0\n",
       "4391 -0.085663        0\n",
       "\n",
       "[4392 rows x 2 columns]"
      ]
     },
     "execution_count": 40,
     "metadata": {},
     "output_type": "execute_result"
    }
   ],
   "source": [
    "show_model_prediction = \"knn\" # [\"knn\", \"linear_svm\", \"rbf_svm\", \"gaussian\", \"tree\", \"forest\", \"mlp\", \"adaboost\", \"nb\", \"qda\"]\r\n",
    "\r\n",
    "show_model = run_models_data[show_model_prediction][0]\r\n",
    "y_pred = show_model.predict(X_test)\r\n",
    "pred = pd.concat([X_test, pd.DataFrame(y_pred, columns=['outlier'])], axis=1)\r\n",
    "pred"
   ]
  },
  {
   "cell_type": "markdown",
   "connections": [],
   "execution_count": 0,
   "metadata": {
    "id": "10b07e2f-da4e-4d1f-b123-453d40e96dbf"
   },
   "outputs": [],
   "source": [
    "## Which metric to optimise"
   ]
  },
  {
   "cell_type": "code",
   "connections": [],
   "execution_count": 25,
   "metadata": {
    "id": "b88a7399-1f09-47b4-9952-3115d18f6569"
   },
   "outputs": [
    {
     "data": {
      "text/plain": [
       "accuracy          knn\n",
       "roc_auc           knn\n",
       "precision         knn\n",
       "recall       adaboost\n",
       "fscore            knn\n",
       "dtype: object"
      ]
     },
     "execution_count": 25,
     "metadata": {},
     "output_type": "execute_result"
    }
   ],
   "source": [
    "df_best = run_models_scores_df.idxmax(axis=1)\r\n",
    "df_best"
   ]
  },
  {
   "cell_type": "code",
   "connections": [
    {
     "endLine": 2,
     "id": "ca312a98-9906-4458-b03b-e20e726b2ac2",
     "path": "/Personal/zihan/Outlier Detection/supervised.ipynb",
     "startLine": 1
    }
   ],
   "execution_count": 26,
   "metadata": {
    "id": "094c8955-f764-4662-b607-c7d411f3fa84"
   },
   "outputs": [
    {
     "name": "stdout",
     "output_type": "stream",
     "text": [
      "              precision    recall  f1-score   support\n",
      "\n",
      " Non-outlier       1.00      1.00      1.00      4346\n",
      "     Outlier       0.90      0.59      0.71        46\n",
      "\n",
      "    accuracy                           0.99      4392\n",
      "   macro avg       0.95      0.79      0.85      4392\n",
      "weighted avg       0.99      0.99      0.99      4392\n",
      "\n"
     ]
    }
   ],
   "source": [
    "optimise_metric = 'accuracy' # ['accuracy', 'roc_auc', 'precision', 'recall', 'fscore']\r\n",
    "best = df_best[optimise_metric]\r\n",
    "print(run_models_data[best][3])"
   ]
  },
  {
   "cell_type": "markdown",
   "connections": [],
   "execution_count": 163,
   "metadata": {
    "id": "bfedc640-a34b-4f6a-9f1c-2b54eda18fcc"
   },
   "outputs": [],
   "source": [
    "Export the data"
   ]
  },
  {
   "cell_type": "code",
   "connections": [],
   "execution_count": 27,
   "metadata": {
    "id": "30bbc977-152e-4801-af97-712c6208a02d"
   },
   "outputs": [
    {
     "data": {
      "text/plain": [
       "['./../out/supervised_model.joblib']"
      ]
     },
     "execution_count": 27,
     "metadata": {},
     "output_type": "execute_result"
    }
   ],
   "source": [
    "dump([run_models_data[best], df, time_series, scaler], './../out/supervised_model.joblib')"
   ]
  }
 ],
 "metadata": {},
 "nbformat": 4,
 "nbformat_minor": 0
}
