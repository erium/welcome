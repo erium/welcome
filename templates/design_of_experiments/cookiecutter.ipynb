{
 "cells": [
  {
   "cell_type": "code",
   "connections": [
    {
     "endLine": 1,
     "id": "dcf831b0-d7a1-49ae-8e60-ba7a37998074",
     "path": "/Personal/zihan/design_of_experiments/cookiecutter.ipynb",
     "startLine": 1
    }
   ],
   "execution_count": 1,
   "metadata": {
    "id": "83ec77a7-8e53-40bd-ae76-6f51da3e83bd"
   },
   "outputs": [],
   "source": [
    "from cookiecutter.main import cookiecutter\n",
    "from datetime import date"
   ]
  },
  {
   "cell_type": "code",
   "connections": [],
   "execution_count": 2,
   "metadata": {
    "id": "f9afad39-f919-4a38-8169-f440a40d2ae6"
   },
   "outputs": [
    {
     "name": "stdout",
     "output_type": "stream",
     "text": [
      "directory_name [design_of_experiments]:"
     ]
    },
    {
     "name": "stdout",
     "output_type": "stream",
     "text": [
      "  "
     ]
    },
    {
     "name": "stdout",
     "output_type": "stream",
     "text": [
      "timestamp [2022-03-25]:"
     ]
    },
    {
     "name": "stdout",
     "output_type": "stream",
     "text": [
      "  "
     ]
    },
    {
     "name": "stdout",
     "output_type": "stream",
     "text": [
      "timestamp_directory_name [2022-03-25_design_of_experiments]:"
     ]
    },
    {
     "name": "stdout",
     "output_type": "stream",
     "text": [
      "  "
     ]
    },
    {
     "name": "stdout",
     "output_type": "stream",
     "text": [
      "destination_path [current]:"
     ]
    },
    {
     "name": "stdout",
     "output_type": "stream",
     "text": [
      "  "
     ]
    },
    {
     "name": "stdout",
     "output_type": "stream",
     "text": [
      "project_name [Design of experiments]:"
     ]
    },
    {
     "name": "stdout",
     "output_type": "stream",
     "text": [
      "  "
     ]
    },
    {
     "name": "stdout",
     "output_type": "stream",
     "text": [
      "Select model_templates:\n",
      "1 - 01_bayesian_optimization\n",
      "2 - 02_classical_doe\n",
      "3 - 03_bayesian_modelling\n",
      "Choose from 1, 2, 3 [1]:"
     ]
    },
    {
     "name": "stdout",
     "output_type": "stream",
     "text": [
      "  1"
     ]
    },
    {
     "data": {
      "text/plain": [
       "'/home/jovyan/Personal/zihan/design_of_experiments/2022-03-25_design_of_experiments'"
      ]
     },
     "execution_count": 2,
     "metadata": {},
     "output_type": "execute_result"
    }
   ],
   "source": [
    "cookiecutter('./../design_of_experiments', extra_context={'timestamp': str(date.today())})"
   ]
  }
 ],
 "metadata": {},
 "nbformat": 4,
 "nbformat_minor": 0
}
