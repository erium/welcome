{
 "cells": [
  {
   "cell_type": "markdown",
   "connections": [],
   "execution_count": 0,
   "metadata": {
    "id": "7699dff8-e238-4058-bd37-814f7dee4439"
   },
   "outputs": [],
   "source": [
    "# Getting Started: Create your first project"
   ]
  },
  {
   "cell_type": "markdown",
   "connections": [],
   "execution_count": 0,
   "metadata": {
    "id": "339e6bf0-39d8-4c6d-a27d-e9b87e43f044"
   },
   "outputs": [],
   "source": [
    "Please refer to getting_started.board to view the high-level project workflow.\r\n",
    "\r\n",
    "The command below will copy the Halerium project template using cookiecutter, copying the file structure with input slugs to specify certain parameters in the new project template."
   ]
  },
  {
   "cell_type": "code",
   "connections": [],
   "execution_count": 0,
   "metadata": {
    "id": "3825e037-37d8-4fea-b6f9-249a0f989a6b"
   },
   "outputs": [],
   "source": [
    "from cookiecutter.main import cookiecutter\r\n",
    "cookiecutter('project_template', output_dir='../')"
   ]
  }
 ],
 "metadata": {},
 "nbformat": 4,
 "nbformat_minor": 0
}
