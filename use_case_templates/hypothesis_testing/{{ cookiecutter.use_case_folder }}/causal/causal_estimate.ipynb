{
 "cells": [
  {
   "cell_type": "markdown",
   "connections": [],
   "execution_count": 0,
   "metadata": {
    "id": "bdd3771b-8b05-47be-9e5b-01214a658980"
   },
   "outputs": [],
   "source": [
    "# Causal Estimate"
   ]
  },
  {
   "cell_type": "markdown",
   "connections": [],
   "execution_count": 0,
   "metadata": {
    "id": "20f8401a-7981-46a2-800d-678998bedc06"
   },
   "outputs": [],
   "source": [
    "## How to use the notebook\r\n",
    "\r\n",
    "The following cells:\r\n",
    "- specify objective, variables, and variable types,\r\n",
    "- read dataset,\r\n",
    "- set up the causal structure,\r\n",
    "- present results from the tests,\r\n",
    "\r\n",
    "By default, the notebook is set up to run with an example (wine quality). To see how it works, run the notebook without changing the code.\r\n",
    "\r\n",
    "For your project, adjust the code in the linked cells with your objectives, variables, dataset etc. and then execute all cells in order.\r\n",
    "\r\n",
    "Please refer to causal_estimate.board for detailed instructions."
   ]
  },
  {
   "cell_type": "code",
   "connections": [],
   "execution_count": 0,
   "metadata": {
    "id": "8ffc81dc-1d7c-41db-9c38-101dd045b456"
   },
   "outputs": [],
   "source": [
    "import numpy as np\r\n",
    "import pandas as pd\r\n",
    "\r\n",
    "from dowhy import CausalModel\r\n",
    "import dowhy.causal_refuters as causal_refuters\r\n",
    "import dowhy.datasets\r\n",
    "import dowhy.api\r\n",
    "\r\n",
    "from sklearn.preprocessing import PolynomialFeatures\r\n",
    "from sklearn.linear_model import LassoCV\r\n",
    "from sklearn.ensemble import GradientBoostingRegressor\r\n",
    "\r\n",
    "from statsmodels.api import OLS\r\n",
    "\r\n",
    "import matplotlib.pyplot as plt\r\n",
    "\r\n",
    "import warnings\r\n",
    "warnings.simplefilter('ignore')"
   ]
  },
  {
   "cell_type": "markdown",
   "connections": [],
   "execution_count": 0,
   "metadata": {
    "id": "79742e8f-18cb-4e4c-bd8b-26f83c35b9cb"
   },
   "outputs": [],
   "source": [
    "### Project"
   ]
  },
  {
   "cell_type": "code",
   "connections": [
    {
     "endLine": 1,
     "id": "c35c5bc1-25c9-4679-9050-d1c2dbe2c58e",
     "startLine": 1
    }
   ],
   "execution_count": 0,
   "metadata": {
    "id": "8c7138c2-a940-4e93-b2d4-5eea88730221"
   },
   "outputs": [],
   "source": [
    "experiment_name = '{{cookiecutter.use_case_name}}'  # please provide a name for the hypothesis testing experiment"
   ]
  },
  {
   "cell_type": "markdown",
   "connections": [],
   "execution_count": 0,
   "metadata": {
    "id": "3495b3bd-9899-4c52-ae10-d19a7641be05"
   },
   "outputs": [],
   "source": [
    "### Dataset"
   ]
  },
  {
   "cell_type": "code",
   "connections": [
    {
     "endLine": 2,
     "id": "81107ee7-188d-4398-8776-178cdcdbb917",
     "startLine": 1
    }
   ],
   "execution_count": 0,
   "metadata": {
    "id": "2bc59df9-bf24-48d1-8134-c4abb251ddce"
   },
   "outputs": [],
   "source": [
    "time_series = False\n",
    "path = '{{cookiecutter.data_path}}' # Specify the path of the data\n",
    "\n",
    "if path =='default example':\n",
    "    path = 'https://raw.githubusercontent.com/erium/halerium-example-data/main/hypothesis_testing/WineQT.csv'\n",
    "\n",
    "if time_series:\n",
    "    df = pd.read_csv(path, parse_dates=['date'], index_col = 'date')\n",
    "else:\n",
    "    df = pd.read_csv(path, sep=None)\n",
    "df"
   ]
  },
  {
   "cell_type": "markdown",
   "connections": [],
   "execution_count": 0,
   "metadata": {
    "id": "20473942-a577-400d-a316-895134b7d790"
   },
   "outputs": [],
   "source": [
    "### Define the problem\r\n",
    "What is your treatment variable?\r\n",
    "What is your outcome variable?\r\n",
    "What are the confounders?"
   ]
  },
  {
   "cell_type": "code",
   "connections": [
    {
     "endLine": 2,
     "id": "34d8feb6-0c2f-4d8c-aafe-4cf0818d2bf4",
     "startLine": 2
    }
   ],
   "execution_count": 0,
   "metadata": {
    "id": "6d9271bc-5ef8-41e1-8f6d-daad93778805"
   },
   "outputs": [],
   "source": [
    "# Example: Does pH acidity levels affect the quality of the wine?\r\n",
    "is_treatment_binary = False"
   ]
  },
  {
   "cell_type": "code",
   "connections": [
    {
     "endLine": 8,
     "id": "34d8feb6-0c2f-4d8c-aafe-4cf0818d2bf4",
     "startLine": 2
    }
   ],
   "execution_count": 0,
   "metadata": {
    "id": "c70653ed-67ce-4b57-9976-98ade299a8e9"
   },
   "outputs": [],
   "source": [
    "# Simpler, using backdoor methods\r\n",
    "model= CausalModel(\r\n",
    "        data = df,\r\n",
    "        treatment='pH',\r\n",
    "        outcome='quality',\r\n",
    "        common_causes=['fixed acidity', 'volatile acidity'],\r\n",
    "        effect_modifiers=['residual sugar'])\r\n",
    "model.view_model()"
   ]
  },
  {
   "cell_type": "code",
   "connections": [
    {
     "endLine": 16,
     "id": "34d8feb6-0c2f-4d8c-aafe-4cf0818d2bf4",
     "startLine": 2
    }
   ],
   "execution_count": 0,
   "metadata": {
    "id": "cd25d81d-4227-438d-b502-af4ed529d11e"
   },
   "outputs": [],
   "source": [
    "# More complex, using graph and iv\r\n",
    "# causal_graph = \"\"\"\r\n",
    "# digraph {\r\n",
    "# U[label=\"Unobserved Confounders\"];\r\n",
    "# sulphates->pH; residual_sugar->quality;\r\n",
    "# fixed_acidity->pH; volatile_acidity -> pH;\r\n",
    "# U->pH;U->quality;\r\n",
    "# fixed_acidity->quality; volatile_acidity->quality; pH->quality; \r\n",
    "# }\r\n",
    "# \"\"\"\r\n",
    "#\r\n",
    "# model= CausalModel(\r\n",
    "#         data = df,\r\n",
    "#         graph=causal_graph.replace(\"\\n\", \" \"),\r\n",
    "#         treatment='pH',\r\n",
    "#         outcome='quality')\r\n",
    "# model.view_model()"
   ]
  },
  {
   "cell_type": "markdown",
   "connections": [],
   "execution_count": 0,
   "metadata": {
    "id": "6b16bf01-5a60-4510-93d7-eae62f66c54b"
   },
   "outputs": [],
   "source": [
    "### Identify estimands"
   ]
  },
  {
   "cell_type": "code",
   "connections": [
    {
     "endLine": 3,
     "id": "7c339497-523a-4c86-9382-6765cc7f73cc",
     "startLine": 3
    }
   ],
   "execution_count": 0,
   "metadata": {
    "id": "20082437-0d99-4974-8a6c-b144c05c4d13"
   },
   "outputs": [],
   "source": [
    "# Skips the warning asking about unobserved confounders\r\n",
    "identified_estimand = model.identify_effect(proceed_when_unidentifiable=True)\r\n",
    "print(identified_estimand)"
   ]
  },
  {
   "cell_type": "markdown",
   "connections": [],
   "execution_count": 0,
   "metadata": {
    "id": "da9fc0b3-0328-4455-9775-aa122108ca67"
   },
   "outputs": [],
   "source": [
    "### Estimation"
   ]
  },
  {
   "cell_type": "code",
   "connections": [],
   "execution_count": 0,
   "metadata": {
    "id": "8ec72427-32df-4dc1-b5ba-d16b8eb65caf"
   },
   "outputs": [],
   "source": [
    "estimate_methods = {}"
   ]
  },
  {
   "cell_type": "markdown",
   "connections": [],
   "execution_count": 0,
   "metadata": {
    "id": "5dedd761-63fb-4c39-ae74-27748f5a9de6"
   },
   "outputs": [],
   "source": [
    "#### Backdoor methods"
   ]
  },
  {
   "cell_type": "code",
   "connections": [],
   "execution_count": 0,
   "metadata": {
    "id": "3703d00b-492d-4563-a229-b38601fa2e41"
   },
   "outputs": [],
   "source": [
    "linear_estimate = model.estimate_effect(identified_estimand,\r\n",
    "        method_name=\"backdoor.linear_regression\")\r\n",
    "if linear_estimate.value:\r\n",
    "        estimate_methods['linear'] = linear_estimate\r\n",
    "print(\"Causal Estimate is \" + str(linear_estimate.value))"
   ]
  },
  {
   "cell_type": "markdown",
   "connections": [],
   "execution_count": 0,
   "metadata": {
    "id": "905b462c-9fc8-428d-a3f8-ce950efdbecf"
   },
   "outputs": [],
   "source": [
    "Propensity score methods\r\n",
    "*Only for binary treatments"
   ]
  },
  {
   "cell_type": "code",
   "connections": [],
   "execution_count": 0,
   "metadata": {
    "id": "f08c8626-5026-4dcf-a312-c8611f1a42a2"
   },
   "outputs": [],
   "source": [
    "if is_treatment_binary:\r\n",
    "        strat_estimate = model.estimate_effect(identified_estimand,\r\n",
    "                method_name=\"backdoor.propensity_score_stratification\") # ok for linear\r\n",
    "        if strat_estimate.value:\r\n",
    "                estimate_methods['strat'] = strat_estimate\r\n",
    "        print(\"Causal Estimate is \" + str(strat_estimate.value))"
   ]
  },
  {
   "cell_type": "code",
   "connections": [],
   "execution_count": 0,
   "metadata": {
    "id": "ca68973f-c400-4d01-8013-280f9e3a4bfc"
   },
   "outputs": [],
   "source": [
    "if is_treatment_binary:\r\n",
    "        match_estimate = model.estimate_effect(identified_estimand,\r\n",
    "                method_name=\"backdoor.propensity_score_matching\")\r\n",
    "        if match_estimate.value:\r\n",
    "                estimate_methods['match'] = match_estimate\r\n",
    "        print(\"Causal Estimate is \" + str(match_estimate.value))"
   ]
  },
  {
   "cell_type": "code",
   "connections": [],
   "execution_count": 0,
   "metadata": {
    "id": "6d8bb6cf-6883-4b43-ac54-5f1ccc0a247e"
   },
   "outputs": [],
   "source": [
    "if is_treatment_binary:\r\n",
    "        ipw_estimate = model.estimate_effect(identified_estimand,\r\n",
    "                method_name=\"backdoor.propensity_score_weighting\", method_params={\"weighting_scheme\":\"ips_weight\"})\r\n",
    "        if ipw_estimate.value:\r\n",
    "                estimate_methods['ipw'] = ipw_estimate\r\n",
    "        print(\"Causal Estimate is \" + str(ipw_estimate.value))"
   ]
  },
  {
   "cell_type": "markdown",
   "connections": [],
   "execution_count": 0,
   "metadata": {
    "id": "c3b4b86c-8608-4b8b-97ed-317178acf786"
   },
   "outputs": [],
   "source": [
    "### Instrumental Variable"
   ]
  },
  {
   "cell_type": "code",
   "connections": [],
   "execution_count": 0,
   "metadata": {
    "id": "2839ffd4-7669-4ca6-b106-1a371db63d98"
   },
   "outputs": [],
   "source": [
    "iv_estimate = model.estimate_effect(identified_estimand,\r\n",
    "        method_name=\"iv.instrumental_variable\")\r\n",
    "if iv_estimate.value:\r\n",
    "    estimate_methods['iv'] = iv_estimate\r\n",
    "print(\"Causal Estimate is \" + str(iv_estimate.value))"
   ]
  },
  {
   "cell_type": "markdown",
   "connections": [],
   "execution_count": 0,
   "metadata": {
    "id": "cfab5617-b2f1-4b5f-8279-e01ec461b5f3"
   },
   "outputs": [],
   "source": [
    "Regression Discontinuity"
   ]
  },
  {
   "cell_type": "code",
   "connections": [],
   "execution_count": 0,
   "metadata": {
    "id": "b5885eb1-f5f9-4ea2-bffe-fb23a4b00317"
   },
   "outputs": [],
   "source": [
    "regdist_estimate = model.estimate_effect(identified_estimand,\r\n",
    "        method_name=\"iv.regression_discontinuity\",\r\n",
    "        method_params={'rd_variable_name':'residual sugar',\r\n",
    "                       'rd_threshold_value':0.5,\r\n",
    "                       'rd_bandwidth': 0.1})\r\n",
    "if regdist_estimate.value:\r\n",
    "    estimate_methods['regdist'] = regdist_estimate\r\n",
    "print(\"Causal Estimate is \" + str(regdist_estimate.value))"
   ]
  },
  {
   "cell_type": "markdown",
   "connections": [],
   "execution_count": 0,
   "metadata": {
    "id": "09b36f47-d4dc-4177-939b-fd70b81028d9"
   },
   "outputs": [],
   "source": [
    "### Refuting the estimate\r\n",
    "Refutation methods provide tests that every correct estimator should pass. \r\n",
    "\r\n",
    "So if an estimator fails the refutation test (p-value is <0.05), then it means that there is some problem with the estimator."
   ]
  },
  {
   "cell_type": "code",
   "connections": [],
   "execution_count": 0,
   "metadata": {
    "id": "033e6676-90a8-4757-9f38-c971685b294b"
   },
   "outputs": [],
   "source": [
    "refute_data = {}\r\n",
    "for estimate_name in estimate_methods:\r\n",
    "    estimate = estimate_methods[estimate_name]\r\n",
    "    refute_methods = {'random_common_cause': None, 'placebo_treatment': None, 'data_subset': None, 'unobserved_common_cause': None}\r\n",
    "\r\n",
    "    res_random=model.refute_estimate(identified_estimand, estimate, method_name=\"random_common_cause\")\r\n",
    "    refute_methods['random_common_cause'] = res_random\r\n",
    "\r\n",
    "    if estimate_name != 'linear':\r\n",
    "        res_placebo=model.refute_estimate(identified_estimand, estimate,\r\n",
    "            method_name=\"placebo_treatment_refuter\", placebo_type=\"permute\")\r\n",
    "        refute_methods['placebo_treatment'] = res_placebo\r\n",
    "\r\n",
    "    res_subset=model.refute_estimate(identified_estimand, estimate,\r\n",
    "        method_name=\"data_subset_refuter\", subset_fraction=0.9)\r\n",
    "    refute_methods['data_subset'] = res_subset\r\n",
    "    \r\n",
    "    if is_treatment_binary:\r\n",
    "        res_unobserved_auto = model.refute_estimate(identified_estimand, estimate, method_name=\"add_unobserved_common_cause\",\r\n",
    "                                            confounders_effect_on_treatment=\"binary_flip\", confounders_effect_on_outcome=\"linear\")\r\n",
    "        refute_methods['unobserved_common_cause'] = res_unobserved_auto\r\n",
    "    \r\n",
    "    refute_data[estimate_name] = refute_methods"
   ]
  },
  {
   "cell_type": "code",
   "connections": [
    {
     "endLine": 1,
     "id": "7c339497-523a-4c86-9382-6765cc7f73cc",
     "startLine": 1
    }
   ],
   "execution_count": 0,
   "metadata": {
    "id": "4e45cbae-418f-4103-b7be-7d0da6592c00"
   },
   "outputs": [],
   "source": [
    "for estimate_method in refute_data:\r\n",
    "    tests_passed = 0\r\n",
    "    tests_failed = 0\r\n",
    "    print(estimate_method)\r\n",
    "    for refute_method in refute_data[estimate_method]:\r\n",
    "        print(refute_method)\r\n",
    "        if refute_data[estimate_method][refute_method] == None:\r\n",
    "            print(\"None \\n\")\r\n",
    "            continue\r\n",
    "        print(refute_data[estimate_method][refute_method])\r\n",
    "        refutation_result = refute_data[estimate_method][refute_method].refutation_result\r\n",
    "        if refutation_result != None:\r\n",
    "            if refutation_result['is_statistically_significant']:\r\n",
    "                tests_failed += 1\r\n",
    "            else:\r\n",
    "                tests_passed += 1\r\n",
    "    print(\"Statistical tests passed: \", tests_passed)\r\n",
    "    print(\"Statistical tests failed: \", tests_failed)\r\n",
    "    print('______________________________')"
   ]
  }
 ],
 "metadata": {},
 "nbformat": 4,
 "nbformat_minor": 0
}
