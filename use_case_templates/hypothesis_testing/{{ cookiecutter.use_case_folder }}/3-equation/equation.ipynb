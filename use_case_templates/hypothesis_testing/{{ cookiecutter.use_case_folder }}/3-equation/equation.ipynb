{
 "cells": [
  {
   "cell_type": "markdown",
   "connections": [],
   "execution_count": 0,
   "metadata": {
    "id": "8fe0d9e4-b0ee-4353-a005-ff237be6975f"
   },
   "outputs": [],
   "source": [
    "# Equation fit\r\n",
    "\r\n",
    "Using Halerium graphs.\r\n",
    "\r\n",
    "Author: {{ cookiecutter.author_name }}\r\n",
    "Created: {{ cookiecutter.timestamp }}"
   ]
  },
  {
   "cell_type": "code",
   "connections": [],
   "execution_count": 0,
   "metadata": {
    "id": "2fa9721f-67ec-4a60-9357-00a155d4dab0"
   },
   "outputs": [],
   "source": [
    "# Link to experiments card (refresh and hit enter on this line to see the link)"
   ]
  },
  {
   "cell_type": "markdown",
   "connections": [],
   "execution_count": 0,
   "metadata": {
    "id": "8ebbccd5-4226-4de4-a3b3-25c57fa1dd3e"
   },
   "outputs": [],
   "source": [
    "### Project"
   ]
  },
  {
   "cell_type": "code",
   "connections": [
    {
     "endLine": 1,
     "id": "a12fad4c-b42d-41d6-bc75-8e01966da5ab",
     "path": "/Personal/zihan/gitlab2/welcome/use_case_templates/hypothesis_testing/{{ cookiecutter.use_case_folder }}/3-equation/equation.ipynb",
     "startLine": 1
    }
   ],
   "execution_count": 0,
   "metadata": {
    "id": "8a0ed5d1-d778-4545-9524-14710a9c8653"
   },
   "outputs": [],
   "source": [
    "experiment_name = '{{cookiecutter.use_case_name}}'  # please provide a name for the hypothesis testing experiment"
   ]
  },
  {
   "cell_type": "markdown",
   "connections": [],
   "execution_count": 0,
   "metadata": {
    "id": "574d7a32-ede9-4673-aafc-f393c87acebb"
   },
   "outputs": [],
   "source": [
    "### Imports"
   ]
  },
  {
   "cell_type": "code",
   "connections": [],
   "execution_count": 0,
   "metadata": {
    "id": "f6ba2879-ceb2-45c1-a07f-b0f440c0a92b"
   },
   "outputs": [],
   "source": [
    "import numpy as np\r\n",
    "import pandas as pd\r\n",
    "\r\n",
    "from sklearn.model_selection import train_test_split\r\n",
    "\r\n",
    "import halerium.core as hal\r\n",
    "\r\n",
    "from halerium.core import Graph, Entity, Variable, StaticVariable, link, DataLinker\r\n",
    "from halerium.core import get_posterior_model, get_generative_model\r\n",
    "from halerium.core.model import Trainer\r\n",
    "from halerium.objectives import Predictor\r\n",
    "\r\n",
    "from sklearn.metrics import mean_squared_error, r2_score\r\n",
    "\r\n",
    "import matplotlib.pyplot as plt"
   ]
  },
  {
   "cell_type": "code",
   "connections": [
    {
     "endLine": 3,
     "id": "6c60942f-8600-44f3-a62d-2179db3fe4d6",
     "path": "/Personal/zihan/hypothesis_testing/equation/equation.ipynb",
     "startLine": 1
    }
   ],
   "execution_count": 0,
   "metadata": {
    "id": "a6f303da-104d-4679-9b92-6e994ab25983"
   },
   "outputs": [],
   "source": [
    "time_series = False\n",
    "test_size = 0.25\n",
    "path = '{{cookiecutter.data_path}}' # Specify the path of the data\n",
    "\n",
    "if path =='default example':\n",
    "    path = 'https://raw.githubusercontent.com/erium/halerium-example-data/main/hypothesis_testing/WineQT.csv'\n",
    "\n",
    "if time_series:\n",
    "    df = pd.read_csv(path, parse_dates=['date'])\n",
    "else:\n",
    "    df = pd.read_csv(path, delimiter=';')\n",
    "df"
   ]
  },
  {
   "cell_type": "code",
   "connections": [],
   "execution_count": 0,
   "metadata": {
    "id": "09ecd049-30f5-4651-b55c-385f2b180d10"
   },
   "outputs": [],
   "source": [
    "train, test = train_test_split(df, test_size = test_size)\r\n",
    "train.reset_index(inplace=True)\r\n",
    "test.reset_index(inplace=True)\r\n",
    "test"
   ]
  },
  {
   "cell_type": "code",
   "connections": [
    {
     "endLine": 3,
     "id": "6aeffa6b-b6d0-4af5-a431-0e2510163c91",
     "path": "/Personal/zihan/hypothesis_testing/equation/equation.ipynb",
     "startLine": 3
    },
    {
     "endLine": 9,
     "id": "6aeffa6b-b6d0-4af5-a431-0e2510163c91",
     "path": "/Personal/zihan/hypothesis_testing/equation/equation.ipynb",
     "startLine": 9
    },
    {
     "endLine": 13,
     "id": "6aeffa6b-b6d0-4af5-a431-0e2510163c91",
     "path": "/Personal/zihan/hypothesis_testing/equation/equation.ipynb",
     "startLine": 13
    },
    {
     "endLine": 18,
     "id": "6aeffa6b-b6d0-4af5-a431-0e2510163c91",
     "path": "/Personal/zihan/hypothesis_testing/equation/equation.ipynb",
     "startLine": 18
    }
   ],
   "execution_count": 0,
   "metadata": {
    "id": "ab69bc7f-1829-4b2d-9301-e76629e2e225"
   },
   "outputs": [],
   "source": [
    "graph = Graph(\"graph\")\r\n",
    "with graph:\r\n",
    "    with inputs:\r\n",
    "        # Inputs for the equation (the x) you may specify the mean and variance if it is known\r\n",
    "        fixed_acidity = Variable('fixed_acidity')\r\n",
    "        volatile_acidity = Variable('volatile_acidity')\r\n",
    "        # volatile_acidity = Variable('volatile_acidity', mean = 0.2, variance = 0.01)\r\n",
    "\r\n",
    "    with outputs:\r\n",
    "        pH = Variable('pH')\r\n",
    "\r\n",
    "    model_parameters = Entity('model_parameters')\r\n",
    "    with model_parameters:\r\n",
    "        a0 = StaticVariable('a0', mean=0, variance=10**2)\r\n",
    "        a1 = StaticVariable('a1', mean=0, variance=10**2)\r\n",
    "        a2 = StaticVariable('a2', mean=0, variance=10**2)\r\n",
    "\r\n",
    "    # The equation\r\n",
    "    pH.mean = a0 + a1 * fixed_acidity + volatile_acidity ** a2\r\n",
    "    # You may specify the variance if you have the domain knowledge\r\n",
    "    # pH.variance = a0 + 1"
   ]
  },
  {
   "cell_type": "code",
   "connections": [],
   "execution_count": 0,
   "metadata": {
    "id": "eb2d2381-d27e-4be1-a2c8-a199c06847e8"
   },
   "outputs": [],
   "source": [
    "# 'Training' the model\r\n",
    "model = get_posterior_model(\r\n",
    "    graph=graph,\r\n",
    "    data={\r\n",
    "        graph.inputs.fixed_acidity: train[\"fixed acidity\"],\r\n",
    "        graph.inputs.volatile_acidity: train[\"volatile acidity\"],\r\n",
    "        graph.outputs.pH: train[\"pH\"],\r\n",
    "    })\r\n",
    "posterior_graph = model.get_posterior_graph()"
   ]
  },
  {
   "cell_type": "code",
   "connections": [
    {
     "endLine": 17,
     "id": "f5f0d472-c57f-44fc-877c-8e8ee0afafb0",
     "path": "/Personal/zihan/hypothesis_testing/equation/equation.ipynb",
     "startLine": 17
    }
   ],
   "execution_count": 0,
   "metadata": {
    "id": "2f478efe-c262-45d9-8490-a0dc2284956a"
   },
   "outputs": [],
   "source": [
    "model = get_generative_model(\r\n",
    "    graph=posterior_graph,\r\n",
    "    data={\r\n",
    "        graph.inputs.fixed_acidity: test[\"fixed acidity\"],\r\n",
    "        graph.inputs.volatile_acidity: test[\"volatile acidity\"],\r\n",
    "    }\r\n",
    ")\r\n",
    "\r\n",
    "predicted_pH = model.get_means(graph.outputs.pH)\r\n",
    "true_pH = list(test['pH'])\r\n",
    "plt.title('Difference between true and predicted values')\r\n",
    "plt.plot(true_pH-predicted_pH)\r\n",
    "plt.show()\r\n",
    "\r\n",
    "mse = mean_squared_error(true_pH, predicted_pH)\r\n",
    "r2 = r2_score(true_pH, predicted_pH)\r\n",
    "print('mse:', mse, 'r2', r2)"
   ]
  },
  {
   "cell_type": "markdown",
   "connections": [],
   "execution_count": 0,
   "metadata": {
    "id": "cd65f39e-020e-40a3-bc03-0349019f3db2"
   },
   "outputs": [],
   "source": [
    "### Copy another template"
   ]
  },
  {
   "cell_type": "code",
   "connections": [],
   "execution_count": 0,
   "metadata": {
    "id": "3a4b5428-5cbc-4d41-a0dd-34b94a2dd63b"
   },
   "outputs": [],
   "source": [
    "from cookiecutter.main import cookiecutter\r\n",
    "from datetime import datetime"
   ]
  },
  {
   "cell_type": "code",
   "connections": [
    {
     "endLine": 5,
     "id": "fdb0d845-629c-48b6-bc7b-b8bacacbb942",
     "path": "/Personal/zihan/gitlab/welcome/use_case_templates/hypothesis_testing/equation/equation.ipynb",
     "startLine": 5
    }
   ],
   "execution_count": 0,
   "metadata": {
    "id": "4f137f14-eeed-4d9d-90cd-620c37b9874b"
   },
   "outputs": [],
   "source": [
    "# Copy a prediction template\n",
    "path = './..'\n",
    "repo = 'https://github.com/erium/welcome'\n",
    "directory = 'use_case_templates/prediction'\n",
    "#cookiecutter(repo, directory=directory, output_dir=path, extra_context={'timestamp': str(datetime.now().strftime(\"%Y-%m-%d %H:%M:%S\"))})"
   ]
  }
 ],
 "metadata": {},
 "nbformat": 4,
 "nbformat_minor": 0
}
