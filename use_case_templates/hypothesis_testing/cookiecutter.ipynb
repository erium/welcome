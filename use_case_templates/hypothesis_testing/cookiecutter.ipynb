{
 "cells": [
  {
   "cell_type": "code",
   "connections": [],
   "execution_count": 0,
   "metadata": {
    "id": "66c360c2-502d-45dc-ab4e-575670583ab9"
   },
   "outputs": [],
   "source": [
    "from cookiecutter.main import cookiecutter\n",
    "from datetime import datetime\n",
    "import glob"
   ]
  },
  {
   "cell_type": "code",
   "connections": [],
   "execution_count": 0,
   "metadata": {
    "id": "b4efddf8-558f-4448-ba56-96ab445523fa"
   },
   "outputs": [],
   "source": [
    "# Specify the name of your project folder (copied into the experiments folder)\r\n",
    "project_folder = 'my-new-project' # Enter the name of your project folder\r\n",
    "\r\n",
    "experiments_dir = glob.glob(\"/home/jovyan/**/\" + project_folder + \"/experiments/\", recursive=True)\r\n",
    "if len(experiments_dir) > 1:\r\n",
    "    print(\"Multiple project folders with the same name. You may select which project folder is correct\")\r\n",
    "    print(experiments_dir)\r\n",
    "    index = int(input(\"Please input the index of the correct folder\"))\r\n",
    "    experiments_dir = experiments_dir[index]\r\n",
    "else:\r\n",
    "    experiments_dir = experiments_dir[0]\r\n",
    "print(experiments_dir)\r\n",
    "\r\n",
    "cookiecutter('.', \r\n",
    "            extra_context={'timestamp': str(datetime.now().strftime(\"%Y-%m-%d %H:%M:%S\"))},\r\n",
    "            output_dir=experiments_dir)"
   ]
  },
  {
   "cell_type": "code",
   "connections": [],
   "execution_count": 0,
   "metadata": {
    "id": "5810c5e5-2402-48f2-ad95-8ce3608b51f8"
   },
   "outputs": [],
   "source": [
    "# OR specify a folder directly to copy the template\r\n",
    "directory = '.'\r\n",
    "\r\n",
    "cookiecutter('.', \r\n",
    "            extra_context={'timestamp': str(datetime.now().strftime(\"%Y-%m-%d %H:%M:%S\"))},\r\n",
    "            output_dir=directory)"
   ]
  }
 ],
 "metadata": {},
 "nbformat": 4,
 "nbformat_minor": 0
}
