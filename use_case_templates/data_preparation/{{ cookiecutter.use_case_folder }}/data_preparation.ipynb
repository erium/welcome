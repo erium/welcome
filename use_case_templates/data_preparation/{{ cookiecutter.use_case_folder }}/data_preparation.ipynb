{
 "cells": [
  {
   "cell_type": "markdown",
   "execution_count": 0,
   "metadata": {
    "id": "74d8081a-beb5-45d7-bed2-4fe0e797c237"
   },
   "outputs": [],
   "source": [
    "# Data Preparation\r\n",
    "\r\n",
    "This is a template notebook for data preparation.\r\n",
    "\r\n",
    "Author: {{ cookiecutter.author_name }}\r\n",
    "Created: {{ cookiecutter.timestamp }}\r\n"
   ]
  },
  {
   "cell_type": "code",
   "execution_count": 0,
   "metadata": {
    "id": "1c8138b4-3e9a-4af0-afee-c875fcc6d9ba"
   },
   "outputs": [],
   "source": [
    "# Link to project experiments folder hypothesis_experiment_learnings.board (refresh and hit enter on this line to see the link)"
   ]
  },
  {
   "cell_type": "markdown",
   "execution_count": 0,
   "metadata": {
    "id": "bffaf089-921b-42e7-b5d7-eb68c9bd5422"
   },
   "outputs": [],
   "source": [
    "## How to use the notebook\r\n",
    "\r\n",
    "The following cells:\r\n",
    "- import the data,\r\n",
    "- perform Data Structuring,\r\n",
    "    - Merge dataframes\r\n",
    "    - Pivot dataframes\r\n",
    "    - Separate Mixed Populations\r\n",
    "- perform Data Cleansing,\r\n",
    "    - Standardise data types, row/column names, and datetimes (if applicable)\r\n",
    "    - Delete or augment missing data/rows\r\n",
    "    - Plot percentile based outlier detection\r\n",
    "- perform Data Transformation and Enrichment,\r\n",
    "    - Encoding (Label/One-hot)\r\n",
    "    - Aggregating\r\n",
    "    - Binning\r\n",
    "    - Regularisation\r\n",
    "    - Dimensionality Reduction\r\n",
    "    - Feature Selection\r\n",
    "    - Consecutive usable time ranges (for time-series)\r\n",
    "\r\n",
    "By default, the notebook is set up to run with an example (Daily Delhi Climate). To see how it works, run the notebook without changing the code.\r\n",
    "\r\n",
    "For your project, adjust the code in the linked cells with your methods and then execute cells in the order you wish to process your data.\r\n",
    "\r\n",
    "Please refer to data_preparation_guide.board for detailed instructions. The headers in this notebook follow the cards on the board."
   ]
  },
  {
   "cell_type": "markdown",
   "execution_count": 0,
   "metadata": {
    "id": "bee0735e-7647-49d6-9d2e-d421fbdb08b1"
   },
   "outputs": [],
   "source": [
    "### Imports and general setup"
   ]
  },
  {
   "cell_type": "code",
   "execution_count": 0,
   "metadata": {
    "id": "595d81ee-9ea8-43d7-a62a-cd2e2b3f69d1"
   },
   "outputs": [],
   "source": [
    "import numpy as np\r\n",
    "import pandas as pd\r\n",
    "\r\n",
    "from modules.modules import *"
   ]
  },
  {
   "cell_type": "markdown",
   "execution_count": 0,
   "metadata": {
    "id": "7b037b57-6333-43c7-9d55-d999fac17faf"
   },
   "outputs": [],
   "source": [
    "## 2. Import the Data"
   ]
  },
  {
   "cell_type": "markdown",
   "execution_count": 0,
   "metadata": {
    "id": "9bd3e4d8-f07b-4cfa-adc5-3bfc0b6928a5"
   },
   "outputs": [],
   "source": [
    "#### 2.1 Read the Data"
   ]
  },
  {
   "cell_type": "code",
   "execution_count": 0,
   "metadata": {
    "id": "33e57af3-79f0-4f13-a7d8-794404e85b4b"
   },
   "outputs": [],
   "source": [
    "# Default example file\n",
    "path = 'https://raw.githubusercontent.com/erium/halerium-example-data/main/data_preparation/DailyDelhiClimateTrainMissing.csv'\n",
    "\n",
    "# <halerium id=\"d9a0fe42-e917-472c-bac8-00390a3874ea\">\n",
    "filepaths = [path] # Multiple filepaths\n",
    "sheet = 0 # Sheet number for Excel\n",
    "sep = \" \" # Separator for text files\n",
    "datetime_col = 'date' # Column name for datetime column\n",
    "# </halerium id=\"d9a0fe42-e917-472c-bac8-00390a3874ea\">\n"
   ]
  },
  {
   "cell_type": "markdown",
   "execution_count": 0,
   "metadata": {
    "id": "0448abc8-0512-4350-a369-0ca5d1c8d78b"
   },
   "outputs": [],
   "source": [
    "#### 2.2 Merge the Data"
   ]
  },
  {
   "cell_type": "code",
   "execution_count": 0,
   "metadata": {
    "id": "c164b717-f11a-42b5-9471-77af140ba258"
   },
   "outputs": [],
   "source": [
    "# <halerium id=\"797fba5f-2179-4412-aa77-bb7f4026f0a0\">\n",
    "join = 'vertical' # 'vertical', 'inner' or 'outer' (if >1 file)\n",
    "# </halerium id=\"797fba5f-2179-4412-aa77-bb7f4026f0a0\">\n"
   ]
  },
  {
   "cell_type": "markdown",
   "execution_count": 0,
   "metadata": {
    "id": "62c1c4f8-ddf4-4e46-bd1c-b54b7a6f2593"
   },
   "outputs": [],
   "source": [
    "Import and merge the raw data"
   ]
  },
  {
   "cell_type": "code",
   "execution_count": 0,
   "metadata": {
    "id": "dc5d3996-de1c-45e0-bd4c-694828a5badb"
   },
   "outputs": [],
   "source": [
    "df = Importer.import_data(filepaths, sheet, sep, datetime_col, join)"
   ]
  },
  {
   "cell_type": "markdown",
   "execution_count": 0,
   "metadata": {
    "id": "0a3054ce-5ab3-4e34-945c-73c521542645"
   },
   "outputs": [],
   "source": [
    "Visualise the raw imported data"
   ]
  },
  {
   "cell_type": "code",
   "execution_count": 0,
   "metadata": {
    "id": "1da1aad1-7be6-4a98-b32c-a9bbfd50ea99"
   },
   "outputs": [],
   "source": [
    "df"
   ]
  },
  {
   "cell_type": "code",
   "execution_count": 0,
   "metadata": {
    "id": "6d657a88-ddbb-42b7-ac3e-1f438c906bad"
   },
   "outputs": [],
   "source": [
    "# <halerium id=\"c8f3911e-b463-4384-a35b-5c975c3b5eb5\">\n",
    "Plotter.plot_line(df)\n",
    "# </halerium id=\"c8f3911e-b463-4384-a35b-5c975c3b5eb5\">\n"
   ]
  },
  {
   "cell_type": "markdown",
   "execution_count": 0,
   "metadata": {
    "id": "ff89b244-96aa-4035-b714-e8e537ad0d68"
   },
   "outputs": [],
   "source": [
    "## 3. Data Structuring"
   ]
  },
  {
   "cell_type": "markdown",
   "execution_count": 0,
   "metadata": {
    "id": "d1120a8e-5421-4eef-a931-005e35d07431"
   },
   "outputs": [],
   "source": [
    "#### 3.1 Pivot the dataframe"
   ]
  },
  {
   "cell_type": "code",
   "execution_count": 0,
   "metadata": {
    "id": "4efac0df-bc48-44cb-bb03-789d38689005"
   },
   "outputs": [],
   "source": [
    "# <halerium id=\"02e67e29-bbd9-4cd9-8231-7aa456c69291\">\n",
    "pivot = False\r\n",
    "# </halerium id=\"02e67e29-bbd9-4cd9-8231-7aa456c69291\">\n",
    "\r\n",
    "if pivot:\r\n",
    "    df = df.T\r\n",
    "df"
   ]
  },
  {
   "cell_type": "markdown",
   "execution_count": 0,
   "metadata": {
    "id": "3e5406c1-cdf2-40b8-8f5b-e4464b230473"
   },
   "outputs": [],
   "source": [
    "#### 3.2 Separate Mixed Populations"
   ]
  },
  {
   "cell_type": "code",
   "execution_count": 0,
   "metadata": {
    "id": "e668d73c-98d5-42ee-99c9-0d40bf9fcb56"
   },
   "outputs": [],
   "source": [
    "# <halerium id=\"6c0ed4e8-8d70-48ad-94b1-f74dcbb0167d\">\n",
    "Plotter.plot_line(df)\n",
    "# </halerium id=\"6c0ed4e8-8d70-48ad-94b1-f74dcbb0167d\">\n"
   ]
  },
  {
   "cell_type": "code",
   "execution_count": 0,
   "metadata": {
    "id": "3700d462-9c0a-4efb-ac30-724db6e47ea2"
   },
   "outputs": [],
   "source": [
    "# <halerium id=\"29a9c302-9106-46d9-b1b7-91510a813220\">\n",
    "population_indexes = [(\"Full\", ('2013-01-01', '2017-01-01'))] # Tuples of (Population name, (index ranges)) for different populations; example data contains only 1 population\n",
    "label_or_position = 'label' # 'label' for label indexes or 'position' for integer 0-based position indexing\n",
    "# </halerium id=\"29a9c302-9106-46d9-b1b7-91510a813220\">\n",
    "\n",
    "populations = PopulationSeparator.separate_populations(df, population_indexes, label_or_position)\n",
    "list(populations.keys())"
   ]
  },
  {
   "cell_type": "markdown",
   "execution_count": 0,
   "metadata": {
    "id": "f1813509-17ac-4d08-bc6c-716f08e64273"
   },
   "outputs": [],
   "source": [
    "Select population"
   ]
  },
  {
   "cell_type": "code",
   "execution_count": 0,
   "metadata": {
    "id": "72735f3c-a4f9-4fe4-9732-c2646c5e4d84"
   },
   "outputs": [],
   "source": [
    "df = populations[\"Full\"]\r\n",
    "df"
   ]
  },
  {
   "cell_type": "markdown",
   "execution_count": 0,
   "metadata": {
    "id": "71531fe6-d6ff-4c04-bea2-b1baec508e3f"
   },
   "outputs": [],
   "source": [
    "## 4. Data Cleansing"
   ]
  },
  {
   "cell_type": "markdown",
   "execution_count": 0,
   "metadata": {
    "id": "5eeed3b7-bc88-4c93-a2ec-7bebc9355495"
   },
   "outputs": [],
   "source": [
    "#### 4.1 Stadardization"
   ]
  },
  {
   "cell_type": "markdown",
   "execution_count": 0,
   "metadata": {
    "id": "6efa34c6-8599-4411-b791-287e8c31473c"
   },
   "outputs": [],
   "source": [
    "Data types"
   ]
  },
  {
   "cell_type": "code",
   "execution_count": 0,
   "metadata": {
    "id": "8d0dee72-28e5-47df-9d3a-17216f0241f7"
   },
   "outputs": [],
   "source": [
    "# <halerium id=\"70169b7a-842e-4285-9d13-48f6019ec3a3\">\n",
    "columns = list(df.columns) # Array of columns you wish to change \r\n",
    "datatype = 'float' # Pandas dtype: 'int', 'float', 'boolean', 'string'...\r\n",
    "# </halerium id=\"70169b7a-842e-4285-9d13-48f6019ec3a3\">\n",
    "\r\n",
    "df = Standardizer.standardize_datatype(df, columns, datatype)\r\n",
    "df"
   ]
  },
  {
   "cell_type": "markdown",
   "execution_count": 0,
   "metadata": {
    "id": "fa8a4604-bfab-48bc-9377-9245197fe6c1"
   },
   "outputs": [],
   "source": [
    "Column names"
   ]
  },
  {
   "cell_type": "code",
   "execution_count": 0,
   "metadata": {
    "id": "6747ce22-ddcf-4100-94cd-edc31dc1f8d1"
   },
   "outputs": [],
   "source": [
    "# <halerium id=\"70169b7a-842e-4285-9d13-48f6019ec3a3\">\n",
    "def rename_col_function(col_name): # Define a function to modify the column name\r\n",
    "    col_name = col_name.replace(\"_\", \"\")\r\n",
    "    col_name = col_name.lower()\r\n",
    "    return col_name\r\n",
    "# </halerium id=\"70169b7a-842e-4285-9d13-48f6019ec3a3\">\n",
    "\r\n",
    "df = Standardizer.standardize_column_names(df, rename_col_function)\r\n",
    "df"
   ]
  },
  {
   "cell_type": "markdown",
   "execution_count": 0,
   "metadata": {
    "id": "93bcb6fd-1405-49af-9979-634535746c96"
   },
   "outputs": [],
   "source": [
    "#### 4.2 Missing values"
   ]
  },
  {
   "cell_type": "code",
   "execution_count": 0,
   "metadata": {
    "id": "7e9749dc-b500-4a19-ae27-df563cda9cb1"
   },
   "outputs": [],
   "source": [
    "# <halerium id=\"208b9d84-2b3d-4a98-aa41-b860f2190ff1\">\n",
    "method = 'mean' # 'delete', 'zero', 'custom', 'mean', 'median', 'mode', 'linear', 'knn', 'interpolate', 'encode'\r\n",
    "# <halerium id=\"208b9d84-2b3d-4a98-aa41-b860f2190ff1\">\n",
    "# </halerium id=\"208b9d84-2b3d-4a98-aa41-b860f2190ff1\">\n",
    "custom_value = 'None' # Custom value if method == 'custom'\r\n",
    "# </halerium id=\"208b9d84-2b3d-4a98-aa41-b860f2190ff1\">\n",
    "# Note: 'mean', 'median', and 'interpolate' do not work on missing categorical values (implies cardinality)\r\n",
    "df = MissingValues.handle_missing(df, method, custom_value)\r\n",
    "df"
   ]
  },
  {
   "cell_type": "markdown",
   "execution_count": 0,
   "metadata": {
    "id": "bf4ccc18-3002-4fca-a48c-5bfddde8ac1c"
   },
   "outputs": [],
   "source": [
    "#### 4.3 Outliers"
   ]
  },
  {
   "cell_type": "code",
   "execution_count": 0,
   "metadata": {
    "id": "d1f67cb4-d0e9-4e70-b6c5-6d24e0a184b2"
   },
   "outputs": [],
   "source": [
    "Plotter.plot_box(df)"
   ]
  },
  {
   "cell_type": "code",
   "execution_count": 0,
   "metadata": {
    "id": "1b55728c-9490-4ebe-aa5f-1fe9f25a0d6c"
   },
   "outputs": [],
   "source": [
    "# <halerium id=\"c8f3911e-b463-4384-a35b-5c975c3b5eb5\">\n",
    "percentile = 0.99 # Specify outlier detection percentile threshold\r\n",
    "upper_or_lower = 'upper' # 'upper' or 'lower' points exceeding percentile\r\n",
    "features = df.columns  # Specify columns to detect outliers on\r\n",
    "# </halerium id=\"c8f3911e-b463-4384-a35b-5c975c3b5eb5\">\n",
    "\r\n",
    "outliers = Outliers.find_outliers(percentile, upper_or_lower, df[features])\r\n",
    "Plotter.show_outliers(df, outliers)\r\n",
    "outliers"
   ]
  },
  {
   "cell_type": "markdown",
   "execution_count": 0,
   "metadata": {
    "id": "ac7ad600-49e1-4c5a-9bc8-05f81d018819"
   },
   "outputs": [],
   "source": [
    "Remove outliers"
   ]
  },
  {
   "cell_type": "code",
   "execution_count": 0,
   "metadata": {
    "id": "ae2720c3-e4cb-4228-b89c-07212a3a4383"
   },
   "outputs": [],
   "source": [
    "df = Outliers.remove_outliers(df, outliers)\r\n",
    "df"
   ]
  },
  {
   "cell_type": "code",
   "execution_count": 0,
   "metadata": {
    "id": "81cb6646-647a-4680-8991-143ab8545448"
   },
   "outputs": [],
   "source": [
    "Plotter.plot_line(df)"
   ]
  },
  {
   "cell_type": "code",
   "execution_count": 0,
   "metadata": {
    "id": "407c3c5f-5530-49a1-a6bb-2745ffdd82b3"
   },
   "outputs": [],
   "source": [
    "Plotter.plot_box(df)"
   ]
  },
  {
   "cell_type": "markdown",
   "execution_count": 0,
   "metadata": {
    "id": "084b03d7-bb0d-4ac5-96e1-c085571293a1"
   },
   "outputs": [],
   "source": [
    "## 5. Data Transformation and Enrichment"
   ]
  },
  {
   "cell_type": "markdown",
   "execution_count": 0,
   "metadata": {
    "id": "8138ced8-4fdf-4f48-8b9a-58682cceac61"
   },
   "outputs": [],
   "source": [
    "#### 5.1 Encoding"
   ]
  },
  {
   "cell_type": "code",
   "execution_count": 0,
   "metadata": {
    "id": "f353e24c-f167-497f-bffc-0fad1a733c5f"
   },
   "outputs": [],
   "source": [
    "# <halerium id=\"6c0ed4e8-8d70-48ad-94b1-f74dcbb0167d\">\n",
    "one_hot_threshold = 10 # Threshold to switch to label encoding\r\n",
    "# </halerium id=\"6c0ed4e8-8d70-48ad-94b1-f74dcbb0167d\">\n",
    "df = Encoder.encode(df, one_hot_threshold)\r\n",
    "df"
   ]
  },
  {
   "cell_type": "markdown",
   "execution_count": 0,
   "metadata": {
    "id": "141b1cf5-313b-4ff2-98f5-dfb5dab5fca9"
   },
   "outputs": [],
   "source": [
    "#### 5.2 Transformation and Enrichment"
   ]
  },
  {
   "cell_type": "markdown",
   "execution_count": 0,
   "metadata": {
    "id": "0b386acc-b591-43f8-b2d2-c37c259666c8"
   },
   "outputs": [],
   "source": [
    "Operations on columns\r\n",
    "Note: Will modify existing columns"
   ]
  },
  {
   "cell_type": "code",
   "execution_count": 0,
   "metadata": {
    "id": "0f91c628-8f26-4047-9d9e-484390929ba2"
   },
   "outputs": [],
   "source": [
    "# <halerium id=\"9330ed5e-3380-4b17-b8e8-7c7545a6f1bd\">\n",
    "single_cols = [\"meantemp\"] # Columns to apply the function on\r\n",
    "def single_cols_function(value): # Function\r\n",
    "    return value * 2\r\n",
    "# </halerium id=\"9330ed5e-3380-4b17-b8e8-7c7545a6f1bd\">\n",
    "\r\n",
    "df = Transformer.single_column_operation(df, single_cols, single_cols_function)\r\n",
    "df"
   ]
  },
  {
   "cell_type": "markdown",
   "execution_count": 0,
   "metadata": {
    "id": "455fdefa-0949-4972-b245-7420d923e31f"
   },
   "outputs": [],
   "source": [
    "Operations between columns"
   ]
  },
  {
   "cell_type": "code",
   "execution_count": 0,
   "metadata": {
    "id": "6fb11d4f-54f5-4a52-88b9-d1b158ac3ecd"
   },
   "outputs": [],
   "source": [
    "# <halerium id=\"9330ed5e-3380-4b17-b8e8-7c7545a6f1bd\">\n",
    "multi_cols = ['meanpressure', 'meantemp', 'humidity'] # Order of columns\r\n",
    "multi_cols_operations = ['divide', 'add'] # Order of operations between each column, 'add', 'subtract', 'multiply', 'divide\r\n",
    "result_col_name = 'result'\r\n",
    "# </halerium id=\"9330ed5e-3380-4b17-b8e8-7c7545a6f1bd\">\n",
    "\r\n",
    "df = Transformer.multi_column_operation(df, multi_cols, multi_cols_operations, result_col_name)\r\n",
    "df"
   ]
  },
  {
   "cell_type": "markdown",
   "execution_count": 0,
   "metadata": {
    "id": "c1ffa91a-8058-4cb6-96b0-230ac55afed3"
   },
   "outputs": [],
   "source": [
    "Normalisation"
   ]
  },
  {
   "cell_type": "code",
   "execution_count": 0,
   "metadata": {
    "id": "4715d671-08c8-452d-9cdf-ff680b4d2a23"
   },
   "outputs": [],
   "source": [
    "# <halerium id=\"9330ed5e-3380-4b17-b8e8-7c7545a6f1bd\">\n",
    "normalise = True\r\n",
    "# </halerium id=\"9330ed5e-3380-4b17-b8e8-7c7545a6f1bd\">\n",
    "\r\n",
    "if normalise:\r\n",
    "    df = Transformer.normalise(df)\r\n",
    "df"
   ]
  },
  {
   "cell_type": "markdown",
   "execution_count": 0,
   "metadata": {
    "id": "3dc0a134-8894-4161-b051-1229929ae6ad"
   },
   "outputs": [],
   "source": [
    "Binning"
   ]
  },
  {
   "cell_type": "code",
   "execution_count": 0,
   "metadata": {
    "id": "291d6452-8fd5-442a-8e33-9c9b37168b0b"
   },
   "outputs": [],
   "source": [
    "# <halerium id=\"9330ed5e-3380-4b17-b8e8-7c7545a6f1bd\">\n",
    "binning_columns = ['meantemp']\r\n",
    "binning_thresholds = [0, 0.33, .67, 1]\r\n",
    "binning_labels = [\"Low\", \"Medium\", \"High\"] # Labels must be 1 fewer than thresholds\r\n",
    "# </halerium id=\"9330ed5e-3380-4b17-b8e8-7c7545a6f1bd\">\n",
    "\r\n",
    "df = Transformer.binning(df, binning_columns, binning_thresholds, binning_labels)\r\n",
    "df"
   ]
  },
  {
   "cell_type": "markdown",
   "execution_count": 0,
   "metadata": {
    "id": "396d8fe5-c4ae-49bc-a584-b011caaf835b"
   },
   "outputs": [],
   "source": [
    "Select Columns"
   ]
  },
  {
   "cell_type": "code",
   "execution_count": 0,
   "metadata": {
    "id": "4a072bdb-ae9e-4853-9cc5-0668e6a06fe7"
   },
   "outputs": [],
   "source": [
    "# <halerium id=\"9330ed5e-3380-4b17-b8e8-7c7545a6f1bd\">\n",
    "select_columns = ['meantemp', 'humidity', 'windspeed', 'meanpressure', 'result', 'meantemp_bin']\r\n",
    "# </halerium id=\"9330ed5e-3380-4b17-b8e8-7c7545a6f1bd\">\n",
    "\r\n",
    "df = df[select_columns]\r\n",
    "df"
   ]
  },
  {
   "cell_type": "markdown",
   "execution_count": 0,
   "metadata": {
    "id": "0a18ce68-e0af-40f7-aaf9-122091598c4d"
   },
   "outputs": [],
   "source": [
    "## 6. Export the prepared data"
   ]
  },
  {
   "cell_type": "markdown",
   "execution_count": 0,
   "metadata": {
    "id": "5a2924ce-86c2-4222-8f34-c5a5a03f8e26"
   },
   "outputs": [],
   "source": [
    "View final df before export"
   ]
  },
  {
   "cell_type": "code",
   "execution_count": 0,
   "metadata": {
    "id": "7b7afb4a-c89b-4f00-b7dd-61cbf0993b91"
   },
   "outputs": [],
   "source": [
    "df"
   ]
  },
  {
   "cell_type": "code",
   "execution_count": 0,
   "metadata": {
    "id": "fd7530cd-3491-4355-8585-14b5f2bacc52"
   },
   "outputs": [],
   "source": [
    "Plotter.plot_line(df)"
   ]
  },
  {
   "cell_type": "code",
   "execution_count": 0,
   "metadata": {
    "id": "fca4ea76-b528-4f69-8eec-1bc6ba1d8f00"
   },
   "outputs": [],
   "source": [
    "# <halerium id=\"c9f23d08-4d4f-44d1-ae91-6bb801a365ec\">\n",
    "export_path = './export.csv'\r\n",
    "# </halerium id=\"c9f23d08-4d4f-44d1-ae91-6bb801a365ec\">\n",
    "\r\n",
    "df.to_csv(export_path)"
   ]
  }
 ],
 "metadata": {},
 "nbformat": 4,
 "nbformat_minor": 0
}
