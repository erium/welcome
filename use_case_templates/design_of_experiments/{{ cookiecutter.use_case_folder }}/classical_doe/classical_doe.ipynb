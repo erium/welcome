{
 "cells": [
  {
   "cell_type": "markdown",
   "connections": [],
   "execution_count": 0,
   "metadata": {
    "id": "dacef8b5-1572-44b7-bd81-b6fad33d9156"
   },
   "outputs": [],
   "source": [
    "# DoE with classical designs\r\n",
    "\r\n",
    "This is a template notebook for classical designs of experiments.\r\n",
    "\r\n",
    "Author: {{ cookiecutter.author_name }}\r\n",
    "Created: {{ cookiecutter.timestamp }}"
   ]
  },
  {
   "cell_type": "markdown",
   "connections": [],
   "execution_count": 0,
   "metadata": {
    "id": "dc7c69e0-adf9-428c-9181-b594afb316c3"
   },
   "outputs": [],
   "source": [
    "## How to use the notebook\r\n",
    "\r\n",
    "The following cells:\r\n",
    "- specify the parameter search space, the objective, and any other metrics,\r\n",
    "- specifiy, which classical design should be employed, and\r\n",
    "- computes the list of suggested parameter sets, with which to run trials in your experiment. \r\n",
    "\r\n",
    "By default, the notebook is set up to run with an example. To see how it works, run the notebook (multiple times) without changing the code.\r\n",
    "\r\n",
    "For your project, adjust the code in the linked cells with your objectives, variables, dataset etc. and then execute all cells in order.\r\n",
    "\r\n",
    "Please refer to classical_doe.board for detailed instructions."
   ]
  },
  {
   "cell_type": "code",
   "connections": [],
   "execution_count": 0,
   "metadata": {
    "id": "4cbcfc72-7817-4d52-ab5c-f8f853bb0558"
   },
   "outputs": [],
   "source": [
    "# Link to project experiments folder hypothesis_experiment_learnings.board (refresh and hit enter on this line to see the link)"
   ]
  },
  {
   "cell_type": "markdown",
   "connections": [],
   "execution_count": 0,
   "metadata": {
    "id": "21d22036-55e9-4ab8-b760-945afe7e7674"
   },
   "outputs": [],
   "source": [
    "## Imports  and general setup"
   ]
  },
  {
   "cell_type": "code",
   "connections": [],
   "execution_count": 0,
   "metadata": {
    "id": "553f8fb5-c20d-4084-bd5a-cd96a10e03de"
   },
   "outputs": [],
   "source": [
    "import os\r\n",
    "\r\n",
    "from datetime import datetime\r\n",
    "\r\n",
    "import numpy as np\r\n",
    "import pandas as pd\r\n",
    "import matplotlib.pyplot as plt\r\n",
    "\r\n",
    "from classical_designs import get_design\r\n",
    "from classical_designs import get_d_utility_for_polynomial_model\r\n",
    "\r\n",
    "\r\n",
    "plt.style.use(\"dark_background\")\r\n"
   ]
  },
  {
   "cell_type": "markdown",
   "connections": [],
   "execution_count": 0,
   "metadata": {
    "id": "61fecee5-3807-422a-92b9-fa87bedc0b7d"
   },
   "outputs": [],
   "source": [
    "## Project"
   ]
  },
  {
   "cell_type": "code",
   "connections": [
    {
     "endLine": 1,
     "id": "f0b070ad-8a84-44d4-899e-dda3696b4a14",
     "startLine": 1
    },
    {
     "endLine": 2,
     "id": "dc8be860-579e-40fe-b3f6-024589b3c6ef",
     "startLine": 2
    }
   ],
   "execution_count": 0,
   "metadata": {
    "id": "ffa2b233-eff4-422e-b1bd-c28c66c02ac4"
   },
   "outputs": [],
   "source": [
    "experiment_name = '{{cookiecutter.use_case_name}}'  # please provide a name for the experiment\r\n",
    "data_dir = \"./\"           # please provide a name for saving the trial data for the experiment"
   ]
  },
  {
   "cell_type": "markdown",
   "connections": [],
   "execution_count": 0,
   "metadata": {
    "id": "690254a2-29bd-4c97-a265-976f280b3009"
   },
   "outputs": [],
   "source": [
    "## Metrics"
   ]
  },
  {
   "cell_type": "code",
   "connections": [
    {
     "endLine": 1,
     "id": "e42d5eb3-07d1-493b-9430-555a397f22c0",
     "startLine": 1
    }
   ],
   "execution_count": 0,
   "metadata": {
    "id": "ad4eafb9-4911-4302-935c-758ca5c776a5"
   },
   "outputs": [],
   "source": [
    "metrics = [\"cost\", \"quality\"]   # please provide a list of metrics"
   ]
  },
  {
   "cell_type": "markdown",
   "connections": [],
   "execution_count": 0,
   "metadata": {
    "id": "07725fbf-8615-44e2-beaf-2ff10fcc4cc8"
   },
   "outputs": [],
   "source": [
    "## Parameters"
   ]
  },
  {
   "cell_type": "code",
   "connections": [
    {
     "endLine": 28,
     "id": "2e752258-a41d-4508-b092-e7103d64478a",
     "startLine": 1
    }
   ],
   "execution_count": 0,
   "metadata": {
    "id": "4ae8cc71-ece6-4797-bdd0-ce1171928b20"
   },
   "outputs": [],
   "source": [
    "parameters = [\r\n",
    "    # please insert the information on the names and bound/values of the parameters to try:\r\n",
    "    {\r\n",
    "        \"name\": \"x1\",           # the name of the parameter\r\n",
    "        \"type\": \"range\",        # the type of parameter: \"range\" is for continuous parameters\r\n",
    "        \"bounds\": [0., 1.],     # the lower and upper bound of the parameter as a tuple for range parameters\r\n",
    "        \"n_values\": 3,          # the number of different values for the range parameter to try\r\n",
    "    },\r\n",
    "    {\r\n",
    "        \"name\": \"x2\",\r\n",
    "        \"type\": \"range\",\r\n",
    "        \"bounds\": [0., 10.],\r\n",
    "        \"n_values\": 3, \r\n",
    "    },  \r\n",
    "    {\r\n",
    "        \"name\": \"x3\",\r\n",
    "        \"type\": \"range\",\r\n",
    "        \"bounds\": [-5., 5.],\r\n",
    "        \"n_values\": 3, \r\n",
    "    },  \r\n",
    "#    {\r\n",
    "#        \"name\": \"x4\",\r\n",
    "#        \"type\": \"choice\",                    # the type of parameter: \"choice\" is for discrete parameters\r\n",
    "#        \"values\": [\"up\", \"down\", \"stange\"],  # the values to try from for parameter#\r\n",
    "#        \"is_ordered\": False,                 # whether values are ordered\r\n",
    "#    },   \r\n",
    "]\r\n"
   ]
  },
  {
   "cell_type": "markdown",
   "connections": [],
   "execution_count": 0,
   "metadata": {
    "id": "341bf46d-947d-497f-86a9-95cf232377b5"
   },
   "outputs": [],
   "source": [
    "## Design"
   ]
  },
  {
   "cell_type": "code",
   "connections": [
    {
     "endLine": 11,
     "id": "fff941c8-82f9-40d5-8b5e-76b9f56b4211",
     "startLine": 1
    }
   ],
   "execution_count": 0,
   "metadata": {
    "id": "5f985689-5ca9-4565-afd7-858d662fcad4"
   },
   "outputs": [],
   "source": [
    "design_type = \"full_factorial\"               # the type of design, available are:\r\n",
    "                                             #  - \"simple_central\": just a central design\r\n",
    "                                             #  - \"mixed_central\": central + mixed second order design\r\n",
    "                                             #  - \"full_central\": central + full 2-level factorial design\r\n",
    "                                             #  - \"full_factorial\": full factorial design\r\n",
    "                                             #  - \"random_factorial\": random factorial design\r\n",
    "                                             #  - \"random\": random design\r\n",
    "\r\n",
    "n_trials = 100                               # number of trials unless determined by design\r\n",
    "sort_values = False                          # whether to sort trials by parameter values\r\n",
    "sort_ascending = True                        # whether to sort in ascending order\r\n"
   ]
  },
  {
   "cell_type": "markdown",
   "connections": [],
   "execution_count": 0,
   "metadata": {
    "id": "37048793-a9a0-447e-b802-15930041e82b"
   },
   "outputs": [],
   "source": [
    "## Expected performance for polynomial models\r\n",
    "\r\n",
    "In case, all parameters are continuous, you can compute the expected performance of the design for estimating the parameters of a polynomial model."
   ]
  },
  {
   "cell_type": "code",
   "connections": [
    {
     "endLine": 2,
     "id": "fff941c8-82f9-40d5-8b5e-76b9f56b4211",
     "startLine": 1
    }
   ],
   "execution_count": 0,
   "metadata": {
    "id": "623c61d2-ed2b-481c-969a-a61129ee5590"
   },
   "outputs": [],
   "source": [
    "order = 2                                   # the order of the polynomial model\r\n",
    "mixed = False                               # whether to include mixed terms for order >= 2\r\n"
   ]
  },
  {
   "cell_type": "markdown",
   "connections": [],
   "execution_count": 0,
   "metadata": {
    "id": "25fd284e-89c5-40ba-9b36-b81c541a47a1"
   },
   "outputs": [],
   "source": [
    "## Trial generation"
   ]
  },
  {
   "cell_type": "markdown",
   "connections": [],
   "execution_count": 0,
   "metadata": {
    "id": "fd689942-c238-48a7-a9c9-f268bc690bec"
   },
   "outputs": [],
   "source": [
    "### Get the design"
   ]
  },
  {
   "cell_type": "code",
   "connections": [
    {
     "endLine": 22,
     "id": "5fc2585e-3bed-4036-80fd-4a4d9a41014a",
     "startLine": 3
    }
   ],
   "execution_count": 0,
   "metadata": {
    "id": "6d66342b-a8a2-44bc-b765-804c41338c83"
   },
   "outputs": [],
   "source": [
    "result_columns = [metric + suffix for metric in metrics for suffix in (\"_mean\", \"_SEM\")]\r\n",
    "\r\n",
    "design = get_design(parameters=parameters,\r\n",
    "                    design_type=design_type, \r\n",
    "                    n_trials=n_trials,\r\n",
    "                    sort_values=sort_values,\r\n",
    "                    sort_ascending=sort_ascending,\r\n",
    "                    metrics=result_columns)\r\n",
    "\r\n",
    "print(\"design:\")\r\n",
    "display(design)\r\n",
    "print(f\"type = {design_type}\")\r\n",
    "print(f\"n_trials = {len(design)}\")\r\n",
    "\r\n",
    "data_file_name = os.path.join(data_dir,  f\"data_{experiment_name}_running_trials.csv\")\r\n",
    "print(f\"the data will be stored in: {data_file_name}\")\r\n",
    "\r\n",
    "if os.path.exists(data_file_name):\r\n",
    "    dt = datetime.now().strftime(\"%Y_%m_%d_%H_%M_%S\")\r\n",
    "    os.rename(data_file_name, os.path.join(data_dir,  f\"data_{experiment_name}_running_trials_{dt}.csv\"))\r\n",
    "\r\n",
    "design.to_csv(data_file_name)\r\n"
   ]
  },
  {
   "cell_type": "markdown",
   "connections": [],
   "execution_count": 0,
   "metadata": {
    "id": "c4c3055b-092a-4adb-ae58-157dc27e608a"
   },
   "outputs": [],
   "source": [
    "### Judge the design"
   ]
  },
  {
   "cell_type": "code",
   "connections": [
    {
     "endLine": 9,
     "id": "5fc2585e-3bed-4036-80fd-4a4d9a41014a",
     "startLine": 1
    }
   ],
   "execution_count": 0,
   "metadata": {
    "id": "1507a8fd-888b-44b4-b27d-42a5ccef0e7d"
   },
   "outputs": [],
   "source": [
    "if all(p[\"type\"] == \"range\" for p in parameters):\r\n",
    "    random_design = get_design(parameters, design_type=\"random\", n_trials=len(design), metrics=metrics)\r\n",
    "    d_utility = get_d_utility_for_polynomial_model(parameters, design, order=order, mixed=mixed)\r\n",
    "    random_d_utility = get_d_utility_for_polynomial_model(parameters, random_design, order=order, mixed=mixed)\r\n",
    "\r\n",
    "    print(f\"d utility for a {'mixed' if mixed else 'simple'} polynomial model of order = {order}:\")\r\n",
    "    print(f\"for this {design_type} design: {d_utility}\")\r\n",
    "    print(f\"for a random design: {random_d_utility}\")\r\n"
   ]
  }
 ],
 "metadata": {},
 "nbformat": 4,
 "nbformat_minor": 0
}
