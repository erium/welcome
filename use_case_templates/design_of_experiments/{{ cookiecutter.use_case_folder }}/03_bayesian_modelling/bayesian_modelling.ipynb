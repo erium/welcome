{
 "cells": [
  {
   "cell_type": "markdown",
   "id": "d5946d0d-1fbb-45cb-b24a-05a15dfe2919",
   "metadata": {
    "id": "a948ffe1-fea8-4e29-ba78-696f4199a6ef"
   },
   "source": [
    "# Bayesian modelling\n",
    "\n",
    "This is a template notebok for design of experiments for bayesian modelling."
   ]
  },
  {
   "cell_type": "markdown",
   "id": "ea23c23b-a849-4269-bc27-ec924badd4f0",
   "metadata": {
    "id": "fb0e5492-5afe-45c8-a57b-f960ee88c49b",
    "tags": []
   },
   "source": [
    "## How to use the notebook\n",
    "\n",
    "The following cells:\n",
    "- specify the model and the adjustable parameters, observable quatities, and targets,\n",
    "- specify the possible designs,\n",
    "- compute the expected information gaing (EIG) for the suggested designs,\n",
    "- help choose a design among the suggested designs,\n",
    "- fit the model to the results from running the experiment with that design.\n",
    "\n",
    "To just see how it works for a toy example, simply run the whole notebook as is (multiple times).\n",
    "\n",
    "For your own project, adjust the details about model, designs, etc. and then execute all cells in order.\n",
    "The board \"bayesian_modelling.board\" will help you with detailed instructions."
   ]
  },
  {
   "cell_type": "markdown",
   "id": "38a7e47b-69b0-4403-a9d5-34d3ab80b73b",
   "metadata": {
    "id": "cb861886-1c26-4493-af87-4ce9c0f63799"
   },
   "source": [
    "## Imports and general setup"
   ]
  },
  {
   "cell_type": "code",
   "execution_count": null,
   "id": "0251c1ba-c0a6-4358-9406-c6fd453356f2",
   "metadata": {
    "id": "d41c06b7-aa3d-4783-8b96-c524459240f1"
   },
   "outputs": [],
   "source": [
    "import os\n",
    "\n",
    "from datetime import datetime\n",
    "\n",
    "import numpy as np\n",
    "import pandas as pd\n",
    "\n",
    "import matplotlib.pyplot as plt\n",
    "import matplotlib.cm as cm\n",
    "\n",
    "import halerium.core as hal\n",
    "from halerium import InformationGainEstimator, show\n",
    "from halerium.core import Graph, Entity, Variable, StaticVariable, connect_via_regression, get_posterior_model\n",
    "\n",
    "import classical_designs\n",
    "\n",
    "plt.style.use(\"dark_background\")\n"
   ]
  },
  {
   "cell_type": "markdown",
   "id": "8b214186-eb96-48a7-b190-110dc7648986",
   "metadata": {
    "id": "3fa33fb3-c6fb-4530-b32f-3dd718350f70"
   },
   "source": [
    "## Project"
   ]
  },
  {
   "cell_type": "code",
   "connections": [
    {
     "endLine": 2,
     "id": "96211b1e-5ec0-4301-8cc5-5b639cd1197e",
     "path": "/Personal/zihan/welcome/use_case_templates/design_of_experiments/{{ cookiecutter.use_case_folder }}/03_bayesian_modelling/bayesian_modelling.ipynb",
     "startLine": 1
    }
   ],
   "execution_count": null,
   "id": "3be55183-b5ae-432b-a480-c486a2ce1077",
   "metadata": {
    "id": "b2159c94-6af5-426a-946f-e60337f1c179"
   },
   "outputs": [],
   "source": [
    "experiment_name = '{{cookiecutter.use_case_name}}' # please provide a name for the optimization experiment\n",
    "data_dir = \"./\"           # please provide a name for saving the trial data for the experiment\n",
    "\n",
    "data_file_name = os.path.join(data_dir,  f\"data_{experiment_name}_running_trials.csv\")\n",
    "print(f\"the trial data will be read from/stored in: {data_file_name}\")\n"
   ]
  },
  {
   "cell_type": "markdown",
   "id": "4a8ce735-25e9-45a8-95cd-bc88a70056f2",
   "metadata": {
    "id": "cfd7da21-cfd3-461a-a8f4-f5ed34c277e7"
   },
   "source": [
    "## The graph\n",
    "\n",
    "I Halerium graph is the way to describe a statistical model in Halerium Inference (https://hal.erium.io/).\n",
    "\n",
    "Please specify the Halerium graph of your model:"
   ]
  },
  {
   "cell_type": "code",
   "connections": [
    {
     "endLine": 16,
     "id": "e2cac502-88f7-4346-bf9c-7a04c99fd10b",
     "path": "/Internal/welcome/templates/design_of_experiments/03_bayesian_modelling/bayesian_modelling.ipynb",
     "startLine": 1
    }
   ],
   "execution_count": null,
   "id": "be1ec74d-21dc-4abb-ba3d-a88fc82ab40f",
   "metadata": {
    "id": "25abd182-1b25-41e1-abf2-78435c734a5a"
   },
   "outputs": [],
   "source": [
    "with Graph(\"process_graph\") as process_graph:\n",
    "    \n",
    "    with Entity(\"input_parameters\") as input_parameters:\n",
    "        x1 = Variable(\"x1\", shape=(), mean=0, variance=1)\n",
    "        x2 = Variable(\"x2\", shape=(), mean=0, variance=1)\n",
    "        x3 = Variable(\"x3\", shape=(), mean=0, variance=1)\n",
    "        \n",
    "    with Entity(\"outcome\") as outcome:\n",
    "        cost    = Variable(\"cost\"   , shape=(), mean=0, variance=0.1**2)\n",
    "        quality = Variable(\"quality\", shape=(), mean=0, variance=0.1**2)\n",
    "        \n",
    "    connect_via_regression(name_prefix=\"regression_parameter\", \n",
    "                           inputs=[x1, x2, x3],\n",
    "                           outputs=[cost, quality],\n",
    "                           order=2,\n",
    "                           include_cross_terms=True)\n",
    "    \n",
    "show(process_graph)        \n",
    "        "
   ]
  },
  {
   "cell_type": "markdown",
   "id": "12cfd23a-db45-4d89-a04e-2e917f4915f4",
   "metadata": {
    "id": "d0da62b0-5b77-4299-ba13-21ee1fed7ed2"
   },
   "source": [
    "## Parameters, observables, targets"
   ]
  },
  {
   "cell_type": "code",
   "connections": [
    {
     "endLine": 28,
     "id": "93d2c0fe-b771-45d3-8b4f-07885aa9f1e3",
     "path": "/Internal/welcome/templates/design_of_experiments/03_bayesian_modelling/bayesian_modelling.ipynb",
     "startLine": 1
    }
   ],
   "execution_count": null,
   "id": "4009b18d-5bae-409e-afbd-5ddb1beb5001",
   "metadata": {
    "id": "68763d42-0755-4bae-a2ec-3d5b524e4ec7"
   },
   "outputs": [],
   "source": [
    "parameters = [\n",
    "    # please insert the information on the names and bound/values of the parameters to try:\n",
    "    {\n",
    "        \"name\": \"x1\",           # the name of the parameter\n",
    "        \"type\": \"range\",        # the type of parameter: \"range\" is for continuous parameters\n",
    "        \"bounds\": [0., 1.],     # the lower and upper bound of the parameter as a tuple for range parameters\n",
    "        \"n_values\": 3,          # the number of different values for the range parameter to try\n",
    "        \"variable\": x1          # the variable in the Halerium graph representing the parameter\n",
    "    },\n",
    "    {\n",
    "        \"name\": \"x2\",\n",
    "        \"type\": \"range\",\n",
    "        \"bounds\": [0., 10.],\n",
    "        \"n_values\": 3,\n",
    "        \"variable\": x2\n",
    "    },  \n",
    "    {\n",
    "        \"name\": \"x3\",\n",
    "        \"type\": \"range\",\n",
    "        \"bounds\": [-5., 5.],\n",
    "        \"n_values\": 3,\n",
    "        \"variable\": x3\n",
    "    },\n",
    "]\n",
    "\n",
    "design_variables = [parameter[\"variable\"] for parameter in parameters]\n",
    "observables = [cost, quality]\n",
    "targets = process_graph.get_all_variables(included_types=StaticVariable)\n"
   ]
  },
  {
   "cell_type": "markdown",
   "connections": [],
   "id": "d17542d3-0a5f-4661-a756-1ee8bb9552bd",
   "metadata": {
    "id": "04f9ad5b-441f-4a49-b612-3746e055f875"
   },
   "source": [
    "## Designs\r\n",
    "\r\n",
    "In the example code in the cell below, the designs are various \"classical\" designs.\r\n",
    "\r\n",
    "You can also specify your own designs. The format for each design is:\r\n",
    "\r\n",
    "`{\r\n",
    "    first_design_variable: list_of_its_values_for_each_trial,\r\n",
    "    second_design_variable: list_of_its_values_for_each_trial,\r\n",
    "    ...\r\n",
    " }`\r\n",
    "\r\n",
    "Finally, all designs put into a list, which will be fed to the EIG estimation algorithm."
   ]
  },
  {
   "cell_type": "code",
   "connections": [
    {
     "endLine": 15,
     "id": "4b040ddc-4ddb-4dbf-8083-1ff877b3efbf",
     "path": "/Internal/welcome/templates/design_of_experiments/03_bayesian_modelling/bayesian_modelling.ipynb",
     "startLine": 1
    }
   ],
   "execution_count": null,
   "id": "ee982057-57ce-4957-b006-46c8b17d64c6",
   "metadata": {
    "id": "e8f61902-f794-4335-a2c2-9d8480f9e0d4"
   },
   "outputs": [],
   "source": [
    "design_names = [\n",
    "    \"full_factorial\",\n",
    "    \"simple_central\",\n",
    "    \"mixed_central\" ,\n",
    "    \"full_central\"  ,    \n",
    "]\n",
    "\n",
    "observable_names = [variable.name for variable in observables]\n",
    "\n",
    "design_datas = [classical_designs.get_design(parameters, design_name, metrics=observable_names)\n",
    "                 for design_name in design_names]\n",
    "n_trials = [len(table) for table in design_datas]\n",
    "\n",
    "designs = [{parameter[\"variable\"]: design_data[parameter[\"name\"]].values for parameter in parameters}\n",
    "           for design_data in design_datas]\n"
   ]
  },
  {
   "cell_type": "markdown",
   "id": "c21c7bf6-c0ac-4a28-9023-4ffa2bc01a63",
   "metadata": {
    "id": "6ea96ecf-6faa-4bc1-892a-fe64bc414fcb"
   },
   "source": [
    "## Expected information gains"
   ]
  },
  {
   "cell_type": "code",
   "connections": [
    {
     "endLine": 7,
     "id": "ee564952-0a0c-49c4-b78c-af6a6f8a6741",
     "path": "/Internal/welcome/templates/design_of_experiments/03_bayesian_modelling/bayesian_modelling.ipynb",
     "startLine": 1
    }
   ],
   "execution_count": null,
   "id": "c90f9be1-0244-4c5d-a940-e85202d73054",
   "metadata": {
    "id": "814076b0-fad5-4dc7-8360-a563eec47364"
   },
   "outputs": [],
   "source": [
    "estimator = InformationGainEstimator(\n",
    "    graph=process_graph,\n",
    "    designs=designs,\n",
    "    observables=observables,\n",
    "    targets=targets,\n",
    ")\n",
    "eigs = estimator()\n"
   ]
  },
  {
   "cell_type": "code",
   "connections": [
    {
     "endLine": 19,
     "id": "ee564952-0a0c-49c4-b78c-af6a6f8a6741",
     "path": "/Internal/welcome/templates/design_of_experiments/03_bayesian_modelling/bayesian_modelling.ipynb",
     "startLine": 1
    }
   ],
   "execution_count": null,
   "id": "ae95ea4a-3429-4d2c-be31-2ff3e3949678",
   "metadata": {
    "id": "2e25fd09-85c4-4640-8df7-a14bedfdc375"
   },
   "outputs": [],
   "source": [
    "design_stats = pd.DataFrame(index=pd.Index((), name=\"index\"))\n",
    "design_stats[\"name\"] = design_names\n",
    "design_stats[\"n_trials\"] = n_trials\n",
    "design_stats[\"EIG\"] = eigs\n",
    "design_stats[\"EIG_per_trial\"] = design_stats[\"EIG\"] / design_stats[\"n_trials\"]\n",
    "\n",
    "display(design_stats)\n",
    "\n",
    "i_largest_eig = design_stats[\"EIG\"].argmax()\n",
    "i_largest_eig_per_trial = design_stats[\"EIG_per_trial\"].argmax()\n",
    "\n",
    "largest_eig_stats = pd.Series((i_largest_eig, ), index=(\"index\",)).append(design_stats.loc[i_largest_eig])\n",
    "largest_eig_per_trial_stats = pd.Series((i_largest_eig_per_trial, ), index=(\"index\",)).append(design_stats.loc[i_largest_eig_per_trial])\n",
    "\n",
    "print(\"\\ndesign with largest EIG:\")\n",
    "display(largest_eig_stats)\n",
    " \n",
    "print(\"\\ndesign with largest EIG per trial:\")\n",
    "display(largest_eig_per_trial_stats)\n",
    "                                                                                          "
   ]
  },
  {
   "cell_type": "markdown",
   "id": "2f8c7165-dcb7-4725-bd8e-d09369e9aa54",
   "metadata": {
    "id": "7e896285-c587-43e5-98b2-1e96a7cedf7d"
   },
   "source": [
    "## Choose a design\n",
    "\n",
    "Please choose a design."
   ]
  },
  {
   "cell_type": "code",
   "connections": [
    {
     "endLine": 12,
     "id": "bcd9d7ea-001a-4be7-bffc-0e286532b5d0",
     "path": "/Internal/welcome/templates/design_of_experiments/03_bayesian_modelling/bayesian_modelling.ipynb",
     "startLine": 1
    }
   ],
   "execution_count": null,
   "id": "3b50a002-3285-4184-8f92-c1aef85d89e6",
   "metadata": {
    "id": "46c1a0e9-a1c6-4e04-93e8-41d9bf2ea7f4"
   },
   "outputs": [],
   "source": [
    "design_data = design_datas[0]\n",
    "display(design_data)\n",
    "\n",
    "\n",
    "data_file_name = os.path.join(data_dir,  f\"data_{experiment_name}_running_trials.csv\")\n",
    "print(f\"the data will be stored in: {data_file_name}\")\n",
    "\n",
    "if os.path.exists(data_file_name):\n",
    "    dt = datetime.now().strftime(\"%Y_%m_%d_%H_%M_%S\")\n",
    "    os.rename(data_file_name, os.path.join(data_dir,  f\"data_{experiment_name}_running_trials_{dt}.csv\"))\n",
    "\n",
    "design_data.to_csv(data_file_name)\n"
   ]
  },
  {
   "cell_type": "markdown",
   "id": "e0f703ef-53c6-4e36-b26d-bb6af1257ca8",
   "metadata": {
    "id": "279cc2fd-86dd-4239-9976-77ab5b373f7f"
   },
   "source": [
    "## Run the experiment\n",
    "\n",
    "Run the experiment with the chosen design.\n",
    "\n",
    "Note that the following cell contains code to invent trial results for demonstration purposes. \n",
    "\n",
    "For real applications, either\n",
    " - replace the cell with appropriate code for retrieving the actual trial results, or \n",
    " - remove the cell entirely, if you intend to add the trial results to the data files in a different way.\n"
   ]
  },
  {
   "cell_type": "code",
   "connections": [
    {
     "endLine": 8,
     "id": "1d26295c-5086-4712-8713-68b072ad99c1",
     "path": "/Internal/welcome/templates/design_of_experiments/03_bayesian_modelling/bayesian_modelling.ipynb",
     "startLine": 1
    }
   ],
   "execution_count": null,
   "id": "ec6dc370-9d0e-4c73-be89-4cd7a6ab2ff2",
   "metadata": {
    "id": "bee92b75-cd0a-4069-bbf0-2f19266c417d"
   },
   "outputs": [],
   "source": [
    "data = pd.read_csv(data_file_name, index_col=\"index\")\n",
    "\n",
    "data[\"cost\"] = (data[\"x1\"] - 0.6)**2 + 0.1 * (data[\"x2\"] - 7.)**2  + 0.3 *(data[\"x3\"] - 2.)**2\n",
    "data[\"quality\"] = 2./(1 + np.exp(-data[\"x2\"] + 2))\n",
    "\n",
    "# display(data)\n",
    "\n",
    "data.to_csv(data_file_name)\n"
   ]
  },
  {
   "cell_type": "markdown",
   "id": "323e5230-4484-48e8-8447-5c30405a3827",
   "metadata": {
    "id": "59a08294-a3b4-4516-a0d9-cfb628555923"
   },
   "source": [
    "## Read the experiment's results"
   ]
  },
  {
   "cell_type": "code",
   "connections": [
    {
     "endLine": 7,
     "id": "1cf558af-350b-4540-a15a-d570ceeadef9",
     "path": "/Internal/welcome/templates/design_of_experiments/03_bayesian_modelling/bayesian_modelling.ipynb",
     "startLine": 1
    }
   ],
   "execution_count": null,
   "id": "71c54e7f-da13-4c4b-8d12-b525b3b01d8e",
   "metadata": {
    "id": "8d4712e5-487f-4724-81ec-7a7df7d2c726"
   },
   "outputs": [],
   "source": [
    "data = pd.read_csv(data_file_name, index_col=\"index\")\n",
    "\n",
    "display(data)\n",
    "\n",
    "variables = design_variables + observables\n",
    "data_for_variables = [data[parameter[\"name\"]] for parameter in parameters] + [data[name] for name in observable_names]\n",
    "data_for_fit = {variable: data_for_variable.values for variable, data_for_variable in zip(variables, data_for_variables)}\n"
   ]
  },
  {
   "cell_type": "markdown",
   "id": "f193dda5-4fea-445f-8658-8f009fe8e82c",
   "metadata": {
    "id": "d504488f-103e-43a6-a560-a1e21353a66e"
   },
   "source": [
    "## Fit model"
   ]
  },
  {
   "cell_type": "code",
   "connections": [
    {
     "endLine": 10,
     "id": "1cf558af-350b-4540-a15a-d570ceeadef9",
     "path": "/Internal/welcome/templates/design_of_experiments/03_bayesian_modelling/bayesian_modelling.ipynb",
     "startLine": 1
    }
   ],
   "execution_count": null,
   "id": "b28541b5-8dc5-4903-ac79-6a78e12df19f",
   "metadata": {
    "id": "3fc6bab2-12ba-4ef2-9d3b-2e99367c2eee"
   },
   "outputs": [],
   "source": [
    "method=\"MAPFisher\"\n",
    "\n",
    "model = get_posterior_model(\n",
    "    graph=process_graph,\n",
    "    data=data_for_fit,\n",
    "    method=method,\n",
    ")\n",
    "\n",
    "means = model.get_means({target.global_name: target for target in targets})\n",
    "stds = model.get_standard_deviations({target.global_name: target for target in targets})\n"
   ]
  },
  {
   "cell_type": "code",
   "connections": [
    {
     "endLine": 7,
     "id": "1cf558af-350b-4540-a15a-d570ceeadef9",
     "path": "/Internal/welcome/templates/design_of_experiments/03_bayesian_modelling/bayesian_modelling.ipynb",
     "startLine": 1
    }
   ],
   "execution_count": null,
   "id": "864b2e18-3653-4b9b-a5b7-8d7cc8f2462b",
   "metadata": {
    "id": "95f875ae-2ad4-4a92-bd15-99058bacb111"
   },
   "outputs": [],
   "source": [
    "print(\"target means:\")\n",
    "for name, value in means.items():\n",
    "    print(f\"\\n{name}:\\n{value}\")\n",
    "    \n",
    "print(\"\\ntarget standard deviations:\\n(note that some models don't compute standard deviations)\")\n",
    "for name, value in stds.items():\n",
    "    print(f\"\\n{name}:\\n{value}\")    \n"
   ]
  },
  {
   "cell_type": "code",
   "execution_count": null,
   "id": "7fdf0a90-0b2f-44c1-84bf-9644a0c11de6",
   "metadata": {
    "id": "a4edff3b-fefd-4587-bfe3-f2f6f77df15f"
   },
   "outputs": [],
   "source": []
  }
 ],
 "metadata": {
  "kernelspec": {
   "display_name": "Python 3 (ipykernel)",
   "language": "python",
   "name": "python3"
  },
  "language_info": {
   "codemirror_mode": {
    "name": "ipython",
    "version": 3
   },
   "file_extension": ".py",
   "mimetype": "text/x-python",
   "name": "python",
   "nbconvert_exporter": "python",
   "pygments_lexer": "ipython3",
   "version": "3.9.7"
  }
 },
 "nbformat": 4,
 "nbformat_minor": 5
}
