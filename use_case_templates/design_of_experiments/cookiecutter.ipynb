{
 "cells": [
  {
   "cell_type": "code",
   "connections": [
    {
     "endLine": 1,
     "id": "dcf831b0-d7a1-49ae-8e60-ba7a37998074",
     "path": "/Personal/zihan/design_of_experiments/cookiecutter.ipynb",
     "startLine": 1
    }
   ],
   "execution_count": 0,
   "metadata": {
    "id": "83ec77a7-8e53-40bd-ae76-6f51da3e83bd"
   },
   "outputs": [],
   "source": [
    "from cookiecutter.main import cookiecutter\n",
    "from datetime import date\n",
    "import glob"
   ]
  },
  {
   "cell_type": "code",
   "connections": [],
   "execution_count": 0,
   "metadata": {
    "id": "1a5b46cd-e22c-4ff5-b0ca-f0f4f3a2aeea"
   },
   "outputs": [],
   "source": [
    "# Specify the name of your project folder (copied into the experiments folder)\r\n",
    "project_folder = '' # Enter the name of your project folder\r\n",
    "\r\n",
    "experiments_dir = glob.glob(\"/home/jovyan/**/\" + project_folder + \"/experiments/\", recursive=True)\r\n",
    "if len(experiments_dir) > 1:\r\n",
    "    print(\"Multiple project folders with the same name. You may select which project folder is correct\")\r\n",
    "    print(experiments_dir)\r\n",
    "    index = int(input(\"Please input the index of the correct folder\"))\r\n",
    "    experiments_dir = experiments_dir[index]\r\n",
    "else:\r\n",
    "    experiments_dir = experiments_dir[0]\r\n",
    "print(experiments_dir)\r\n",
    "\r\n",
    "cookiecutter('.', \r\n",
    "            extra_context={'timestamp': str(date.today())},\r\n",
    "            output_dir=experiments_dir)"
   ]
  },
  {
   "cell_type": "code",
   "connections": [],
   "execution_count": 0,
   "metadata": {
    "id": "f9afad39-f919-4a38-8169-f440a40d2ae6"
   },
   "outputs": [],
   "source": [
    "# OR specify a folder directly to copy the template\r\n",
    "directory = '.'\r\n",
    "\r\n",
    "cookiecutter('.', \r\n",
    "            extra_context={'timestamp': str(date.today())},\r\n",
    "            output_dir=directory)"
   ]
  }
 ],
 "metadata": {},
 "nbformat": 4,
 "nbformat_minor": 0
}
