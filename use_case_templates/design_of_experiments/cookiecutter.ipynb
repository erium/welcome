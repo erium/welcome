{
 "cells": [
  {
   "cell_type": "code",
   "connections": [
    {
     "endLine": 1,
     "id": "dcf831b0-d7a1-49ae-8e60-ba7a37998074",
     "path": "/Personal/zihan/design_of_experiments/cookiecutter.ipynb",
     "startLine": 1
    }
   ],
   "execution_count": 0,
   "metadata": {
    "id": "83ec77a7-8e53-40bd-ae76-6f51da3e83bd"
   },
   "outputs": [],
   "source": [
    "from cookiecutter.main import cookiecutter\n",
    "from datetime import date"
   ]
  },
  {
   "cell_type": "code",
   "connections": [],
   "execution_count": 0,
   "metadata": {
    "id": "1a5b46cd-e22c-4ff5-b0ca-f0f4f3a2aeea"
   },
   "outputs": [],
   "source": [
    "# specify the location of your experiments' folder \r\n",
    "experiments_dir = '.'"
   ]
  },
  {
   "cell_type": "code",
   "connections": [],
   "execution_count": 0,
   "metadata": {
    "id": "f9afad39-f919-4a38-8169-f440a40d2ae6"
   },
   "outputs": [],
   "source": [
    "cookiecutter('.', \r\n",
    "            extra_context={'timestamp': str(date.today())},\r\n",
    "            output_dir=experiments_dir)"
   ]
  }
 ],
 "metadata": {},
 "nbformat": 4,
 "nbformat_minor": 0
}
