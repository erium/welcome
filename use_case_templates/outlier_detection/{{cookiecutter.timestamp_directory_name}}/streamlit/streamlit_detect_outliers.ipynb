{
  "cells": [
    {
      "cell_type": "code",
      "connections": [],
      "execution_count": 0,
      "metadata": {
        "id": "e0b9b35a-f4d3-4a2b-986b-0a9c198ac550"
      },
      "outputs": [
        {
          "name": "stdout",
          "output_type": "stream",
          "text": [
            "http://internal.halerium.ai/apps/622b1f56bf71e80012b8f5ea/<your port between 8501 and 8510>\r\n"
          ]
        }
      ],
      "source": [
        "! get_apps_url.sh"
      ]
    },
    {
      "cell_type": "code",
      "connections": [],
      "execution_count": 2,
      "metadata": {
        "id": "ca53fdae-25e3-4ffa-9cfb-b3b25426b364"
      },
      "outputs": [
        {
          "name": "stdout",
          "output_type": "stream",
          "text": [
            "\u001b[0m\r\n",
            "\u001b[34m\u001b[1m  You can now view your Streamlit app in your browser.\u001b[0m\r\n",
            "\u001b[0m\r\n",
            "\u001b[34m  Network URL: \u001b[0m\u001b[1mhttp://172.18.0.2:8501\u001b[0m\r\n",
            "\u001b[34m  External URL: \u001b[0m\u001b[1mhttp://34.159.238.1:8501\u001b[0m\r\n",
            "\u001b[0m\r\n",
            "\r\n",
            "  \u001b[34m\u001b[1mA new version of Streamlit is available.\u001b[0m\r\n",
            "\r\n",
            "  See what's new at https://discuss.streamlit.io/c/announcements\r\n",
            "\r\n",
            "  Enter the following command to upgrade:\r\n",
            "  \u001b[34m$\u001b[0m \u001b[1mpip install streamlit --upgrade\u001b[0m\r\n",
            "\u001b[0m\r\n"
          ]
        },
        {
          "name": "stdout",
          "output_type": "stream",
          "text": [
            "\r\n",
            "By using this Application, You are agreeing to be bound by the terms and conditions of the Halerium End-User License Agreement that can be downloaded here: https://erium.de/halerium-eula.txt\r\n"
          ]
        },
        {
          "name": "stdout",
          "output_type": "stream",
          "text": [
            "2022-03-22 16:12:44.559284: W tensorflow/stream_executor/platform/default/dso_loader.cc:59] Could not load dynamic library 'libcudart.so.10.1'; dlerror: libcudart.so.10.1: cannot open shared object file: No such file or directory\r\n",
            "2022-03-22 16:12:44.559547: I tensorflow/stream_executor/cuda/cudart_stub.cc:29] Ignore above cudart dlerror if you do not have a GPU set up on your machine.\r\n"
          ]
        },
        {
          "name": "stdout",
          "output_type": "stream",
          "text": [
            "2022-03-22 16:12:45.995325: W tensorflow/stream_executor/platform/default/dso_loader.cc:59] Could not load dynamic library 'libcuda.so.1'; dlerror: libcuda.so.1: cannot open shared object file: No such file or directory\r\n",
            "2022-03-22 16:12:45.995375: W tensorflow/stream_executor/cuda/cuda_driver.cc:312] failed call to cuInit: UNKNOWN ERROR (303)\r\n",
            "2022-03-22 16:12:45.995405: I tensorflow/stream_executor/cuda/cuda_diagnostics.cc:156] kernel driver does not appear to be running on this host (5250dd121f4b): /proc/driver/nvidia/version does not exist\r\n",
            "2022-03-22 16:12:45.995706: I tensorflow/core/platform/cpu_feature_guard.cc:142] This TensorFlow binary is optimized with oneAPI Deep Neural Network Library (oneDNN)to use the following CPU instructions in performance-critical operations:  AVX2 FMA\r\n",
            "To enable them in other operations, rebuild TensorFlow with the appropriate compiler flags.\r\n",
            "2022-03-22 16:12:46.008433: I tensorflow/core/platform/profile_utils/cpu_utils.cc:104] CPU Frequency: 2200190000 Hz\r\n",
            "2022-03-22 16:12:46.009067: I tensorflow/compiler/xla/service/service.cc:168] XLA service 0x7fa8ae055c80 initialized for platform Host (this does not guarantee that XLA will be used). Devices:\r\n",
            "2022-03-22 16:12:46.009156: I tensorflow/compiler/xla/service/service.cc:176]   StreamExecutor device (0): Host, Default Version\r\n"
          ]
        },
        {
          "name": "stdout",
          "output_type": "stream",
          "text": [
            "Model: \"sequential\"\r\n",
            "_________________________________________________________________\r\n",
            "Layer (type)                 Output Shape              Param #   \r\n",
            "=================================================================\r\n",
            "conv1d (Conv1D)              (None, 16, 32)            2944      \r\n",
            "_________________________________________________________________\r\n",
            "dropout (Dropout)            (None, 16, 32)            0         \r\n",
            "_________________________________________________________________\r\n",
            "conv1d_1 (Conv1D)            (None, 8, 16)             3600      \r\n",
            "_________________________________________________________________\r\n",
            "conv1d_transpose (Conv1DTran (None, 16, 16)            1808      \r\n",
            "_________________________________________________________________\r\n",
            "dropout_1 (Dropout)          (None, 16, 16)            0         \r\n",
            "_________________________________________________________________\r\n",
            "conv1d_transpose_1 (Conv1DTr (None, 32, 32)            3616      \r\n",
            "_________________________________________________________________\r\n",
            "conv1d_transpose_2 (Conv1DTr (None, 32, 1)             225       \r\n",
            "=================================================================\r\n",
            "Total params: 12,193\r\n",
            "Trainable params: 12,193\r\n",
            "Non-trainable params: 0\r\n",
            "_________________________________________________________________\r\n"
          ]
        },
        {
          "name": "stdout",
          "output_type": "stream",
          "text": [
            "Model: \"sequential\"\r\n",
            "_________________________________________________________________\r\n",
            "Layer (type)                 Output Shape              Param #   \r\n",
            "=================================================================\r\n",
            "conv1d (Conv1D)              (None, 16, 32)            2944      \r\n",
            "_________________________________________________________________\r\n",
            "dropout (Dropout)            (None, 16, 32)            0         \r\n",
            "_________________________________________________________________\r\n",
            "conv1d_1 (Conv1D)            (None, 8, 16)             3600      \r\n",
            "_________________________________________________________________\r\n",
            "conv1d_transpose (Conv1DTran (None, 16, 16)            1808      \r\n",
            "_________________________________________________________________\r\n",
            "dropout_1 (Dropout)          (None, 16, 16)            0         \r\n",
            "_________________________________________________________________\r\n",
            "conv1d_transpose_1 (Conv1DTr (None, 32, 32)            3616      \r\n",
            "_________________________________________________________________\r\n",
            "conv1d_transpose_2 (Conv1DTr (None, 32, 1)             225       \r\n",
            "=================================================================\r\n",
            "Total params: 12,193\r\n",
            "Trainable params: 12,193\r\n",
            "Non-trainable params: 0\r\n",
            "_________________________________________________________________\r\n",
            "/opt/conda/lib/python3.7/site-packages/sklearn/base.py:493: FutureWarning: The feature names should match those that were passed during fit. Starting version 1.2, an error will be raised.\r\n",
            "Feature names seen at fit time, yet now missing:\r\n",
            "- Id\r\n",
            "- alcohol\r\n",
            "- chlorides\r\n",
            "- citric acid\r\n",
            "- density\r\n",
            "- ...\r\n",
            "\r\n",
            "  warnings.warn(message, FutureWarning)\r\n",
            "2022-03-22 16:13:37.392 Traceback (most recent call last):\r\n",
            "  File \"/opt/conda/lib/python3.7/site-packages/streamlit/script_runner.py\", line 430, in _run_script\r\n",
            "    exec(code, module.__dict__)\r\n",
            "  File \"/home/jovyan/Personal/zihan/Outlier Detection/streamlit/streamlit_detect_outliers.py\", line 108, in <module>\r\n",
            "    df_normal = pd.DataFrame(scaler.transform(df), index = df.index, columns = df.columns)\r\n",
            "  File \"/opt/conda/lib/python3.7/site-packages/sklearn/preprocessing/_data.py\", line 980, in transform\r\n",
            "    force_all_finite=\"allow-nan\",\r\n",
            "  File \"/opt/conda/lib/python3.7/site-packages/sklearn/base.py\", line 585, in _validate_data\r\n",
            "    self._check_n_features(X, reset=reset)\r\n",
            "  File \"/opt/conda/lib/python3.7/site-packages/sklearn/base.py\", line 401, in _check_n_features\r\n",
            "    f\"X has {n_features} features, but {self.__class__.__name__} \"\r\n",
            "ValueError: X has 2 features, but StandardScaler is expecting 13 features as input.\r\n",
            "\r\n"
          ]
        },
        {
          "name": "stdout",
          "output_type": "stream",
          "text": [
            "Model: \"sequential\"\r\n",
            "_________________________________________________________________\r\n",
            "Layer (type)                 Output Shape              Param #   \r\n",
            "=================================================================\r\n",
            "conv1d (Conv1D)              (None, 16, 32)            2944      \r\n",
            "_________________________________________________________________\r\n",
            "dropout (Dropout)            (None, 16, 32)            0         \r\n",
            "_________________________________________________________________\r\n",
            "conv1d_1 (Conv1D)            (None, 8, 16)             3600      \r\n",
            "_________________________________________________________________\r\n",
            "conv1d_transpose (Conv1DTran (None, 16, 16)            1808      \r\n",
            "_________________________________________________________________\r\n",
            "dropout_1 (Dropout)          (None, 16, 16)            0         \r\n",
            "_________________________________________________________________\r\n",
            "conv1d_transpose_1 (Conv1DTr (None, 32, 32)            3616      \r\n",
            "_________________________________________________________________\r\n",
            "conv1d_transpose_2 (Conv1DTr (None, 32, 1)             225       \r\n",
            "=================================================================\r\n",
            "Total params: 12,193\r\n",
            "Trainable params: 12,193\r\n",
            "Non-trainable params: 0\r\n",
            "_________________________________________________________________\r\n"
          ]
        },
        {
          "name": "stdout",
          "output_type": "stream",
          "text": [
            "Model: \"sequential\"\r\n",
            "_________________________________________________________________\r\n",
            "Layer (type)                 Output Shape              Param #   \r\n",
            "=================================================================\r\n",
            "conv1d (Conv1D)              (None, 16, 32)            2944      \r\n",
            "_________________________________________________________________\r\n",
            "dropout (Dropout)            (None, 16, 32)            0         \r\n",
            "_________________________________________________________________\r\n",
            "conv1d_1 (Conv1D)            (None, 8, 16)             3600      \r\n",
            "_________________________________________________________________\r\n",
            "conv1d_transpose (Conv1DTran (None, 16, 16)            1808      \r\n",
            "_________________________________________________________________\r\n",
            "dropout_1 (Dropout)          (None, 16, 16)            0         \r\n",
            "_________________________________________________________________\r\n",
            "conv1d_transpose_1 (Conv1DTr (None, 32, 32)            3616      \r\n",
            "_________________________________________________________________\r\n",
            "conv1d_transpose_2 (Conv1DTr (None, 32, 1)             225       \r\n",
            "=================================================================\r\n",
            "Total params: 12,193\r\n",
            "Trainable params: 12,193\r\n",
            "Non-trainable params: 0\r\n",
            "_________________________________________________________________\r\n"
          ]
        },
        {
          "name": "stdout",
          "output_type": "stream",
          "text": [
            "2022-03-22 16:17:01.887 Traceback (most recent call last):\r\n",
            "  File \"/opt/conda/lib/python3.7/site-packages/pandas/core/indexes/base.py\", line 3361, in get_loc\r\n",
            "    return self._engine.get_loc(casted_key)\r\n",
            "  File \"pandas/_libs/index.pyx\", line 76, in pandas._libs.index.IndexEngine.get_loc\r\n",
            "  File \"pandas/_libs/index.pyx\", line 108, in pandas._libs.index.IndexEngine.get_loc\r\n",
            "  File \"pandas/_libs/hashtable_class_helper.pxi\", line 5198, in pandas._libs.hashtable.PyObjectHashTable.get_item\r\n",
            "  File \"pandas/_libs/hashtable_class_helper.pxi\", line 5206, in pandas._libs.hashtable.PyObjectHashTable.get_item\r\n",
            "KeyError: 'Age'\r\n",
            "\r\n",
            "The above exception was the direct cause of the following exception:\r\n",
            "\r\n",
            "Traceback (most recent call last):\r\n",
            "  File \"/opt/conda/lib/python3.7/site-packages/streamlit/script_runner.py\", line 430, in _run_script\r\n",
            "    exec(code, module.__dict__)\r\n",
            "  File \"/home/jovyan/Personal/zihan/Outlier Detection/streamlit/streamlit_detect_outliers.py\", line 242, in <module>\r\n",
            "    test_data = pd.DataFrame(data={\"(age)\": df[\"Age\"],\r\n",
            "  File \"/opt/conda/lib/python3.7/site-packages/pandas/core/frame.py\", line 3458, in __getitem__\r\n",
            "    indexer = self.columns.get_loc(key)\r\n",
            "  File \"/opt/conda/lib/python3.7/site-packages/pandas/core/indexes/base.py\", line 3363, in get_loc\r\n",
            "    raise KeyError(key) from err\r\n",
            "KeyError: 'Age'\r\n",
            "\r\n"
          ]
        },
        {
          "name": "stdout",
          "output_type": "stream",
          "text": [
            "2022-03-22 16:21:47.711 Traceback (most recent call last):\r\n",
            "  File \"/opt/conda/lib/python3.7/site-packages/streamlit/script_runner.py\", line 430, in _run_script\r\n",
            "    exec(code, module.__dict__)\r\n",
            "  File \"/home/jovyan/Personal/zihan/Outlier Detection/streamlit/streamlit_detect_outliers.py\", line 96, in <module>\r\n",
            "    df = pd.read_csv(uploaded_file, parse_dates=['date'], index_col = 'date')\r\n",
            "  File \"/opt/conda/lib/python3.7/site-packages/pandas/util/_decorators.py\", line 311, in wrapper\r\n",
            "    return func(*args, **kwargs)\r\n",
            "  File \"/opt/conda/lib/python3.7/site-packages/pandas/io/parsers/readers.py\", line 586, in read_csv\r\n",
            "    return _read(filepath_or_buffer, kwds)\r\n",
            "  File \"/opt/conda/lib/python3.7/site-packages/pandas/io/parsers/readers.py\", line 482, in _read\r\n",
            "    parser = TextFileReader(filepath_or_buffer, **kwds)\r\n",
            "  File \"/opt/conda/lib/python3.7/site-packages/pandas/io/parsers/readers.py\", line 811, in __init__\r\n",
            "    self._engine = self._make_engine(self.engine)\r\n",
            "  File \"/opt/conda/lib/python3.7/site-packages/pandas/io/parsers/readers.py\", line 1040, in _make_engine\r\n",
            "    return mapping[engine](self.f, **self.options)  # type: ignore[call-arg]\r\n",
            "  File \"/opt/conda/lib/python3.7/site-packages/pandas/io/parsers/c_parser_wrapper.py\", line 156, in __init__\r\n",
            "    self._validate_parse_dates_presence(self.names)  # type: ignore[has-type]\r\n",
            "  File \"/opt/conda/lib/python3.7/site-packages/pandas/io/parsers/base_parser.py\", line 277, in _validate_parse_dates_presence\r\n",
            "    f\"Missing column provided to 'parse_dates': '{missing_cols}'\"\r\n",
            "ValueError: Missing column provided to 'parse_dates': 'date'\r\n",
            "\r\n"
          ]
        },
        {
          "name": "stdout",
          "output_type": "stream",
          "text": [
            "^C\r\n",
            "\u001b[34m  Stopping...\u001b[0m\r\n"
          ]
        }
      ],
      "source": [
        "! streamlit run streamlit_detect_outliers.py"
      ]
    }
  ],
  "metadata": {},
  "nbformat": 4,
  "nbformat_minor": 0
}