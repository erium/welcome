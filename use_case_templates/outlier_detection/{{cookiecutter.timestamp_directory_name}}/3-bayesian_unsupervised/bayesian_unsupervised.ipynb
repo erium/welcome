{
 "cells": [
  {
   "cell_type": "markdown",
   "connections": [],
   "execution_count": 0,
   "metadata": {
    "id": "71584e46-0901-4b3b-badd-4c01e2aa759d"
   },
   "outputs": [],
   "source": [
    "# Unsupervised Bayesian model"
   ]
  },
  {
   "cell_type": "markdown",
   "connections": [],
   "execution_count": 0,
   "metadata": {
    "id": "1fb00ee9-e44b-44df-92af-41ac431b5d49"
   },
   "outputs": [],
   "source": [
    "## How to use the notebook\r\n",
    "\r\n",
    "The following cells:\r\n",
    "- specify objective, variables, and dependencies,\r\n",
    "- set up the outlier detection models,\r\n",
    "- read dataset,\r\n",
    "- present results from the models.\r\n",
    "\r\n",
    "To just see how it works for a toy example, simply run the whole notebook as is.\r\n",
    "\r\n",
    "For your own project, adjust the details about objectives, variables, dataset etc. and then execute all cells in order.\r\n",
    "The board \"bayesian.board\" will help you with detailed instructions."
   ]
  },
  {
   "cell_type": "markdown",
   "connections": [],
   "execution_count": 0,
   "metadata": {
    "id": "4a5a6391-8b94-4b85-bb60-3506a5e343de"
   },
   "outputs": [],
   "source": [
    "# General Imports and Setup"
   ]
  },
  {
   "cell_type": "code",
   "connections": [],
   "execution_count": 1,
   "metadata": {
    "id": "a0b3bde4-dc7c-4647-9b41-6de0c5039085"
   },
   "outputs": [
    {
     "name": "stdout",
     "output_type": "stream",
     "text": [
      "\n",
      "By using this Application, You are agreeing to be bound by the terms and conditions of the Halerium End-User License Agreement that can be downloaded here: https://erium.de/halerium-eula.txt\n"
     ]
    }
   ],
   "source": [
    "import os\r\n",
    "import shutil\r\n",
    "from distutils.dir_util import copy_tree\r\n",
    "\r\n",
    "import numpy as np\r\n",
    "import pandas as pd\r\n",
    "import halerium.core as hal\r\n",
    "\r\n",
    "import matplotlib.pyplot as plt\r\n",
    "\r\n",
    "from joblib import dump, load"
   ]
  },
  {
   "cell_type": "markdown",
   "connections": [],
   "execution_count": 0,
   "metadata": {
    "id": "a054fe76-3d8c-49dd-8344-14a4fc90bde1"
   },
   "outputs": [],
   "source": [
    "# Project"
   ]
  },
  {
   "cell_type": "code",
   "connections": [
    {
     "endLine": 1,
     "id": "c03ecc1d-f77e-4856-b697-fd7870eeecb7",
     "path": "/Personal/zihan/Outlier Detection/bayesian_unsupervised.ipynb",
     "startLine": 1
    }
   ],
   "execution_count": 2,
   "metadata": {
    "id": "6ea9aad8-6e8e-442d-8bc2-06a17d67ce3f"
   },
   "outputs": [],
   "source": [
    "experiment_name = {{cookiecutter.project_name}}  # please provide a name for the outlier detection experiment"
   ]
  },
  {
   "cell_type": "markdown",
   "connections": [],
   "execution_count": 0,
   "metadata": {
    "id": "e42cf9e8-5d21-48af-90e3-800e812d30b4"
   },
   "outputs": [],
   "source": [
    "# Dataset"
   ]
  },
  {
   "cell_type": "code",
   "connections": [
    {
     "endLine": 2,
     "id": "8731c8fb-11fd-491d-9ba9-329d2f98dc18",
     "path": "/Personal/zihan/OutlierCookie/{{cookiecutter.timestamp_directory_name}}/3-bayesian_unsupervised/bayesian_unsupervised.ipynb",
     "startLine": 1
    }
   ],
   "execution_count": 3,
   "metadata": {
    "id": "5b1d85e4-0271-49e1-b8aa-88ed41518656"
   },
   "outputs": [],
   "source": [
    "time_series = False # Specify if the data is time series\n",
    "path = '{{cookiecutter.data_path}}' # Specify the path of the data\n",
    "\n",
    "if path == 'default example':\n",
    "    path = 'https://raw.githubusercontent.com/erium/halerium-example-data/main/outlier_detection/height_weight.csv'\n",
    "\n",
    "if time_series:\n",
    "    df = pd.read_csv(path, parse_dates=['date'], index_col = 'date')\n",
    "else:\n",
    "    df = pd.read_csv(path)\n",
    "\n",
    "num_col = len(df.columns)\n",
    "\n",
    "out_path = './../out'\n",
    "isExist = os.path.exists(out_path)\n",
    "if isExist:\n",
    "  for root, dirs, files in os.walk(out_path):\n",
    "      for f in files:\n",
    "          os.unlink(os.path.join(root, f))\n",
    "      for d in dirs:\n",
    "          shutil.rmtree(os.path.join(root, d))\n",
    "else:\n",
    "  os.makedirs(out_path)"
   ]
  },
  {
   "cell_type": "markdown",
   "connections": [],
   "execution_count": 0,
   "metadata": {
    "id": "b71876a1-8c65-4e2c-8575-70d3b4dc1ae4"
   },
   "outputs": [],
   "source": [
    "Visualising the dataset"
   ]
  },
  {
   "cell_type": "code",
   "connections": [],
   "execution_count": 4,
   "metadata": {
    "id": "052a6b32-7387-4290-b0ad-24ea7e9c0692"
   },
   "outputs": [
    {
     "data": {
      "text/html": [
       "<div>\n",
       "<style scoped>\n",
       "    .dataframe tbody tr th:only-of-type {\n",
       "        vertical-align: middle;\n",
       "    }\n",
       "\n",
       "    .dataframe tbody tr th {\n",
       "        vertical-align: top;\n",
       "    }\n",
       "\n",
       "    .dataframe thead th {\n",
       "        text-align: right;\n",
       "    }\n",
       "</style>\n",
       "<table border=\"1\" class=\"dataframe\">\n",
       "  <thead>\n",
       "    <tr style=\"text-align: right;\">\n",
       "      <th></th>\n",
       "      <th>Height</th>\n",
       "      <th>Weight</th>\n",
       "      <th>Age</th>\n",
       "      <th>Sex</th>\n",
       "      <th>Race</th>\n",
       "    </tr>\n",
       "  </thead>\n",
       "  <tbody>\n",
       "    <tr>\n",
       "      <th>0</th>\n",
       "      <td>67.8</td>\n",
       "      <td>166</td>\n",
       "      <td>210</td>\n",
       "      <td>0</td>\n",
       "      <td>1</td>\n",
       "    </tr>\n",
       "    <tr>\n",
       "      <th>1</th>\n",
       "      <td>63.0</td>\n",
       "      <td>93</td>\n",
       "      <td>144</td>\n",
       "      <td>1</td>\n",
       "      <td>0</td>\n",
       "    </tr>\n",
       "    <tr>\n",
       "      <th>2</th>\n",
       "      <td>50.1</td>\n",
       "      <td>54</td>\n",
       "      <td>119</td>\n",
       "      <td>0</td>\n",
       "      <td>0</td>\n",
       "    </tr>\n",
       "    <tr>\n",
       "      <th>3</th>\n",
       "      <td>55.7</td>\n",
       "      <td>69</td>\n",
       "      <td>130</td>\n",
       "      <td>1</td>\n",
       "      <td>0</td>\n",
       "    </tr>\n",
       "    <tr>\n",
       "      <th>4</th>\n",
       "      <td>63.2</td>\n",
       "      <td>115</td>\n",
       "      <td>157</td>\n",
       "      <td>0</td>\n",
       "      <td>0</td>\n",
       "    </tr>\n",
       "    <tr>\n",
       "      <th>...</th>\n",
       "      <td>...</td>\n",
       "      <td>...</td>\n",
       "      <td>...</td>\n",
       "      <td>...</td>\n",
       "      <td>...</td>\n",
       "    </tr>\n",
       "    <tr>\n",
       "      <th>193</th>\n",
       "      <td>62.8</td>\n",
       "      <td>94</td>\n",
       "      <td>183</td>\n",
       "      <td>0</td>\n",
       "      <td>0</td>\n",
       "    </tr>\n",
       "    <tr>\n",
       "      <th>194</th>\n",
       "      <td>64.5</td>\n",
       "      <td>130</td>\n",
       "      <td>189</td>\n",
       "      <td>1</td>\n",
       "      <td>1</td>\n",
       "    </tr>\n",
       "    <tr>\n",
       "      <th>195</th>\n",
       "      <td>66.1</td>\n",
       "      <td>135</td>\n",
       "      <td>189</td>\n",
       "      <td>1</td>\n",
       "      <td>0</td>\n",
       "    </tr>\n",
       "    <tr>\n",
       "      <th>196</th>\n",
       "      <td>66.1</td>\n",
       "      <td>119</td>\n",
       "      <td>174</td>\n",
       "      <td>1</td>\n",
       "      <td>0</td>\n",
       "    </tr>\n",
       "    <tr>\n",
       "      <th>197</th>\n",
       "      <td>59.1</td>\n",
       "      <td>86</td>\n",
       "      <td>148</td>\n",
       "      <td>1</td>\n",
       "      <td>1</td>\n",
       "    </tr>\n",
       "  </tbody>\n",
       "</table>\n",
       "<p>198 rows × 5 columns</p>\n",
       "</div>"
      ],
      "text/plain": [
       "     Height  Weight  Age  Sex  Race\n",
       "0      67.8     166  210    0     1\n",
       "1      63.0      93  144    1     0\n",
       "2      50.1      54  119    0     0\n",
       "3      55.7      69  130    1     0\n",
       "4      63.2     115  157    0     0\n",
       "..      ...     ...  ...  ...   ...\n",
       "193    62.8      94  183    0     0\n",
       "194    64.5     130  189    1     1\n",
       "195    66.1     135  189    1     0\n",
       "196    66.1     119  174    1     0\n",
       "197    59.1      86  148    1     1\n",
       "\n",
       "[198 rows x 5 columns]"
      ]
     },
     "execution_count": 4,
     "metadata": {},
     "output_type": "execute_result"
    }
   ],
   "source": [
    "df"
   ]
  },
  {
   "cell_type": "code",
   "connections": [],
   "execution_count": 5,
   "metadata": {
    "id": "2e31b2e1-dda9-408f-8b75-3c3653f4e0db"
   },
   "outputs": [
    {
     "data": {
      "image/png": "[encoded data removed]",
      "text/plain": [
       "<Figure size 432x288 with 1 Axes>"
      ]
     },
     "metadata": {
      "needs_background": "dark"
     },
     "output_type": "display_data",
     "transient": {}
    }
   ],
   "source": [
    "plt.title(\"Plot of age against height\")\r\n",
    "plt.scatter(df[\"Age\"], df[\"Height\"])\r\n",
    "plt.xlabel('Age')\r\n",
    "plt.ylabel('Height')\r\n",
    "plt.show()"
   ]
  },
  {
   "cell_type": "markdown",
   "connections": [],
   "execution_count": 0,
   "metadata": {
    "id": "34fd22a6-a015-437b-b6ed-f9ddb2cfbbd3"
   },
   "outputs": [],
   "source": [
    "# Defining the variables"
   ]
  },
  {
   "cell_type": "code",
   "connections": [
    {
     "endLine": 25,
     "id": "a977245a-2e2a-4c3d-b7bc-8a77c70a0d2b",
     "path": "/Personal/zihan/Outlier Detection/bayesian_unsupervised.ipynb",
     "startLine": 3
    }
   ],
   "execution_count": 6,
   "metadata": {
    "id": "5eb6fcd7-6863-43d7-af6b-980c5be30768"
   },
   "outputs": [],
   "source": [
    "graph = hal.Graph(\"graph\")\r\n",
    "with graph:\r\n",
    "    # Defining a variable you would like to model (usually a feature in the data)\r\n",
    "    hal.Variable(\"age\",\r\n",
    "                 distribution=\"LogNormalDistribution\") # we pick the log-normal distribution since age is a positive number\r\n",
    "    hal.StaticVariable(\"age_mean_log\", # Define the mean log of the variable\r\n",
    "                       distribution=\"NormalDistribution\", # the mean log can be negative or positive\r\n",
    "                       mean=0, variance=4) # Define the known/assumed statistical properties\r\n",
    "    hal.StaticVariable(\"age_variance_log\",\r\n",
    "                       distribution=\"LogNormalDistribution\", # a variance has to be positive\r\n",
    "                       mean_log=0, variance_log=1,)\r\n",
    "    \r\n",
    "    # Set the attributes of the variable\r\n",
    "    age.mean_log = age_mean_log\r\n",
    "    age.variance_log = age_variance_log\r\n",
    "\r\n",
    "    hal.Variable(\"height\")\r\n",
    "    hal.StaticVariable(\"height_curve_parameters\", shape=(2,), mean=0, variance=1)\r\n",
    "    # You may set the mathematical formulation of properties based on other properties\r\n",
    "    height.mean = height_curve_parameters[0] * hal.math.sqrt(age) / 2 + height_curve_parameters[1]\r\n",
    "    hal.StaticVariable(\"height_variance\",\r\n",
    "                       distribution=\"LogNormalDistribution\", # a variance has to be positive\r\n",
    "                       mean_log=-3, variance_log=1,)\r\n",
    "    # Set the attributes of the variable\r\n",
    "    height.variance = height_variance"
   ]
  },
  {
   "cell_type": "markdown",
   "connections": [],
   "execution_count": 0,
   "metadata": {
    "id": "d2f15909-17d3-4466-bde2-5cb86207c6f1"
   },
   "outputs": [],
   "source": [
    "## Training the model"
   ]
  },
  {
   "cell_type": "code",
   "connections": [],
   "execution_count": 7,
   "metadata": {
    "id": "050b6637-ea6b-4c26-b4ff-3af61352c882"
   },
   "outputs": [],
   "source": [
    "posterior_model = hal.get_posterior_model(graph, data={graph.age: df[\"Age\"], graph.height: df[\"Height\"]})\r\n",
    "posterior_model.solve()\r\n",
    "post_samples = posterior_model.get_samples(graph.height_curve_parameters, n_samples=1000)"
   ]
  },
  {
   "cell_type": "code",
   "connections": [],
   "execution_count": 8,
   "metadata": {
    "id": "939fcaba-eaab-4330-90be-83b8a3d9a7d7"
   },
   "outputs": [
    {
     "data": {
      "image/png": "[encoded data removed]",
      "text/plain": [
       "<Figure size 432x288 with 1 Axes>"
      ]
     },
     "metadata": {
      "needs_background": "dark"
     },
     "output_type": "display_data",
     "transient": {}
    }
   ],
   "source": [
    "plt.title(\"Plot of model parameters\")\r\n",
    "plt.scatter(np.array(post_samples)[:, 0], np.array(post_samples)[:, 1])\r\n",
    "plt.show()"
   ]
  },
  {
   "cell_type": "code",
   "connections": [],
   "execution_count": 9,
   "metadata": {
    "id": "06d68cc5-ea2e-47a4-a657-69626f68fecb"
   },
   "outputs": [],
   "source": [
    "trained_graph = hal.Trainer(graph, data={graph.age: df[\"Age\"], graph.height: df[\"Height\"]})()"
   ]
  },
  {
   "cell_type": "code",
   "connections": [],
   "execution_count": 10,
   "metadata": {
    "id": "8f119f5a-7d24-4fc9-a542-fbe04b90edd2"
   },
   "outputs": [
    {
     "data": {
      "text/plain": [
       "[(array([9.10458879, 3.53739378]), array([0.17927393, 0.90917848]))]"
      ]
     },
     "execution_count": 10,
     "metadata": {},
     "output_type": "execute_result"
    }
   ],
   "source": [
    "# Predicted statistical features of parameters\r\n",
    "hal.Predictor(trained_graph, measure=('mean', 'standard_deviation'))([trained_graph.height_curve_parameters])"
   ]
  },
  {
   "cell_type": "code",
   "connections": [],
   "execution_count": 11,
   "metadata": {
    "id": "40483121-d16c-40da-b36a-a4eaacab82ce"
   },
   "outputs": [
    {
     "data": {
      "text/plain": [
       "[(11.180455346480837, 1.1126706471100787)]"
      ]
     },
     "execution_count": 11,
     "metadata": {},
     "output_type": "execute_result"
    }
   ],
   "source": [
    "# Predicted statistical features of height variance\r\n",
    "hal.Predictor(trained_graph, measure=('mean', 'standard_deviation'))([trained_graph.height_variance])"
   ]
  },
  {
   "cell_type": "code",
   "connections": [],
   "execution_count": 12,
   "metadata": {
    "id": "1bbd8389-e0ba-43ec-bb21-9a2882ee3d46"
   },
   "outputs": [],
   "source": [
    "# Samples from the trained graph\r\n",
    "samples = hal.get_generative_model(trained_graph).get_samples({\"age\": trained_graph.age,\r\n",
    "                                                               \"height\": trained_graph.height},\r\n",
    "                                                              n_samples=1000)"
   ]
  },
  {
   "cell_type": "code",
   "connections": [],
   "execution_count": 13,
   "metadata": {
    "id": "0a7d4085-a18d-40bc-bc7c-b9ee46acc609"
   },
   "outputs": [
    {
     "data": {
      "image/png": "[encoded data removed]",
      "text/plain": [
       "<Figure size 432x288 with 1 Axes>"
      ]
     },
     "metadata": {
      "needs_background": "dark"
     },
     "output_type": "display_data",
     "transient": {}
    }
   ],
   "source": [
    "plt.title('Plot of points from original data and trained graph')\r\n",
    "plt.scatter(np.reshape(samples[\"age\"], -1), np.reshape(samples[\"height\"], -1), label='From graph')\r\n",
    "plt.scatter(df[\"Age\"], df[\"Height\"], label='From data')\r\n",
    "plt.legend()\r\n",
    "plt.show()"
   ]
  },
  {
   "cell_type": "code",
   "connections": [],
   "execution_count": 14,
   "metadata": {
    "id": "9dbd4a2f-c5d5-461f-aaae-d095a2a4506d"
   },
   "outputs": [],
   "source": [
    "age_input = np.linspace(100, 250, 100)\r\n",
    "height_pred = hal.Predictor(trained_graph, measure='mean', data={trained_graph.age: age_input})(trained_graph.height)"
   ]
  },
  {
   "cell_type": "code",
   "connections": [],
   "execution_count": 15,
   "metadata": {
    "id": "12d2b018-9bbf-4e05-b391-9a86707d9fed"
   },
   "outputs": [
    {
     "data": {
      "image/png": "[encoded data removed]",
      "text/plain": [
       "<Figure size 432x288 with 1 Axes>"
      ]
     },
     "metadata": {
      "needs_background": "dark"
     },
     "output_type": "display_data",
     "transient": {}
    }
   ],
   "source": [
    "plt.plot(age_input, height_pred, color='r', label='Predicted trend')\r\n",
    "plt.scatter(df[\"Age\"], df[\"Height\"], label='Original Data')\r\n",
    "plt.legend()\r\n",
    "plt.show()"
   ]
  },
  {
   "cell_type": "markdown",
   "connections": [],
   "execution_count": 0,
   "metadata": {
    "id": "c75af6a6-25c0-448c-b173-693bf8181a06"
   },
   "outputs": [],
   "source": [
    "## Detecting the outliers"
   ]
  },
  {
   "cell_type": "code",
   "connections": [],
   "execution_count": 16,
   "metadata": {
    "id": "f005e2b1-ef0a-4cd0-a6e0-57b4aecba9b7"
   },
   "outputs": [],
   "source": [
    "# Detect outliers in the data\r\n",
    "out_detector = hal.objectives.OutlierDetector(trained_graph, data={graph.age: df[\"Age\"], graph.height: df[\"Height\"]})"
   ]
  },
  {
   "cell_type": "code",
   "connections": [],
   "execution_count": 17,
   "metadata": {
    "id": "6aaa1762-ce2c-42c0-b25b-551106f9bcce"
   },
   "outputs": [
    {
     "data": {
      "text/plain": [
       "{'graph': array([False, False, False, False, False, False, False, False, False,\n",
       "        False, False, False, False, False, False, False, False, False,\n",
       "        False, False, False, False, False, False, False, False, False,\n",
       "        False, False, False, False, False, False, False, False, False,\n",
       "        False, False, False, False, False, False, False, False, False,\n",
       "        False,  True, False, False, False, False, False, False, False,\n",
       "        False, False, False, False, False, False, False, False, False,\n",
       "        False, False, False,  True, False, False, False, False, False,\n",
       "        False, False, False, False, False, False, False, False, False,\n",
       "        False, False, False, False, False, False, False, False, False,\n",
       "        False, False, False, False, False, False, False, False, False,\n",
       "        False, False, False, False, False,  True, False, False, False,\n",
       "        False, False, False, False, False, False, False,  True, False,\n",
       "        False, False, False, False, False, False, False, False, False,\n",
       "        False, False, False, False, False, False, False, False, False,\n",
       "        False, False, False, False, False, False, False, False, False,\n",
       "        False, False, False, False, False, False, False, False, False,\n",
       "        False, False, False, False, False, False, False, False, False,\n",
       "        False, False, False, False, False, False, False, False, False,\n",
       "        False, False, False, False, False, False, False, False, False,\n",
       "        False, False, False, False, False, False, False, False, False,\n",
       "        False,  True, False, False, False, False, False, False, False]),\n",
       " 'graph/age': array([False, False, False, False, False, False, False, False, False,\n",
       "        False, False, False, False, False, False, False, False, False,\n",
       "        False, False, False, False, False, False, False, False, False,\n",
       "        False, False, False, False, False, False, False, False, False,\n",
       "        False, False, False, False, False, False, False, False, False,\n",
       "        False, False, False, False, False, False, False, False, False,\n",
       "        False, False, False, False, False, False, False, False, False,\n",
       "        False, False, False, False, False, False, False, False, False,\n",
       "        False, False, False, False, False, False, False, False, False,\n",
       "        False, False, False, False, False, False, False, False, False,\n",
       "        False, False, False, False, False, False, False, False, False,\n",
       "        False, False, False, False, False, False, False, False, False,\n",
       "        False, False, False, False, False, False, False, False, False,\n",
       "        False, False, False, False, False, False, False, False, False,\n",
       "        False, False, False, False, False, False, False, False, False,\n",
       "        False, False, False, False, False, False, False, False, False,\n",
       "        False, False, False, False, False, False, False, False, False,\n",
       "        False, False, False, False, False, False, False, False, False,\n",
       "        False, False, False, False, False, False, False, False, False,\n",
       "        False, False, False, False, False, False, False, False, False,\n",
       "        False, False, False, False, False, False, False, False, False,\n",
       "        False, False, False, False, False, False, False, False, False]),\n",
       " 'graph/age_mean_log': None,\n",
       " 'graph/age_variance_log': None,\n",
       " 'graph/height': array([False, False, False, False, False, False, False, False, False,\n",
       "        False, False, False, False, False, False, False, False, False,\n",
       "        False, False, False, False, False, False, False, False, False,\n",
       "        False, False, False, False, False, False, False, False, False,\n",
       "        False, False, False, False, False, False, False, False, False,\n",
       "        False,  True, False, False, False, False, False, False, False,\n",
       "        False, False, False, False, False, False, False, False, False,\n",
       "        False, False, False,  True, False, False, False, False, False,\n",
       "        False, False, False, False, False, False, False, False, False,\n",
       "        False, False, False, False, False, False, False, False, False,\n",
       "        False, False, False, False, False, False, False, False, False,\n",
       "        False, False, False, False, False,  True, False, False, False,\n",
       "        False, False, False, False, False, False, False, False, False,\n",
       "        False, False, False, False, False, False, False, False, False,\n",
       "        False, False, False, False, False, False, False, False, False,\n",
       "        False, False, False, False, False, False, False, False, False,\n",
       "        False, False, False, False, False, False, False, False, False,\n",
       "        False, False, False, False, False, False, False, False, False,\n",
       "        False, False, False, False, False, False, False, False, False,\n",
       "        False, False, False, False, False, False, False, False, False,\n",
       "        False, False, False, False, False, False, False, False, False,\n",
       "        False, False, False, False, False, False, False, False, False]),\n",
       " 'graph/height_curve_parameters': None,\n",
       " 'graph/height_variance': None}"
      ]
     },
     "execution_count": 17,
     "metadata": {},
     "output_type": "execute_result"
    }
   ],
   "source": [
    "# Univariate outliers and outlier for entire data point\r\n",
    "out_detector()"
   ]
  },
  {
   "cell_type": "code",
   "connections": [
    {
     "endLine": 6,
     "id": "5e6461d5-dac8-4a2a-b37a-b36472e559a3",
     "path": "/Personal/zihan/Outlier Detection/bayesian_unsupervised.ipynb",
     "startLine": 1
    }
   ],
   "execution_count": 18,
   "metadata": {
    "id": "8bb71731-16d1-4402-b314-8c3cf5503c2b"
   },
   "outputs": [
    {
     "data": {
      "image/png": "[encoded data removed]",
      "text/plain": [
       "<Figure size 432x288 with 1 Axes>"
      ]
     },
     "metadata": {
      "needs_background": "dark"
     },
     "output_type": "display_data",
     "transient": {}
    }
   ],
   "source": [
    "outlier_flags = out_detector()['graph'] # outliers in context of whole graph\r\n",
    "plt.title('Plot of outlier points')\r\n",
    "plt.scatter(df[\"Age\"][~outlier_flags], df[\"Height\"][~outlier_flags], color=\"green\", label='Non-outlier')\r\n",
    "plt.scatter(df[\"Age\"][outlier_flags], df[\"Height\"][outlier_flags], color=\"red\", label='Outlier')\r\n",
    "plt.legend()\r\n",
    "plt.show()"
   ]
  },
  {
   "cell_type": "markdown",
   "connections": [],
   "execution_count": 0,
   "metadata": {
    "id": "2bc0e315-fa46-4fff-a775-b419235f2d48"
   },
   "outputs": [],
   "source": [
    "## Outlier prediction and export"
   ]
  },
  {
   "cell_type": "code",
   "connections": [],
   "execution_count": 24,
   "metadata": {
    "id": "c3d7d482-80f9-4b5c-8404-e3d5d49b8cfa"
   },
   "outputs": [
    {
     "data": {
      "text/html": [
       "<div>\n",
       "<style scoped>\n",
       "    .dataframe tbody tr th:only-of-type {\n",
       "        vertical-align: middle;\n",
       "    }\n",
       "\n",
       "    .dataframe tbody tr th {\n",
       "        vertical-align: top;\n",
       "    }\n",
       "\n",
       "    .dataframe thead th {\n",
       "        text-align: right;\n",
       "    }\n",
       "</style>\n",
       "<table border=\"1\" class=\"dataframe\">\n",
       "  <thead>\n",
       "    <tr style=\"text-align: right;\">\n",
       "      <th></th>\n",
       "      <th>Height</th>\n",
       "      <th>Weight</th>\n",
       "      <th>Age</th>\n",
       "      <th>Sex</th>\n",
       "      <th>Race</th>\n",
       "      <th>outlier</th>\n",
       "    </tr>\n",
       "  </thead>\n",
       "  <tbody>\n",
       "    <tr>\n",
       "      <th>0</th>\n",
       "      <td>67.8</td>\n",
       "      <td>166</td>\n",
       "      <td>210</td>\n",
       "      <td>0</td>\n",
       "      <td>1</td>\n",
       "      <td>0</td>\n",
       "    </tr>\n",
       "    <tr>\n",
       "      <th>1</th>\n",
       "      <td>63.0</td>\n",
       "      <td>93</td>\n",
       "      <td>144</td>\n",
       "      <td>1</td>\n",
       "      <td>0</td>\n",
       "      <td>0</td>\n",
       "    </tr>\n",
       "    <tr>\n",
       "      <th>2</th>\n",
       "      <td>50.1</td>\n",
       "      <td>54</td>\n",
       "      <td>119</td>\n",
       "      <td>0</td>\n",
       "      <td>0</td>\n",
       "      <td>0</td>\n",
       "    </tr>\n",
       "    <tr>\n",
       "      <th>3</th>\n",
       "      <td>55.7</td>\n",
       "      <td>69</td>\n",
       "      <td>130</td>\n",
       "      <td>1</td>\n",
       "      <td>0</td>\n",
       "      <td>0</td>\n",
       "    </tr>\n",
       "    <tr>\n",
       "      <th>4</th>\n",
       "      <td>63.2</td>\n",
       "      <td>115</td>\n",
       "      <td>157</td>\n",
       "      <td>0</td>\n",
       "      <td>0</td>\n",
       "      <td>0</td>\n",
       "    </tr>\n",
       "    <tr>\n",
       "      <th>...</th>\n",
       "      <td>...</td>\n",
       "      <td>...</td>\n",
       "      <td>...</td>\n",
       "      <td>...</td>\n",
       "      <td>...</td>\n",
       "      <td>...</td>\n",
       "    </tr>\n",
       "    <tr>\n",
       "      <th>193</th>\n",
       "      <td>62.8</td>\n",
       "      <td>94</td>\n",
       "      <td>183</td>\n",
       "      <td>0</td>\n",
       "      <td>0</td>\n",
       "      <td>0</td>\n",
       "    </tr>\n",
       "    <tr>\n",
       "      <th>194</th>\n",
       "      <td>64.5</td>\n",
       "      <td>130</td>\n",
       "      <td>189</td>\n",
       "      <td>1</td>\n",
       "      <td>1</td>\n",
       "      <td>0</td>\n",
       "    </tr>\n",
       "    <tr>\n",
       "      <th>195</th>\n",
       "      <td>66.1</td>\n",
       "      <td>135</td>\n",
       "      <td>189</td>\n",
       "      <td>1</td>\n",
       "      <td>0</td>\n",
       "      <td>0</td>\n",
       "    </tr>\n",
       "    <tr>\n",
       "      <th>196</th>\n",
       "      <td>66.1</td>\n",
       "      <td>119</td>\n",
       "      <td>174</td>\n",
       "      <td>1</td>\n",
       "      <td>0</td>\n",
       "      <td>0</td>\n",
       "    </tr>\n",
       "    <tr>\n",
       "      <th>197</th>\n",
       "      <td>59.1</td>\n",
       "      <td>86</td>\n",
       "      <td>148</td>\n",
       "      <td>1</td>\n",
       "      <td>1</td>\n",
       "      <td>0</td>\n",
       "    </tr>\n",
       "  </tbody>\n",
       "</table>\n",
       "<p>198 rows × 6 columns</p>\n",
       "</div>"
      ],
      "text/plain": [
       "     Height  Weight  Age  Sex  Race  outlier\n",
       "0      67.8     166  210    0     1        0\n",
       "1      63.0      93  144    1     0        0\n",
       "2      50.1      54  119    0     0        0\n",
       "3      55.7      69  130    1     0        0\n",
       "4      63.2     115  157    0     0        0\n",
       "..      ...     ...  ...  ...   ...      ...\n",
       "193    62.8      94  183    0     0        0\n",
       "194    64.5     130  189    1     1        0\n",
       "195    66.1     135  189    1     0        0\n",
       "196    66.1     119  174    1     0        0\n",
       "197    59.1      86  148    1     1        0\n",
       "\n",
       "[198 rows x 6 columns]"
      ]
     },
     "execution_count": 24,
     "metadata": {},
     "output_type": "execute_result"
    }
   ],
   "source": [
    "df_final = df.copy()\r\n",
    "df_final['outlier'] = 0\r\n",
    "outliers = []\r\n",
    "for i, outlier in enumerate(outlier_flags):\r\n",
    "    if outlier:\r\n",
    "        outliers.append(i)\r\n",
    "df_final.loc[df_final.index[outliers], 'outlier'] = 1\r\n",
    "df_final"
   ]
  },
  {
   "cell_type": "code",
   "connections": [],
   "execution_count": 25,
   "metadata": {
    "id": "2ab76f47-9dda-4be2-9f10-3399a7dfe6ef"
   },
   "outputs": [],
   "source": [
    "# Export as CSV\r\n",
    "df_final.to_csv('./../out/labeled_data')"
   ]
  },
  {
   "cell_type": "code",
   "connections": [],
   "execution_count": 20,
   "metadata": {
    "id": "f3a64982-8d9a-4252-8b95-0aa9d3c6853e"
   },
   "outputs": [
    {
     "data": {
      "text/plain": [
       "['./../out/unsupervised_bayesian.joblib']"
      ]
     },
     "execution_count": 20,
     "metadata": {},
     "output_type": "execute_result"
    }
   ],
   "source": [
    "# Exports the trained graph\r\n",
    "graph.dump_file('./../out/graph.json')\r\n",
    "trained_graph.dump_file(\"./../out/trained_graph.json\")\r\n",
    "dump([df, time_series], './../out/unsupervised_bayesian.joblib')"
   ]
  },
  {
   "cell_type": "code",
   "connections": [],
   "execution_count": 21,
   "metadata": {
    "id": "74e08559-2083-401c-9961-0f3f8d2be501"
   },
   "outputs": [
    {
     "data": {
      "application/json": {
       "graph": {
        "class": "Graph",
        "code": "\ngraph.age.set_distribution_parameter('variance_log', graph.age_variance_log)\ngraph.age.set_distribution_parameter('mean_log', graph.age_mean_log)\ngraph.height.set_distribution_parameter('variance', graph.height_variance)\nopSlice9 = Slice(graph.height_curve_parameters, 0)\nopSqrt12 = Sqrt(graph.age)\nopMul8 = Mul(opSlice9, opSqrt12)\nopConst13 = Const(2.0, shape=[], dtype='float')\nopDiv7 = Div(opMul8, opConst13)\nopSlice14 = Slice(graph.height_curve_parameters, 1)\nopAdd6 = Add(opDiv7, opSlice14)\ngraph.height.set_distribution_parameter('mean', opAdd6)",
        "entities": [],
        "global_name": "graph",
        "graphs": [],
        "inputs": {
         "class": "Inputs",
         "entities": [],
         "global_name": "graph/inputs",
         "variables": []
        },
        "links": [],
        "outputs": {
         "class": "Outputs",
         "entities": [],
         "global_name": "graph/outputs",
         "variables": []
        },
        "variables": [
         "graph/age",
         "graph/age_mean_log",
         "graph/age_variance_log",
         "graph/height",
         "graph/height_curve_parameters",
         "graph/height_variance"
        ]
       },
       "graph/age": {
        "class": "Variable",
        "code": "",
        "distribution": "LogNormalDistribution",
        "dtype": "float",
        "global_name": "graph/age",
        "shape": [],
        "variables": []
       },
       "graph/age_mean_log": {
        "class": "StaticVariable",
        "code": "\nopConst2 = Const(0.0002743715548827662, shape=[], dtype='float')\nage_mean_log.set_distribution_parameter('variance', opConst2)\nopConst3 = Const(5.041014191914396, shape=[], dtype='float')\nage_mean_log.set_distribution_parameter('mean', opConst3)",
        "distribution": "NormalDistribution",
        "dtype": "float",
        "global_name": "graph/age_mean_log",
        "shape": [],
        "variables": []
       },
       "graph/age_variance_log": {
        "class": "StaticVariable",
        "code": "\nopConst0 = Const(0.006040183177464797, shape=[], dtype='float')\nage_variance_log.set_distribution_parameter('variance_log', opConst0)\nopConst1 = Const(-2.9949993170038267, shape=[], dtype='float')\nage_variance_log.set_distribution_parameter('mean_log', opConst1)",
        "distribution": "LogNormalDistribution",
        "dtype": "float",
        "global_name": "graph/age_variance_log",
        "shape": [],
        "variables": []
       },
       "graph/height": {
        "class": "Variable",
        "code": "",
        "distribution": "NormalDistribution",
        "dtype": "float",
        "global_name": "graph/height",
        "shape": [],
        "variables": []
       },
       "graph/height_curve_parameters": {
        "class": "StaticVariable",
        "code": "\nopConst10 = Const([0.028037550122484153, 1.1070783389985561], shape=[2], dtype='float')\nheight_curve_parameters.set_distribution_parameter('variance', opConst10)\nopConst11 = Const([9.104588786446413, 3.53739378138205], shape=[2], dtype='float')\nheight_curve_parameters.set_distribution_parameter('mean', opConst11)",
        "distribution": "NormalDistribution",
        "dtype": "float",
        "global_name": "graph/height_curve_parameters",
        "shape": [
         2
        ],
        "variables": []
       },
       "graph/height_variance": {
        "class": "StaticVariable",
        "code": "\nopConst4 = Const(0.008571801087054354, shape=[], dtype='float')\nheight_variance.set_distribution_parameter('variance_log', opConst4)\nopConst5 = Const(2.4092164159892215, shape=[], dtype='float')\nheight_variance.set_distribution_parameter('mean_log', opConst5)",
        "distribution": "LogNormalDistribution",
        "dtype": "float",
        "global_name": "graph/height_variance",
        "shape": [],
        "variables": []
       }
      },
      "application/vnd.halerium.scopetors": "{\"version\": \"3.2.1\", \"scopetors\": {\"graph\": {\"class\": \"Graph\", \"global_name\": \"graph\", \"graphs\": [], \"inputs\": {\"class\": \"Inputs\", \"global_name\": \"graph/inputs\", \"entities\": [], \"variables\": []}, \"entities\": [], \"outputs\": {\"class\": \"Outputs\", \"global_name\": \"graph/outputs\", \"entities\": [], \"variables\": []}, \"variables\": [\"graph/age\", \"graph/age_mean_log\", \"graph/age_variance_log\", \"graph/height\", \"graph/height_curve_parameters\", \"graph/height_variance\"], \"links\": [], \"code\": \"\\ngraph.age.set_distribution_parameter('variance_log', graph.age_variance_log)\\ngraph.age.set_distribution_parameter('mean_log', graph.age_mean_log)\\ngraph.height.set_distribution_parameter('variance', graph.height_variance)\\nopSlice9 = Slice(graph.height_curve_parameters, 0)\\nopSqrt12 = Sqrt(graph.age)\\nopMul8 = Mul(opSlice9, opSqrt12)\\nopConst13 = Const(2.0, shape=[], dtype='float')\\nopDiv7 = Div(opMul8, opConst13)\\nopSlice14 = Slice(graph.height_curve_parameters, 1)\\nopAdd6 = Add(opDiv7, opSlice14)\\ngraph.height.set_distribution_parameter('mean', opAdd6)\"}, \"graph/age\": {\"class\": \"Variable\", \"global_name\": \"graph/age\", \"shape\": [], \"dtype\": \"float\", \"distribution\": \"LogNormalDistribution\", \"variables\": [], \"code\": \"\"}, \"graph/age_variance_log\": {\"class\": \"StaticVariable\", \"global_name\": \"graph/age_variance_log\", \"shape\": [], \"dtype\": \"float\", \"distribution\": \"LogNormalDistribution\", \"variables\": [], \"code\": \"\\nopConst0 = Const(0.006040183177464797, shape=[], dtype='float')\\nage_variance_log.set_distribution_parameter('variance_log', opConst0)\\nopConst1 = Const(-2.9949993170038267, shape=[], dtype='float')\\nage_variance_log.set_distribution_parameter('mean_log', opConst1)\"}, \"graph/age_mean_log\": {\"class\": \"StaticVariable\", \"global_name\": \"graph/age_mean_log\", \"shape\": [], \"dtype\": \"float\", \"distribution\": \"NormalDistribution\", \"variables\": [], \"code\": \"\\nopConst2 = Const(0.0002743715548827662, shape=[], dtype='float')\\nage_mean_log.set_distribution_parameter('variance', opConst2)\\nopConst3 = Const(5.041014191914396, shape=[], dtype='float')\\nage_mean_log.set_distribution_parameter('mean', opConst3)\"}, \"graph/height\": {\"class\": \"Variable\", \"global_name\": \"graph/height\", \"shape\": [], \"dtype\": \"float\", \"distribution\": \"NormalDistribution\", \"variables\": [], \"code\": \"\"}, \"graph/height_variance\": {\"class\": \"StaticVariable\", \"global_name\": \"graph/height_variance\", \"shape\": [], \"dtype\": \"float\", \"distribution\": \"LogNormalDistribution\", \"variables\": [], \"code\": \"\\nopConst4 = Const(0.008571801087054354, shape=[], dtype='float')\\nheight_variance.set_distribution_parameter('variance_log', opConst4)\\nopConst5 = Const(2.4092164159892215, shape=[], dtype='float')\\nheight_variance.set_distribution_parameter('mean_log', opConst5)\"}, \"graph/height_curve_parameters\": {\"class\": \"StaticVariable\", \"global_name\": \"graph/height_curve_parameters\", \"shape\": [2], \"dtype\": \"float\", \"distribution\": \"NormalDistribution\", \"variables\": [], \"code\": \"\\nopConst10 = Const([0.028037550122484153, 1.1070783389985561], shape=[2], dtype='float')\\nheight_curve_parameters.set_distribution_parameter('variance', opConst10)\\nopConst11 = Const([9.104588786446413, 3.53739378138205], shape=[2], dtype='float')\\nheight_curve_parameters.set_distribution_parameter('mean', opConst11)\"}}, \"positions\": {\"graph\": [100, 100], \"graph/inputs\": [172, 400], \"graph/outputs\": [1072, 550], \"graph/age\": [752, 250], \"graph/age_mean_log\": [752, 550], \"graph/age_variance_log\": [452, 550], \"graph/height\": [752, 400], \"graph/height_curve_parameters\": [452, 400], \"graph/height_variance\": [452, 250]}, \"variable_dependencies\": {\"graph\": [{\"source\": \"graph/age_variance_log\", \"target\": \"graph/age\"}, {\"source\": \"graph/age_mean_log\", \"target\": \"graph/age\"}, {\"source\": \"graph/height_variance\", \"target\": \"graph/height\"}, {\"source\": \"graph/height_curve_parameters\", \"target\": \"graph/height\"}, {\"source\": \"graph/age\", \"target\": \"graph/height\"}]}}",
      "text/plain": [
       "halerium graph 'graph'"
      ]
     },
     "metadata": {},
     "output_type": "display_data",
     "transient": {}
    }
   ],
   "source": [
    "# Show the graph\r\n",
    "hal.show(trained_graph)"
   ]
  },
  {
   "cell_type": "code",
   "connections": [],
   "execution_count": 21,
   "metadata": {
    "id": "a7d253be-6cca-4c61-ae59-516d1e70ae6b"
   },
   "outputs": [],
   "source": []
  }
 ],
 "metadata": {},
 "nbformat": 4,
 "nbformat_minor": 0
}
