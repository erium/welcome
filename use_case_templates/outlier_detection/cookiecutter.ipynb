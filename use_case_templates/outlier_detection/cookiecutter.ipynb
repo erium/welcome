{
 "cells": [
  {
   "cell_type": "code",
   "connections": [
    {
     "endLine": 1,
     "id": "dcf831b0-d7a1-49ae-8e60-ba7a37998074",
     "path": "/Personal/zihan/OutlierCookie/cookiecutter.ipynb",
     "startLine": 1
    }
   ],
   "execution_count": 0,
   "metadata": {
    "id": "d44c247b-5068-4afd-b504-f2242a800a3a"
   },
   "outputs": [],
   "source": [
    "from cookiecutter.main import cookiecutter\r\n",
    "from datetime import date"
   ]
  },
  {
   "cell_type": "code",
   "connections": [],
   "execution_count": 0,
   "metadata": {
    "id": "8796fd79-2ae5-4536-8cae-295f82c3bc35"
   },
   "outputs": [],
   "source": [
    "# specify the location of your experiments' folder \r\n",
    "experiments_dir = '.'"
   ]
  },
  {
   "cell_type": "code",
   "connections": [],
   "execution_count": 0,
   "metadata": {
    "id": "32fb940b-52f7-4dd2-a14f-067df9a8776f"
   },
   "outputs": [],
   "source": [
    "cookiecutter('.', \r\n",
    "            extra_context={'timestamp': str(date.today())},\r\n",
    "            output_dir=experiments_dir)"
   ]
  }
 ],
 "metadata": {},
 "nbformat": 4,
 "nbformat_minor": 0
}
