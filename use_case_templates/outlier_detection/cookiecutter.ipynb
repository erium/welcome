{
 "cells": [
  {
   "cell_type": "code",
   "connections": [
    {
     "endLine": 1,
     "id": "dcf831b0-d7a1-49ae-8e60-ba7a37998074",
     "path": "/Personal/zihan/OutlierCookie/cookiecutter.ipynb",
     "startLine": 1
    }
   ],
   "execution_count": 175,
   "metadata": {
    "id": "d44c247b-5068-4afd-b504-f2242a800a3a"
   },
   "outputs": [],
   "source": [
    "from cookiecutter.main import cookiecutter\r\n",
    "from datetime import date"
   ]
  },
  {
   "cell_type": "code",
   "connections": [],
   "execution_count": 176,
   "metadata": {
    "id": "32fb940b-52f7-4dd2-a14f-067df9a8776f"
   },
   "outputs": [
    {
     "name": "stdout",
     "output_type": "stream",
     "text": [
      "directory_name [outlier_detection]:"
     ]
    },
    {
     "name": "stdout",
     "output_type": "stream",
     "text": [
      "  "
     ]
    },
    {
     "name": "stdout",
     "output_type": "stream",
     "text": [
      "timestamp [2022-03-25]:"
     ]
    },
    {
     "name": "stdout",
     "output_type": "stream",
     "text": [
      "  "
     ]
    },
    {
     "name": "stdout",
     "output_type": "stream",
     "text": [
      "timestamp_directory_name [2022-03-25_outlier_detection]:"
     ]
    },
    {
     "name": "stdout",
     "output_type": "stream",
     "text": [
      "  "
     ]
    },
    {
     "name": "stdout",
     "output_type": "stream",
     "text": [
      "destination_path [Personal/zihan/template-test/experiments/erium]:"
     ]
    },
    {
     "name": "stdout",
     "output_type": "stream",
     "text": [
      "  "
     ]
    },
    {
     "name": "stdout",
     "output_type": "stream",
     "text": [
      "project_name ['Outlier_Detection']:"
     ]
    },
    {
     "name": "stdout",
     "output_type": "stream",
     "text": [
      "  "
     ]
    },
    {
     "name": "stdout",
     "output_type": "stream",
     "text": [
      "data_path [default example]:"
     ]
    },
    {
     "name": "stdout",
     "output_type": "stream",
     "text": [
      "  "
     ]
    },
    {
     "name": "stdout",
     "output_type": "stream",
     "text": [
      "Select model_templates:\n",
      "1 - 1-autoencoder\n",
      "2 - 2-bayesian_supervised\n",
      "3 - 3-bayesian_unsupervised\n",
      "4 - 4-supervised\n",
      "5 - 5-unsupervised\n",
      "Choose from 1, 2, 3, 4, 5 [1]:"
     ]
    },
    {
     "name": "stdout",
     "output_type": "stream",
     "text": [
      "  3"
     ]
    },
    {
     "data": {
      "text/plain": [
       "'/home/jovyan/Personal/zihan/OutlierCookie/2022-03-25_outlier_detection'"
      ]
     },
     "execution_count": 176,
     "metadata": {},
     "output_type": "execute_result"
    }
   ],
   "source": [
    "cookiecutter('./../OutlierCookie', extra_context={'timestamp': str(date.today())})"
   ]
  }
 ],
 "metadata": {},
 "nbformat": 4,
 "nbformat_minor": 0
}
