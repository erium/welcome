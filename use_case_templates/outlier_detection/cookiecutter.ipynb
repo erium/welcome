{
 "cells": [
  {
   "cell_type": "code",
   "connections": [
    {
     "endLine": 1,
     "id": "dcf831b0-d7a1-49ae-8e60-ba7a37998074",
     "path": "/Personal/zihan/OutlierCookie/cookiecutter.ipynb",
     "startLine": 1
    }
   ],
   "execution_count": 0,
   "metadata": {
    "id": "d44c247b-5068-4afd-b504-f2242a800a3a"
   },
   "outputs": [],
   "source": [
    "from cookiecutter.main import cookiecutter\r\n",
    "from datetime import date\r\n",
    "import glob"
   ]
  },
  {
   "cell_type": "code",
   "connections": [],
   "execution_count": 0,
   "metadata": {
    "id": "8796fd79-2ae5-4536-8cae-295f82c3bc35"
   },
   "outputs": [],
   "source": [
    "# Specify the name of your project folder (copied into the experiments folder)\r\n",
    "project_folder = '' # Enter the name of your project folder\r\n",
    "\r\n",
    "experiments_dir = glob.glob(\"/home/jovyan/**/\" + project_folder + \"/experiments/\", recursive=True)\r\n",
    "if len(experiments_dir) > 1:\r\n",
    "    print(\"Multiple project folders with the same name. You may select which project folder is correct\")\r\n",
    "    print(experiments_dir)\r\n",
    "    index = int(input(\"Please input the index of the correct folder\"))\r\n",
    "    experiments_dir = experiments_dir[index]\r\n",
    "else:\r\n",
    "    experiments_dir = experiments_dir[0]\r\n",
    "print(experiments_dir)\r\n",
    "\r\n",
    "cookiecutter('.', \r\n",
    "            extra_context={'timestamp': str(date.today())},\r\n",
    "            output_dir=experiments_dir)"
   ]
  },
  {
   "cell_type": "code",
   "connections": [],
   "execution_count": 0,
   "metadata": {
    "id": "32fb940b-52f7-4dd2-a14f-067df9a8776f"
   },
   "outputs": [],
   "source": [
    "# OR specify a folder directly to copy the template\r\n",
    "directory = '.'\r\n",
    "\r\n",
    "cookiecutter('.', \r\n",
    "            extra_context={'timestamp': str(date.today())},\r\n",
    "            output_dir=directory)"
   ]
  }
 ],
 "metadata": {},
 "nbformat": 4,
 "nbformat_minor": 0
}
