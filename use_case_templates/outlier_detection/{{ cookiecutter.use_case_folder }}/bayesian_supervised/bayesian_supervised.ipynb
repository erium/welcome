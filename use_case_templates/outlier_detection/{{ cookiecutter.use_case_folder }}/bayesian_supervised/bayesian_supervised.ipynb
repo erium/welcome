{
 "cells": [
  {
   "cell_type": "markdown",
   "connections": [],
   "execution_count": 0,
   "metadata": {
    "id": "71584e46-0901-4b3b-badd-4c01e2aa759d"
   },
   "outputs": [],
   "source": [
    "# Supervised Bayesian model\r\n",
    "\r\n",
    "This is a template notebook for supervised bayesian outlier detection With Halerium Causal Structures.\r\n",
    "\r\n",
    "Author: {{ cookiecutter.author_name }}\r\n",
    "Created: {{ cookiecutter.timestamp }}\r\n"
   ]
  },
  {
   "cell_type": "markdown",
   "connections": [],
   "execution_count": 0,
   "metadata": {
    "id": "1a8dd6e7-8873-4016-be8e-8456367717b8"
   },
   "outputs": [],
   "source": [
    "## How to use the notebook\r\n",
    "\r\n",
    "The following cells:\r\n",
    "- specify objective, variables, and dependencies,\r\n",
    "- set up the outlier detection models,\r\n",
    "- read dataset,\r\n",
    "- present results from the models.\r\n",
    "\r\n",
    "By default, the notebook is set up to run with an example (labeled height weight). To see how it works, run the notebook without changing the code.\r\n",
    "\r\n",
    "For your project, adjust the code in the linked cells with your objectives, variables, dataset etc. and then execute all cells in order.\r\n",
    "\r\n",
    "Please refer to bayesian_supervised.board for detailed instructions."
   ]
  },
  {
   "cell_type": "code",
   "connections": [],
   "execution_count": 0,
   "metadata": {
    "id": "35d43e43-e478-4d9e-b26e-a25d3f8a465b"
   },
   "outputs": [],
   "source": [
    "# Link to project experiments folder hypothesis_experiment_learnings.board (refresh and hit enter on this line to see the link)"
   ]
  },
  {
   "cell_type": "markdown",
   "connections": [],
   "execution_count": 0,
   "metadata": {
    "id": "4a5a6391-8b94-4b85-bb60-3506a5e343de"
   },
   "outputs": [],
   "source": [
    "# General Imports and Setup"
   ]
  },
  {
   "cell_type": "code",
   "connections": [],
   "execution_count": 0,
   "metadata": {
    "id": "a0b3bde4-dc7c-4647-9b41-6de0c5039085"
   },
   "outputs": [],
   "source": [
    "import os\r\n",
    "import shutil\r\n",
    "from distutils.dir_util import copy_tree\r\n",
    "\r\n",
    "import numpy as np\r\n",
    "import pandas as pd\r\n",
    "import halerium.core as hal\r\n",
    "from halerium import CausalStructure\r\n",
    "\r\n",
    "import matplotlib.pyplot as plt\r\n",
    "import seaborn as sns\r\n",
    "\r\n",
    "from sklearn.model_selection import train_test_split\r\n",
    "\r\n",
    "from sklearn.metrics import classification_report, confusion_matrix, precision_recall_fscore_support\r\n",
    "\r\n",
    "from joblib import dump, load"
   ]
  },
  {
   "cell_type": "markdown",
   "connections": [],
   "execution_count": 0,
   "metadata": {
    "id": "a054fe76-3d8c-49dd-8344-14a4fc90bde1"
   },
   "outputs": [],
   "source": [
    "# Project"
   ]
  },
  {
   "cell_type": "code",
   "connections": [
    {
     "endLine": 1,
     "id": "3a26b268-5f2d-4bd9-b65d-064ccb07480d",
     "startLine": 1
    }
   ],
   "execution_count": 0,
   "metadata": {
    "id": "6ea9aad8-6e8e-442d-8bc2-06a17d67ce3f"
   },
   "outputs": [],
   "source": [
    "experiment_name = '{{cookiecutter.use_case_name}}'  # please provide a name for the outlier detection experiment"
   ]
  },
  {
   "cell_type": "markdown",
   "connections": [],
   "execution_count": 0,
   "metadata": {
    "id": "e42cf9e8-5d21-48af-90e3-800e812d30b4"
   },
   "outputs": [],
   "source": [
    "# Dataset"
   ]
  },
  {
   "cell_type": "code",
   "connections": [
    {
     "endLine": 3,
     "id": "1cf010bb-cad1-4cde-8d25-90c1bd5b2870",
     "startLine": 1
    }
   ],
   "execution_count": 0,
   "metadata": {
    "id": "5b1d85e4-0271-49e1-b8aa-88ed41518656"
   },
   "outputs": [],
   "source": [
    "time_series = False # Specify if the data is time series\n",
    "path = '{{cookiecutter.data_path}}' # Specify the path of the data\n",
    "test_size = 0.25\n",
    "\n",
    "if path == 'default example':\n",
    "    path = 'https://raw.githubusercontent.com/erium/halerium-example-data/main/outlier_detection/labeled_height_weight.csv'\n",
    "\n",
    "if time_series:\n",
    "    df = pd.read_csv(path, parse_dates=['date'], index_col = 'date')\n",
    "else:\n",
    "    df = pd.read_csv(path)\n",
    "\n",
    "num_col = len(df.columns)\n",
    "\n",
    "path = './../out'\n",
    "isExist = os.path.exists(path)\n",
    "if isExist:\n",
    "  for root, dirs, files in os.walk(path):\n",
    "      for f in files:\n",
    "          os.unlink(os.path.join(root, f))\n",
    "      for d in dirs:\n",
    "          shutil.rmtree(os.path.join(root, d))\n",
    "else:\n",
    "  os.makedirs(path)"
   ]
  },
  {
   "cell_type": "code",
   "connections": [],
   "execution_count": 0,
   "metadata": {
    "id": "052a6b32-7387-4290-b0ad-24ea7e9c0692"
   },
   "outputs": [],
   "source": [
    "df"
   ]
  },
  {
   "cell_type": "code",
   "connections": [],
   "execution_count": 0,
   "metadata": {
    "id": "2e31b2e1-dda9-408f-8b75-3c3653f4e0db"
   },
   "outputs": [],
   "source": [
    "pairplot_hue = 'outlier'\r\n",
    "palette ={0: \"C0\", 1: \"C3\"}\r\n",
    "sns.pairplot(df, hue = pairplot_hue, palette=palette)"
   ]
  },
  {
   "cell_type": "markdown",
   "connections": [],
   "execution_count": 0,
   "metadata": {
    "id": "d4ceb810-adac-43f1-82ce-cb1c48d39a72"
   },
   "outputs": [],
   "source": [
    "## Split the Data"
   ]
  },
  {
   "cell_type": "code",
   "connections": [],
   "execution_count": 0,
   "metadata": {
    "id": "582b9efc-7804-4f85-b858-119f97e5ecd4"
   },
   "outputs": [],
   "source": [
    "df_train, df_test = train_test_split(df, test_size = test_size)"
   ]
  },
  {
   "cell_type": "markdown",
   "connections": [],
   "execution_count": 0,
   "metadata": {
    "id": "6512c116-4bf0-4fdb-a59d-c0613627d202"
   },
   "outputs": [],
   "source": [
    "## Model the Causal structure"
   ]
  },
  {
   "cell_type": "code",
   "connections": [],
   "execution_count": 0,
   "metadata": {
    "id": "99742223-02b7-4cf9-a441-62aa0876501e"
   },
   "outputs": [],
   "source": [
    "data = pd.DataFrame(data={\"(age)\": df_train[\"Age\"],\r\n",
    "                          \"(height|age)\": df_train[\"Height\"],\r\n",
    "                          \"(outlier|age,height)\": df_train[\"outlier\"]})\r\n",
    "\r\n",
    "test_data = pd.DataFrame(data={\"(age)\": df_test[\"Age\"],\r\n",
    "                          \"(height|age)\": df_test[\"Height\"]})"
   ]
  },
  {
   "cell_type": "code",
   "connections": [],
   "execution_count": 0,
   "metadata": {
    "id": "fd328ecc-3e62-4500-8fa8-bc15785d0260"
   },
   "outputs": [],
   "source": [
    "data"
   ]
  },
  {
   "cell_type": "code",
   "connections": [
    {
     "endLine": 4,
     "id": "cf94ca51-8797-46f0-90ef-c1f1ff1eab57",
     "startLine": 1
    }
   ],
   "execution_count": 0,
   "metadata": {
    "id": "7751db03-49f3-403d-9220-45a7b7b66f20"
   },
   "outputs": [],
   "source": [
    "dependencies = [\r\n",
    "    [\"(age)\", \"(height|age)\"], # the column '(height|age)' depends on '(age)'\r\n",
    "    [[\"(age)\", \"(height|age)\"], \"(outlier|age,height)\"], # the column '(outlier|age,height)' depends on '(age)' and '(height|age)'\r\n",
    "]"
   ]
  },
  {
   "cell_type": "code",
   "connections": [],
   "execution_count": 0,
   "metadata": {
    "id": "cd5eca5e-3a41-4fbd-90ce-1ac477f6988f"
   },
   "outputs": [],
   "source": [
    "outlier_threshold = 0.5\r\n",
    "causal_structure = CausalStructure(dependencies)\r\n",
    "causal_structure.train(data)\r\n",
    "prediction = causal_structure.predict(data=test_data)\r\n",
    "prediction_mean, prediction_std = causal_structure.predict(\r\n",
    "    data=test_data, return_std=True)"
   ]
  },
  {
   "cell_type": "markdown",
   "connections": [],
   "execution_count": 0,
   "metadata": {
    "id": "c4504a96-ccc8-4f25-bad1-d41598c66fff"
   },
   "outputs": [],
   "source": [
    "## Outlier Prediction"
   ]
  },
  {
   "cell_type": "code",
   "connections": [],
   "execution_count": 0,
   "metadata": {
    "id": "0314be6c-d58e-4db1-853e-c0d9faf23dcd"
   },
   "outputs": [],
   "source": [
    "prediction.loc[prediction['(outlier|age,height)'] < outlier_threshold, '(outlier|age,height)'] = 0\r\n",
    "prediction.loc[prediction['(outlier|age,height)'] >= outlier_threshold, '(outlier|age,height)'] = 1\r\n",
    "prediction"
   ]
  },
  {
   "cell_type": "code",
   "connections": [
    {
     "endLine": 8,
     "id": "6a35ae62-a925-4e36-8e0a-7586227a67a1",
     "startLine": 7
    }
   ],
   "execution_count": 0,
   "metadata": {
    "id": "b3c510e0-1db8-46a1-9ada-3252bc4d5645"
   },
   "outputs": [],
   "source": [
    "y_test = df_test['outlier']\r\n",
    "y_pred = prediction['(outlier|age,height)']\r\n",
    "precision, recall, fscore, support = precision_recall_fscore_support(y_test, y_pred, average='macro')\r\n",
    "report = classification_report(y_test, y_pred, target_names=['Non-outlier', 'Outlier'])\r\n",
    "\r\n",
    "tn, fp, fn, tp = confusion_matrix(y_test, y_pred).ravel()\r\n",
    "print(pd.Series([tn, fp, fn, tp], index = ['True Negatives (Non-outliers)', 'False Positives (Non-outliers predicted as outliers)', 'False Negatives (Outliers predicted as non-outliers', 'True Positives (Outliers)']))\r\n",
    "print(report)"
   ]
  },
  {
   "cell_type": "code",
   "connections": [],
   "execution_count": 0,
   "metadata": {
    "id": "785926e4-8528-4973-b066-22afaa9f9a94"
   },
   "outputs": [],
   "source": [
    "# Export the causal structure\r\n",
    "dump([data, dependencies, df, time_series, outlier_threshold], './../out/supervised_bayesian.joblib')"
   ]
  }
 ],
 "metadata": {},
 "nbformat": 4,
 "nbformat_minor": 0
}
