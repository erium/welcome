{
 "cells": [
  {
   "cell_type": "markdown",
   "connections": [],
   "execution_count": 0,
   "metadata": {
    "id": "71584e46-0901-4b3b-badd-4c01e2aa759d"
   },
   "outputs": [],
   "source": [
    "# Unsupervised Bayesian model\r\n",
    "This is a template notebook for unsupervised bayesian outlier detection With Halerium Graphs.\r\n",
    "\r\n",
    "Author: {{ cookiecutter.author_name }}\r\n",
    "Created: {{ cookiecutter.timestamp }}"
   ]
  },
  {
   "cell_type": "markdown",
   "connections": [],
   "execution_count": 0,
   "metadata": {
    "id": "1fb00ee9-e44b-44df-92af-41ac431b5d49"
   },
   "outputs": [],
   "source": [
    "## How to use the notebook\r\n",
    "\r\n",
    "The following cells:\r\n",
    "- specify objective, variables, and dependencies,\r\n",
    "- set up the outlier detection models,\r\n",
    "- read dataset,\r\n",
    "- present results from the models.\r\n",
    "\r\n",
    "By default, the notebook is set up to run with an example (height weight). To see how it works, run the notebook without changing the code.\r\n",
    "\r\n",
    "For your project, adjust the code in the linked cells with your objectives, variables, dataset etc. and then execute all cells in order.\r\n",
    "\r\n",
    "Please refer to bayesian_unsupervised.board for detailed instructions."
   ]
  },
  {
   "cell_type": "code",
   "connections": [],
   "execution_count": 0,
   "metadata": {
    "id": "33acbe78-5d96-49c6-a0ff-4e2b678b08cb"
   },
   "outputs": [],
   "source": [
    "# Link to project experiments folder hypothesis_experiment_learnings.board (refresh and hit enter on this line to see the link)"
   ]
  },
  {
   "cell_type": "markdown",
   "connections": [],
   "execution_count": 0,
   "metadata": {
    "id": "4a5a6391-8b94-4b85-bb60-3506a5e343de"
   },
   "outputs": [],
   "source": [
    "# General Imports and Setup"
   ]
  },
  {
   "cell_type": "code",
   "connections": [],
   "execution_count": 0,
   "metadata": {
    "id": "a0b3bde4-dc7c-4647-9b41-6de0c5039085"
   },
   "outputs": [],
   "source": [
    "import os\r\n",
    "import shutil\r\n",
    "from distutils.dir_util import copy_tree\r\n",
    "\r\n",
    "import numpy as np\r\n",
    "import pandas as pd\r\n",
    "import halerium.core as hal\r\n",
    "\r\n",
    "import matplotlib.pyplot as plt\r\n",
    "\r\n",
    "from joblib import dump, load"
   ]
  },
  {
   "cell_type": "markdown",
   "connections": [],
   "execution_count": 0,
   "metadata": {
    "id": "a054fe76-3d8c-49dd-8344-14a4fc90bde1"
   },
   "outputs": [],
   "source": [
    "# Project"
   ]
  },
  {
   "cell_type": "code",
   "connections": [
    {
     "endLine": 1,
     "id": "f3fa4289-b853-4eb0-97b9-b361f7e37afc",
     "startLine": 1
    }
   ],
   "execution_count": 0,
   "metadata": {
    "id": "6ea9aad8-6e8e-442d-8bc2-06a17d67ce3f"
   },
   "outputs": [],
   "source": [
    "experiment_name = '{{cookiecutter.use_case_name}}'  # please provide a name for the outlier detection experiment"
   ]
  },
  {
   "cell_type": "markdown",
   "connections": [],
   "execution_count": 0,
   "metadata": {
    "id": "e42cf9e8-5d21-48af-90e3-800e812d30b4"
   },
   "outputs": [],
   "source": [
    "# Dataset"
   ]
  },
  {
   "cell_type": "code",
   "connections": [
    {
     "endLine": 2,
     "id": "35aaa8c6-7a71-468d-94fc-5a659a6e5098",
     "startLine": 1
    }
   ],
   "execution_count": 0,
   "metadata": {
    "id": "5b1d85e4-0271-49e1-b8aa-88ed41518656"
   },
   "outputs": [],
   "source": [
    "time_series = False # Specify if the data is time series\n",
    "path = '{{cookiecutter.data_path}}' # Specify the path of the data\n",
    "\n",
    "if path == 'default example':\n",
    "    path = 'https://raw.githubusercontent.com/erium/halerium-example-data/main/outlier_detection/height_weight.csv'\n",
    "\n",
    "if time_series:\n",
    "    df = pd.read_csv(path, parse_dates=['date'], index_col = 'date')\n",
    "else:\n",
    "    df = pd.read_csv(path)\n",
    "\n",
    "num_col = len(df.columns)\n",
    "\n",
    "out_path = './../out'\n",
    "isExist = os.path.exists(out_path)\n",
    "if isExist:\n",
    "  for root, dirs, files in os.walk(out_path):\n",
    "      for f in files:\n",
    "          os.unlink(os.path.join(root, f))\n",
    "      for d in dirs:\n",
    "          shutil.rmtree(os.path.join(root, d))\n",
    "else:\n",
    "  os.makedirs(out_path)"
   ]
  },
  {
   "cell_type": "markdown",
   "connections": [],
   "execution_count": 0,
   "metadata": {
    "id": "b71876a1-8c65-4e2c-8575-70d3b4dc1ae4"
   },
   "outputs": [],
   "source": [
    "Visualising the dataset"
   ]
  },
  {
   "cell_type": "code",
   "connections": [],
   "execution_count": 0,
   "metadata": {
    "id": "052a6b32-7387-4290-b0ad-24ea7e9c0692"
   },
   "outputs": [],
   "source": [
    "df"
   ]
  },
  {
   "cell_type": "code",
   "connections": [],
   "execution_count": 0,
   "metadata": {
    "id": "2e31b2e1-dda9-408f-8b75-3c3653f4e0db"
   },
   "outputs": [],
   "source": [
    "plt.title(\"Plot of age against height\")\r\n",
    "plt.scatter(df[\"Age\"], df[\"Height\"])\r\n",
    "plt.xlabel('Age')\r\n",
    "plt.ylabel('Height')\r\n",
    "plt.show()"
   ]
  },
  {
   "cell_type": "markdown",
   "connections": [],
   "execution_count": 0,
   "metadata": {
    "id": "34fd22a6-a015-437b-b6ed-f9ddb2cfbbd3"
   },
   "outputs": [],
   "source": [
    "# Defining the variables"
   ]
  },
  {
   "cell_type": "code",
   "connections": [
    {
     "endLine": 25,
     "id": "ed8466e2-4290-4ea2-96c3-a56e6986fda5",
     "startLine": 2
    }
   ],
   "execution_count": 0,
   "metadata": {
    "id": "5eb6fcd7-6863-43d7-af6b-980c5be30768"
   },
   "outputs": [],
   "source": [
    "graph = hal.Graph(\"graph\")\r\n",
    "with graph:\r\n",
    "    # Defining a variable you would like to model (usually a feature in the data)\r\n",
    "    hal.Variable(\"age\",\r\n",
    "                 distribution=\"LogNormalDistribution\") # we pick the log-normal distribution since age is a positive number\r\n",
    "    hal.StaticVariable(\"age_mean_log\", # Define the mean log of the variable\r\n",
    "                       distribution=\"NormalDistribution\", # the mean log can be negative or positive\r\n",
    "                       mean=0, variance=4) # Define the known/assumed statistical properties\r\n",
    "    hal.StaticVariable(\"age_variance_log\",\r\n",
    "                       distribution=\"LogNormalDistribution\", # a variance has to be positive\r\n",
    "                       mean_log=0, variance_log=1,)\r\n",
    "    \r\n",
    "    # Set the attributes of the variable\r\n",
    "    age.mean_log = age_mean_log\r\n",
    "    age.variance_log = age_variance_log\r\n",
    "\r\n",
    "    hal.Variable(\"height\")\r\n",
    "    hal.StaticVariable(\"height_curve_parameters\", shape=(2,), mean=0, variance=1)\r\n",
    "    # You may set the mathematical formulation of properties based on other properties\r\n",
    "    height.mean = height_curve_parameters[0] * hal.math.sqrt(age) / 2 + height_curve_parameters[1]\r\n",
    "    hal.StaticVariable(\"height_variance\",\r\n",
    "                       distribution=\"LogNormalDistribution\", # a variance has to be positive\r\n",
    "                       mean_log=-3, variance_log=1,)\r\n",
    "    # Set the attributes of the variable\r\n",
    "    height.variance = height_variance"
   ]
  },
  {
   "cell_type": "markdown",
   "connections": [],
   "execution_count": 0,
   "metadata": {
    "id": "d2f15909-17d3-4466-bde2-5cb86207c6f1"
   },
   "outputs": [],
   "source": [
    "## Training the model"
   ]
  },
  {
   "cell_type": "code",
   "connections": [],
   "execution_count": 0,
   "metadata": {
    "id": "050b6637-ea6b-4c26-b4ff-3af61352c882"
   },
   "outputs": [],
   "source": [
    "posterior_model = hal.get_posterior_model(graph, data={graph.age: df[\"Age\"], graph.height: df[\"Height\"]})\r\n",
    "posterior_model.solve()\r\n",
    "post_samples = posterior_model.get_samples(graph.height_curve_parameters, n_samples=1000)"
   ]
  },
  {
   "cell_type": "code",
   "connections": [],
   "execution_count": 0,
   "metadata": {
    "id": "939fcaba-eaab-4330-90be-83b8a3d9a7d7"
   },
   "outputs": [],
   "source": [
    "plt.title(\"Plot of model parameters\")\r\n",
    "plt.scatter(np.array(post_samples)[:, 0], np.array(post_samples)[:, 1])\r\n",
    "plt.show()"
   ]
  },
  {
   "cell_type": "code",
   "connections": [],
   "execution_count": 0,
   "metadata": {
    "id": "06d68cc5-ea2e-47a4-a657-69626f68fecb"
   },
   "outputs": [],
   "source": [
    "trained_graph = hal.Trainer(graph, data={graph.age: df[\"Age\"], graph.height: df[\"Height\"]})()"
   ]
  },
  {
   "cell_type": "code",
   "connections": [],
   "execution_count": 0,
   "metadata": {
    "id": "8f119f5a-7d24-4fc9-a542-fbe04b90edd2"
   },
   "outputs": [],
   "source": [
    "# Predicted statistical features of parameters\r\n",
    "hal.Predictor(trained_graph, measure=('mean', 'standard_deviation'))([trained_graph.height_curve_parameters])"
   ]
  },
  {
   "cell_type": "code",
   "connections": [],
   "execution_count": 0,
   "metadata": {
    "id": "40483121-d16c-40da-b36a-a4eaacab82ce"
   },
   "outputs": [],
   "source": [
    "# Predicted statistical features of height variance\r\n",
    "hal.Predictor(trained_graph, measure=('mean', 'standard_deviation'))([trained_graph.height_variance])"
   ]
  },
  {
   "cell_type": "code",
   "connections": [],
   "execution_count": 0,
   "metadata": {
    "id": "1bbd8389-e0ba-43ec-bb21-9a2882ee3d46"
   },
   "outputs": [],
   "source": [
    "# Samples from the trained graph\r\n",
    "samples = hal.get_generative_model(trained_graph).get_samples({\"age\": trained_graph.age,\r\n",
    "                                                               \"height\": trained_graph.height},\r\n",
    "                                                              n_samples=1000)"
   ]
  },
  {
   "cell_type": "code",
   "connections": [],
   "execution_count": 0,
   "metadata": {
    "id": "0a7d4085-a18d-40bc-bc7c-b9ee46acc609"
   },
   "outputs": [],
   "source": [
    "plt.title('Plot of points from original data and trained graph')\r\n",
    "plt.scatter(np.reshape(samples[\"age\"], -1), np.reshape(samples[\"height\"], -1), label='From graph')\r\n",
    "plt.scatter(df[\"Age\"], df[\"Height\"], label='From data')\r\n",
    "plt.legend()\r\n",
    "plt.show()"
   ]
  },
  {
   "cell_type": "code",
   "connections": [],
   "execution_count": 0,
   "metadata": {
    "id": "9dbd4a2f-c5d5-461f-aaae-d095a2a4506d"
   },
   "outputs": [],
   "source": [
    "age_input = np.linspace(100, 250, 100)\r\n",
    "height_pred = hal.Predictor(trained_graph, measure='mean', data={trained_graph.age: age_input})(trained_graph.height)"
   ]
  },
  {
   "cell_type": "code",
   "connections": [],
   "execution_count": 0,
   "metadata": {
    "id": "12d2b018-9bbf-4e05-b391-9a86707d9fed"
   },
   "outputs": [],
   "source": [
    "plt.plot(age_input, height_pred, color='r', label='Predicted trend')\r\n",
    "plt.scatter(df[\"Age\"], df[\"Height\"], label='Original Data')\r\n",
    "plt.legend()\r\n",
    "plt.show()"
   ]
  },
  {
   "cell_type": "markdown",
   "connections": [],
   "execution_count": 0,
   "metadata": {
    "id": "c75af6a6-25c0-448c-b173-693bf8181a06"
   },
   "outputs": [],
   "source": [
    "## Detecting the outliers"
   ]
  },
  {
   "cell_type": "code",
   "connections": [],
   "execution_count": 0,
   "metadata": {
    "id": "f005e2b1-ef0a-4cd0-a6e0-57b4aecba9b7"
   },
   "outputs": [],
   "source": [
    "# Detect outliers in the data\r\n",
    "out_detector = hal.objectives.OutlierDetector(trained_graph, data={graph.age: df[\"Age\"], graph.height: df[\"Height\"]})"
   ]
  },
  {
   "cell_type": "code",
   "connections": [],
   "execution_count": 0,
   "metadata": {
    "id": "6aaa1762-ce2c-42c0-b25b-551106f9bcce"
   },
   "outputs": [],
   "source": [
    "# Univariate outliers and outlier for entire data point\r\n",
    "out_detector()"
   ]
  },
  {
   "cell_type": "code",
   "connections": [
    {
     "endLine": 6,
     "id": "2c00c626-48a2-4521-9ecf-74afdcfc9fcb",
     "startLine": 1
    }
   ],
   "execution_count": 0,
   "metadata": {
    "id": "8bb71731-16d1-4402-b314-8c3cf5503c2b"
   },
   "outputs": [],
   "source": [
    "outlier_flags = out_detector()['graph'] # outliers in context of whole graph\r\n",
    "plt.title('Plot of outlier points')\r\n",
    "plt.scatter(df[\"Age\"][~outlier_flags], df[\"Height\"][~outlier_flags], color=\"green\", label='Non-outlier')\r\n",
    "plt.scatter(df[\"Age\"][outlier_flags], df[\"Height\"][outlier_flags], color=\"red\", label='Outlier')\r\n",
    "plt.legend()\r\n",
    "plt.show()"
   ]
  },
  {
   "cell_type": "markdown",
   "connections": [],
   "execution_count": 0,
   "metadata": {
    "id": "2bc0e315-fa46-4fff-a775-b419235f2d48"
   },
   "outputs": [],
   "source": [
    "## Outlier prediction and export"
   ]
  },
  {
   "cell_type": "code",
   "connections": [],
   "execution_count": 0,
   "metadata": {
    "id": "c3d7d482-80f9-4b5c-8404-e3d5d49b8cfa"
   },
   "outputs": [],
   "source": [
    "df_final = df.copy()\r\n",
    "df_final['outlier'] = 0\r\n",
    "outliers = []\r\n",
    "for i, outlier in enumerate(outlier_flags):\r\n",
    "    if outlier:\r\n",
    "        outliers.append(i)\r\n",
    "df_final.loc[df_final.index[outliers], 'outlier'] = 1\r\n",
    "df_final"
   ]
  },
  {
   "cell_type": "code",
   "connections": [],
   "execution_count": 0,
   "metadata": {
    "id": "2ab76f47-9dda-4be2-9f10-3399a7dfe6ef"
   },
   "outputs": [],
   "source": [
    "# Export as CSV\r\n",
    "df_final.to_csv('./../out/labeled_data')"
   ]
  },
  {
   "cell_type": "code",
   "connections": [],
   "execution_count": 0,
   "metadata": {
    "id": "f3a64982-8d9a-4252-8b95-0aa9d3c6853e"
   },
   "outputs": [],
   "source": [
    "# Exports the trained graph\r\n",
    "graph.dump_file('./../out/graph.json')\r\n",
    "trained_graph.dump_file(\"./../out/trained_graph.json\")\r\n",
    "dump([df, time_series], './../out/unsupervised_bayesian.joblib')"
   ]
  },
  {
   "cell_type": "code",
   "connections": [],
   "execution_count": 0,
   "metadata": {
    "id": "74e08559-2083-401c-9961-0f3f8d2be501"
   },
   "outputs": [],
   "source": [
    "# Show the graph\r\n",
    "hal.show(trained_graph)"
   ]
  }
 ],
 "metadata": {},
 "nbformat": 4,
 "nbformat_minor": 0
}
