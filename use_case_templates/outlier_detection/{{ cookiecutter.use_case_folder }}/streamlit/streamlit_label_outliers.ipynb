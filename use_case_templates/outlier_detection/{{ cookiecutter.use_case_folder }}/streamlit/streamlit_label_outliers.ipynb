{
 "cells": [
  {
   "cell_type": "code",
   "connections": [
    {
     "endLine": 1,
     "id": "80078958-dc0c-40b1-99b0-aee3eb17be39",
     "startLine": 1
    }
   ],
   "execution_count": 0,
   "metadata": {
    "id": "5b1b2b33-929a-412a-b52e-4a5747ad36c0"
   },
   "outputs": [],
   "source": [
    "! get_apps_url.sh"
   ]
  },
  {
   "cell_type": "code",
   "connections": [],
   "execution_count": 0,
   "metadata": {
    "id": "44b534b3-3820-44c0-94bf-3022c5ac4a6a"
   },
   "outputs": [],
   "source": [
    "! streamlit run streamlit_label_outliers.py"
   ]
  }
 ],
 "metadata": {},
 "nbformat": 4,
 "nbformat_minor": 0
}
