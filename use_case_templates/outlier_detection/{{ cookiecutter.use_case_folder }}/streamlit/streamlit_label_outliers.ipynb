{
  "cells": [
    {
      "cell_type": "code",
      "connections": [],
      "execution_count": 0,
      "metadata": {
        "id": "5b1b2b33-929a-412a-b52e-4a5747ad36c0"
      },
      "outputs": [
        {
          "name": "stdout",
          "output_type": "stream",
          "text": [
            "http://internal.halerium.ai/apps/622b1f56bf71e80012b8f5ea/<your port between 8501 and 8510>\r\n"
          ]
        }
      ],
      "source": [
        "! get_apps_url.sh"
      ]
    },
    {
      "cell_type": "code",
      "connections": [],
      "execution_count": 4,
      "metadata": {
        "id": "44b534b3-3820-44c0-94bf-3022c5ac4a6a"
      },
      "outputs": [
        {
          "name": "stdout",
          "output_type": "stream",
          "text": [
            "\u001b[0m\r\n",
            "\u001b[34m\u001b[1m  You can now view your Streamlit app in your browser.\u001b[0m\r\n",
            "\u001b[0m\r\n",
            "\u001b[34m  Network URL: \u001b[0m\u001b[1mhttp://172.18.0.2:8501\u001b[0m\r\n",
            "\u001b[34m  External URL: \u001b[0m\u001b[1mhttp://34.159.238.1:8501\u001b[0m\r\n",
            "\u001b[0m\r\n"
          ]
        },
        {
          "name": "stdout",
          "output_type": "stream",
          "text": [
            "^C\r\n",
            "\u001b[34m  Stopping...\u001b[0m\r\n"
          ]
        }
      ],
      "source": [
        "! streamlit run streamlit_label_outliers.py"
      ]
    }
  ],
  "metadata": {},
  "nbformat": 4,
  "nbformat_minor": 0
}