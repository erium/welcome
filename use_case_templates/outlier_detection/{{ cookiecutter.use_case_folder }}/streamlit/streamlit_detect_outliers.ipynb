{
 "cells": [
  {
   "cell_type": "code",
   "connections": [
    {
     "endLine": 1,
     "id": "575b8adf-c236-4cdd-9ba9-de22998864ca",
     "startLine": 1
    },
    {
     "endLine": 2,
     "id": "a806ba7b-9e80-44e4-bb02-ec36b9ee2781",
     "startLine": 2
    },
    {
     "endLine": 3,
     "id": "885b9e67-d7e4-44a3-a845-9115db406740",
     "startLine": 3
    },
    {
     "endLine": 4,
     "id": "6fa4b492-72f3-45fa-bae6-ea585686ebf9",
     "startLine": 4
    },
    {
     "endLine": 5,
     "id": "426210b3-cc96-468b-8438-dfc234e90e71",
     "startLine": 5
    }
   ],
   "execution_count": 0,
   "metadata": {
    "id": "e0b9b35a-f4d3-4a2b-986b-0a9c198ac550"
   },
   "outputs": [],
   "source": [
    "# Link from autoencoder.board\r\n",
    "# Link from bayesian_supervised.board\r\n",
    "# Link from bayesian_unsupervised.board\r\n",
    "# Link from supervised.board\r\n",
    "# Link from unsupervised.board\r\n",
    "\r\n",
    "! get_apps_url.sh"
   ]
  },
  {
   "cell_type": "code",
   "connections": [],
   "execution_count": 0,
   "metadata": {
    "id": "ca53fdae-25e3-4ffa-9cfb-b3b25426b364"
   },
   "outputs": [],
   "source": [
    "! streamlit run streamlit_detect_outliers.py"
   ]
  }
 ],
 "metadata": {},
 "nbformat": 4,
 "nbformat_minor": 0
}
