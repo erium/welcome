{
 "cells": [
  {
   "cell_type": "code",
   "connections": [],
   "execution_count": 4,
   "metadata": {
    "id": "523750e6-7aa2-4aec-9e6d-82f9e201b4b7"
   },
   "outputs": [],
   "source": [
    "import os\r\n",
    "import shutil\r\n",
    "from datetime import date"
   ]
  },
  {
   "cell_type": "code",
   "connections": [],
   "execution_count": 5,
   "metadata": {
    "id": "9c1501b9-274d-4b61-b4ad-11891cfd1992"
   },
   "outputs": [],
   "source": [
    "today = str(date.today()) + '_'\r\n",
    "directory_name = 'outlier_detection'\r\n",
    "source_dir = os.getcwd()\r\n",
    "source_dir\r\n",
    "os.rename(directory_name, today + directory_name)"
   ]
  },
  {
   "cell_type": "code",
   "connections": [],
   "execution_count": 5,
   "metadata": {
    "id": "79f65b53-5310-4281-8dd3-7a0cac2bc005"
   },
   "outputs": [],
   "source": []
  }
 ],
 "metadata": {},
 "nbformat": 4,
 "nbformat_minor": 0
}
