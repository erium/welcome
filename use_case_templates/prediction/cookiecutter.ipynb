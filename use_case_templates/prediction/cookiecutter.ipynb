{
 "cells": [
  {
   "cell_type": "code",
   "connections": [
    {
     "endLine": 1,
     "id": "dcf831b0-d7a1-49ae-8e60-ba7a37998074",
     "path": "/Personal/zihan/prediction/cookiecutter.ipynb",
     "startLine": 1
    }
   ],
   "execution_count": 1,
   "metadata": {
    "id": "23260e97-01b4-4e90-b099-060120b34510"
   },
   "outputs": [],
   "source": [
    "from cookiecutter.main import cookiecutter\n",
    "from datetime import date"
   ]
  },
  {
   "cell_type": "code",
   "connections": [],
   "execution_count": 2,
   "metadata": {
    "id": "c16cbb4d-09d3-4866-bbfa-51171ebf3a2b"
   },
   "outputs": [
    {
     "name": "stdout",
     "output_type": "stream",
     "text": [
      "directory_name [prediction]:"
     ]
    },
    {
     "name": "stdout",
     "output_type": "stream",
     "text": [
      "  "
     ]
    },
    {
     "name": "stdout",
     "output_type": "stream",
     "text": [
      "timestamp [2022-03-25]:"
     ]
    },
    {
     "name": "stdout",
     "output_type": "stream",
     "text": [
      "  "
     ]
    },
    {
     "name": "stdout",
     "output_type": "stream",
     "text": [
      "timestamp_directory_name [2022-03-25_prediction]:"
     ]
    },
    {
     "name": "stdout",
     "output_type": "stream",
     "text": [
      "  "
     ]
    },
    {
     "name": "stdout",
     "output_type": "stream",
     "text": [
      "destination_path [current]:"
     ]
    },
    {
     "name": "stdout",
     "output_type": "stream",
     "text": [
      "  "
     ]
    },
    {
     "name": "stdout",
     "output_type": "stream",
     "text": [
      "project_name ['Prediction']:"
     ]
    },
    {
     "name": "stdout",
     "output_type": "stream",
     "text": [
      "  "
     ]
    },
    {
     "name": "stdout",
     "output_type": "stream",
     "text": [
      "data_path [default example]:"
     ]
    },
    {
     "name": "stdout",
     "output_type": "stream",
     "text": [
      "  "
     ]
    },
    {
     "name": "stdout",
     "output_type": "stream",
     "text": [
      "Select model_templates:\n",
      "1 - 1-regression\n",
      "Choose from 1 [1]:"
     ]
    },
    {
     "name": "stdout",
     "output_type": "stream",
     "text": [
      "  "
     ]
    },
    {
     "data": {
      "text/plain": [
       "'/home/jovyan/Personal/zihan/prediction/2022-03-25_prediction'"
      ]
     },
     "execution_count": 2,
     "metadata": {},
     "output_type": "execute_result"
    }
   ],
   "source": [
    "cookiecutter('./../prediction', extra_context={'timestamp': str(date.today())})"
   ]
  }
 ],
 "metadata": {},
 "nbformat": 4,
 "nbformat_minor": 0
}
