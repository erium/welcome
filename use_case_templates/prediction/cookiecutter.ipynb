{
 "cells": [
  {
   "cell_type": "code",
   "connections": [
    {
     "endLine": 1,
     "id": "dcf831b0-d7a1-49ae-8e60-ba7a37998074",
     "path": "/Personal/zihan/prediction/cookiecutter.ipynb",
     "startLine": 1
    }
   ],
   "execution_count": 0,
   "metadata": {
    "id": "23260e97-01b4-4e90-b099-060120b34510"
   },
   "outputs": [],
   "source": [
    "from cookiecutter.main import cookiecutter\n",
    "from datetime import date\n",
    "import glob"
   ]
  },
  {
   "cell_type": "code",
   "connections": [],
   "execution_count": 0,
   "metadata": {
    "id": "ea07bae8-2b5f-4bb6-bba8-f4ed596f78a7"
   },
   "outputs": [],
   "source": [
    "# Specify the name of your project folder (copied into the experiments folder)\r\n",
    "project_folder = '' # Enter the name of your project folder\r\n",
    "\r\n",
    "experiments_dir = glob.glob(\"/home/jovyan/**/\" + project_folder + \"/experiments/\", recursive=True)\r\n",
    "if len(experiments_dir) > 1:\r\n",
    "    print(\"Multiple project folders with the same name. You may select which project folder is correct\")\r\n",
    "    print(experiments_dir)\r\n",
    "    index = int(input(\"Please input the index of the correct folder\"))\r\n",
    "    experiments_dir = experiments_dir[index]\r\n",
    "else:\r\n",
    "    experiments_dir = experiments_dir[0]\r\n",
    "print(experiments_dir)\r\n",
    "\r\n",
    "cookiecutter('.', \r\n",
    "            extra_context={'timestamp': str(date.today())},\r\n",
    "            output_dir=experiments_dir)"
   ]
  },
  {
   "cell_type": "code",
   "connections": [],
   "execution_count": 0,
   "metadata": {
    "id": "c16cbb4d-09d3-4866-bbfa-51171ebf3a2b"
   },
   "outputs": [],
   "source": [
    "# OR specify a folder directly to copy the template\r\n",
    "directory = '.'\r\n",
    "\r\n",
    "cookiecutter('.', \r\n",
    "            extra_context={'timestamp': str(date.today()), 'author_name': 'zihan', 'model_templates': '1-regression'},\r\n",
    "            output_dir=directory)"
   ]
  }
 ],
 "metadata": {},
 "nbformat": 4,
 "nbformat_minor": 0
}
