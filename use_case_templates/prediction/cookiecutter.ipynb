{
 "cells": [
  {
   "cell_type": "code",
   "connections": [
    {
     "endLine": 1,
     "id": "dcf831b0-d7a1-49ae-8e60-ba7a37998074",
     "path": "/Personal/zihan/prediction/cookiecutter.ipynb",
     "startLine": 1
    }
   ],
   "execution_count": 0,
   "metadata": {
    "id": "23260e97-01b4-4e90-b099-060120b34510"
   },
   "outputs": [],
   "source": [
    "from cookiecutter.main import cookiecutter\n",
    "from datetime import date"
   ]
  },
  {
   "cell_type": "code",
   "connections": [],
   "execution_count": 0,
   "metadata": {
    "id": "ea07bae8-2b5f-4bb6-bba8-f4ed596f78a7"
   },
   "outputs": [],
   "source": [
    "# specify the location of your experiments' folder \r\n",
    "experiments_dir = '.'"
   ]
  },
  {
   "cell_type": "code",
   "connections": [],
   "execution_count": 0,
   "metadata": {
    "id": "c16cbb4d-09d3-4866-bbfa-51171ebf3a2b"
   },
   "outputs": [],
   "source": [
    "cookiecutter('.', \r\n",
    "            extra_context={'timestamp': str(date.today())},\r\n",
    "            output_dir=experiments_dir)"
   ]
  }
 ],
 "metadata": {},
 "nbformat": 4,
 "nbformat_minor": 0
}
