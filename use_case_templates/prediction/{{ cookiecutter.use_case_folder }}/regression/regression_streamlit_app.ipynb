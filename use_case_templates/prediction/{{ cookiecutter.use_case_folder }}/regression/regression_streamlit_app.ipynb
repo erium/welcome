{
 "cells": [
  {
   "cell_type": "code",
   "connections": [
    {
     "endLine": 1,
     "id": "64d383ce-e353-4b35-8c8b-591a99ff9eeb",
     "startLine": 1
    }
   ],
   "execution_count": 0,
   "metadata": {
    "id": "72c70fec-3ddc-47ff-a8ff-d5aeffbc531e"
   },
   "outputs": [],
   "source": [
    "! get_apps_url.sh"
   ]
  },
  {
   "cell_type": "code",
   "connections": [],
   "execution_count": 0,
   "metadata": {
    "id": "3ee66a3f-c408-44e4-9c13-2fb2eed22abe"
   },
   "outputs": [],
   "source": [
    "! streamlit run regression_streamlit.py"
   ]
  }
 ],
 "metadata": {},
 "nbformat": 4,
 "nbformat_minor": 0
}
