{
 "cells": [
  {
   "cell_type": "code",
   "connections": [],
   "execution_count": 0,
   "metadata": {
    "id": "72c70fec-3ddc-47ff-a8ff-d5aeffbc531e"
   },
   "outputs": [],
   "source": [
    "! get_apps_url.sh"
   ]
  },
  {
   "cell_type": "code",
   "connections": [],
   "execution_count": 0,
   "metadata": {
    "id": "3ee66a3f-c408-44e4-9c13-2fb2eed22abe"
   },
   "outputs": [],
   "source": [
    "! streamlit run regression_streamlit.py"
   ]
  }
 ],
 "metadata": {},
 "nbformat": 4,
 "nbformat_minor": 0
}
